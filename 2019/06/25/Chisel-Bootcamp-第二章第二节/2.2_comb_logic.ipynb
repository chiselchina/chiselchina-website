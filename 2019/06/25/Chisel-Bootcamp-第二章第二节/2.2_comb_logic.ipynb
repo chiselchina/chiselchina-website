{
 "cells": [
  {
   "cell_type": "markdown",
   "metadata": {
    "collapsed": true
   },
   "source": [
    "# 第二章第二节：组合逻辑\n",
    "\n",
    "## 本节的目的\n",
    "在这一节中，您将了解如何使用Chisel组件来实现组合逻辑。我们将演示三种基本的Chisel类型：`UInt `-无符号整数；`SInt`-有符号整数和`Bool`-  true或false。\n",
    "注意所有Chisel变量都被声明为Scala的常量类型`val`。\n",
    "永远不要将Scala的变量`var`用来构造硬件，因为硬件本身在定义之后就不应该再改变了；只有在电路运行的时候它的值才可能会改变。\n",
    "线（Wire）可使用参数化的类型。\n",
    "\n",
    "## 设置"
   ]
  },
  {
   "cell_type": "code",
   "execution_count": null,
   "metadata": {
    "scrolled": false
   },
   "outputs": [],
   "source": [
    "val path = System.getProperty(\"user.dir\") + \"/source/load-ivy.sc\"\n",
    "interp.load.module(ammonite.ops.Path(java.nio.file.FileSystems.getDefault().getPath(path)))"
   ]
  },
  {
   "cell_type": "code",
   "execution_count": null,
   "metadata": {},
   "outputs": [],
   "source": [
    "import chisel3._\n",
    "import chisel3.util._\n",
    "import chisel3.iotesters.{ChiselFlatSpec, Driver, PeekPokeTester}"
   ]
  },
  {
   "cell_type": "markdown",
   "metadata": {},
   "source": [
    "---\n",
    "# 常用操作符\n",
    "\n",
    "现在您已经学习了模块`Module`的构造方式，我们接下来开始设计一些硬件！看看下面的空模块："
   ]
  },
  {
   "cell_type": "code",
   "execution_count": 3,
   "metadata": {},
   "outputs": [
    {
     "data": {
      "text/plain": [
       "defined \u001b[32mclass\u001b[39m \u001b[36mMyModule\u001b[39m"
      ]
     },
     "execution_count": 3,
     "metadata": {},
     "output_type": "execute_result"
    }
   ],
   "source": [
    "class MyModule extends Module {\n",
    "  val io = IO(new Bundle {\n",
    "    val in  = Input(UInt(4.W))\n",
    "    val out = Output(UInt(4.W))\n",
    "  })\n",
    "}"
   ]
  },
  {
   "cell_type": "markdown",
   "metadata": {},
   "source": [
    "我们将这个模块称为`MyModule`，它从Chisel类型`Module`继承，这意味着它将用来生成Verilog中的硬件模块。`MyModule`模块有一个输入和一个输出，输入是一个4比特的无符号整数（`UInt`），输出也是同样的类型。\n",
    "\n",
    "<span style=\"color:blue\">**例子：Scala和Chisel的操作符看上去没有区别**</span><br>\n",
    "我们可以对数据执行不同的操作："
   ]
  },
  {
   "cell_type": "code",
   "execution_count": 4,
   "metadata": {},
   "outputs": [
    {
     "name": "stdout",
     "output_type": "stream",
     "text": [
      "[\u001b[35minfo\u001b[0m] [0.002] Elaborating design...\n",
      "2\n",
      "UInt<1>(OpResult in cmd3$Helper$MyModule)\n",
      "[\u001b[35minfo\u001b[0m] [0.733] Done elaborating.\n",
      "Total FIRRTL Compile Time: 493.4 ms\n",
      "module cmd3HelperMyModule(\n",
      "  input        clock,\n",
      "  input        reset,\n",
      "  input  [3:0] io_in,\n",
      "  output [3:0] io_out\n",
      ");\n",
      "  assign io_out = io_in; // @[cmd3.sc 12:10]\n",
      "endmodule\n",
      "\n"
     ]
    },
    {
     "data": {
      "text/plain": [
       "defined \u001b[32mclass\u001b[39m \u001b[36mMyModule\u001b[39m"
      ]
     },
     "execution_count": 4,
     "metadata": {},
     "output_type": "execute_result"
    }
   ],
   "source": [
    "class MyModule extends Module {\n",
    "  val io = IO(new Bundle {\n",
    "    val in  = Input(UInt(4.W))\n",
    "    val out = Output(UInt(4.W))\n",
    "  })\n",
    "\n",
    "  val two  = 1 + 1\n",
    "  println(two)\n",
    "  val utwo = 1.U + 1.U\n",
    "  println(utwo)\n",
    "  \n",
    "  io.out := io.in\n",
    "}\n",
    "println(getVerilog(new MyModule))"
   ]
  },
  {
   "cell_type": "markdown",
   "metadata": {},
   "source": [
    "我们定义了两个`val`，第一个将两个Scala的`Int`类型的值相加，所以`println`打印出整数2；而第二个`val`是将两个*Chisel*的`UInt`类型相加，所以`println`将它看作硬件节点，并打印出类型名称和指针（`chisel3.core.UInt@d`-注意这里和notebook的结果不一致）。另外注意，`1.U`是一个类型转换，它从Scala的`Int`类型（1）转换成Chisel的`UInt`的literal值。\n",
    "\n",
    "我们需要驱动输出，所以我们将它和输入相连接，就像上一节中的passthrough模块一样。\n",
    "\n",
    "<span style=\"color:blue\">**例子：不兼容的操作**</span><br>\n",
    "如果将一个Chisel类型`1.U`和一个Scala类型`1`相加会发生什么？这两个类型是不兼容的，因为前者是描述硬件的线（Wire），它的值为1，而后者是Scala的值1，所以Chisel会给出类型不匹配的错误。"
   ]
  },
  {
   "cell_type": "code",
   "execution_count": 4,
   "metadata": {},
   "outputs": [
    {
     "name": "stderr",
     "output_type": "stream",
     "text": [
      "cmd4.sc:7: type mismatch;\n",
      " found   : Int(1)\n",
      " required: chisel3.core.UInt\n",
      "  val twotwo = 1.U + 1\n",
      "                     ^Compilation Failed"
     ]
    },
    {
     "ename": "",
     "evalue": "",
     "output_type": "error",
     "traceback": [
      "Compilation Failed"
     ]
    }
   ],
   "source": [
    "class MyModuleTwo extends Module {\n",
    "  val io = IO(new Bundle {\n",
    "    val in  = Input(UInt(4.W))\n",
    "    val out = Output(UInt(4.W))\n",
    "  })\n",
    "\n",
    "  val twotwo = 1.U + 1\n",
    "  println(twotwo)\n",
    "  \n",
    "  io.out := io.in\n",
    "}\n",
    "println(getVerilog(new MyModule))"
   ]
  },
  {
   "cell_type": "markdown",
   "metadata": {},
   "source": [
    "在操作时区分类型非常重要，Scala是一种强类型语言，所以任何类型转换都必须是显式的。\n",
    "\n",
    "<span style=\"color:blue\">**例子：更多的Chisel操作**</span><br>\n",
    "其他常见操作是减法和乘法。这些是对于无符号整数的操作，我们下面具体来看看这些操作。最后打印出了生成的Verilog（注意生成的Verilog代码里可能混有一些其他的功能）。"
   ]
  },
  {
   "cell_type": "code",
   "execution_count": 5,
   "metadata": {},
   "outputs": [
    {
     "name": "stdout",
     "output_type": "stream",
     "text": [
      "[\u001b[35minfo\u001b[0m] [0.001] Elaborating design...\n",
      "[\u001b[35minfo\u001b[0m] [0.012] Done elaborating.\n",
      "Total FIRRTL Compile Time: 47.7 ms\n",
      "module cmd4HelperMyOperators(\n",
      "  input        clock,\n",
      "  input        reset,\n",
      "  input  [3:0] io_in,\n",
      "  output [3:0] io_out_add,\n",
      "  output [3:0] io_out_sub,\n",
      "  output [3:0] io_out_mul\n",
      ");\n",
      "  wire [1:0] _T_3; // @[cmd4.sc 10:21]\n",
      "  wire [4:0] _T_4; // @[cmd4.sc 11:21]\n",
      "  assign _T_3 = 2'h2 - 2'h1; // @[cmd4.sc 10:21]\n",
      "  assign _T_4 = 3'h4 * 3'h2; // @[cmd4.sc 11:21]\n",
      "  assign io_out_add = 4'h5; // @[cmd4.sc 9:14]\n",
      "  assign io_out_sub = {{2'd0}, _T_3}; // @[cmd4.sc 10:14]\n",
      "  assign io_out_mul = _T_4[3:0]; // @[cmd4.sc 11:14]\n",
      "endmodule\n",
      "\n"
     ]
    },
    {
     "data": {
      "text/plain": [
       "defined \u001b[32mclass\u001b[39m \u001b[36mMyOperators\u001b[39m"
      ]
     },
     "execution_count": 5,
     "metadata": {},
     "output_type": "execute_result"
    }
   ],
   "source": [
    "class MyOperators extends Module {\n",
    "  val io = IO(new Bundle {\n",
    "    val in      = Input(UInt(4.W))\n",
    "    val out_add = Output(UInt(4.W))\n",
    "    val out_sub = Output(UInt(4.W))\n",
    "    val out_mul = Output(UInt(4.W))\n",
    "  })\n",
    "\n",
    "  io.out_add := 1.U + 4.U\n",
    "  io.out_sub := 2.U - 1.U\n",
    "  io.out_mul := 4.U * 2.U\n",
    "}\n",
    "println(getVerilog(new MyOperators))"
   ]
  },
  {
   "cell_type": "markdown",
   "metadata": {},
   "source": [
    "下面是上面模块的测试代码。我们将显式地创建一个测试类，而不是像上一节中使用匿名测试类。这是编写测试的另一种方法。"
   ]
  },
  {
   "cell_type": "code",
   "execution_count": 6,
   "metadata": {},
   "outputs": [
    {
     "name": "stdout",
     "output_type": "stream",
     "text": [
      "[\u001b[35minfo\u001b[0m] [0.000] Elaborating design...\n",
      "[\u001b[35minfo\u001b[0m] [0.005] Done elaborating.\n",
      "Total FIRRTL Compile Time: 30.9 ms\n",
      "Total FIRRTL Compile Time: 17.4 ms\n",
      "End of dependency graph\n",
      "Circuit state created\n",
      "[\u001b[35minfo\u001b[0m] [0.001] SEED 1561520754437\n",
      "test cmd4HelperMyOperators Success: 3 tests passed in 5 cycles taking 0.019918 seconds\n",
      "[\u001b[35minfo\u001b[0m] [0.006] RAN 0 CYCLES PASSED\n",
      "SUCCESS!!\n"
     ]
    },
    {
     "data": {
      "text/plain": [
       "defined \u001b[32mclass\u001b[39m \u001b[36mMyOperatorsTester\u001b[39m"
      ]
     },
     "execution_count": 6,
     "metadata": {},
     "output_type": "execute_result"
    }
   ],
   "source": [
    "class MyOperatorsTester(c: MyOperators) extends PeekPokeTester(c) {\n",
    "  expect(c.io.out_add, 5)\n",
    "  expect(c.io.out_sub, 1)\n",
    "  expect(c.io.out_mul, 8)\n",
    "}\n",
    "assert(Driver(() => new MyOperators) {c => new MyOperatorsTester(c)})\n",
    "println(\"SUCCESS!!\")"
   ]
  },
  {
   "cell_type": "markdown",
   "metadata": {},
   "source": [
    "<span style=\"color:blue\">**例子：多路复用（Mux)和连接(Concatenation)**</span><br>\n",
    "除了加法，减法和乘法，Chisel还有多路复用（Mux)和连接(Concatenation)操作符。如下面代码所示。`Mux`操作类似于传统的三元操作符，其参数顺序为（select，如果select为true的值，如果select为false的值）。注意，`true.B`和`false.B`是创建Chisel Bool的首选方法。 \n",
    "`Cat`操作符的参数顺序是高位，然后低位，它只有两个参数。连接两个以上的值需要多个`Cat`操作，或者在本教程的后面会介绍高级的Chisel和Scala功能。"
   ]
  },
  {
   "cell_type": "code",
   "execution_count": 7,
   "metadata": {},
   "outputs": [
    {
     "name": "stdout",
     "output_type": "stream",
     "text": [
      "[\u001b[35minfo\u001b[0m] [0.000] Elaborating design...\n",
      "[\u001b[35minfo\u001b[0m] [0.015] Done elaborating.\n",
      "Total FIRRTL Compile Time: 33.6 ms\n",
      "module cmd6HelperMyOperatorsTwo(\n",
      "  input        clock,\n",
      "  input        reset,\n",
      "  input  [3:0] io_in,\n",
      "  output [3:0] io_out_mux,\n",
      "  output [3:0] io_out_cat\n",
      ");\n",
      "  assign io_out_mux = 4'h3; // @[cmd6.sc 9:14]\n",
      "  assign io_out_cat = 4'h5; // @[cmd6.sc 10:14]\n",
      "endmodule\n",
      "\n",
      "[\u001b[35minfo\u001b[0m] [0.000] Elaborating design...\n",
      "[\u001b[35minfo\u001b[0m] [0.006] Done elaborating.\n",
      "Total FIRRTL Compile Time: 18.5 ms\n",
      "Total FIRRTL Compile Time: 11.3 ms\n",
      "End of dependency graph\n",
      "Circuit state created\n",
      "[\u001b[35minfo\u001b[0m] [0.001] SEED 1561521203773\n",
      "test cmd6HelperMyOperatorsTwo Success: 2 tests passed in 5 cycles taking 0.004585 seconds\n",
      "[\u001b[35minfo\u001b[0m] [0.004] RAN 0 CYCLES PASSED\n",
      "SUCCESS!!\n"
     ]
    },
    {
     "data": {
      "text/plain": [
       "defined \u001b[32mclass\u001b[39m \u001b[36mMyOperatorsTwo\u001b[39m\n",
       "defined \u001b[32mclass\u001b[39m \u001b[36mMyOperatorsTwoTester\u001b[39m"
      ]
     },
     "execution_count": 7,
     "metadata": {},
     "output_type": "execute_result"
    }
   ],
   "source": [
    "class MyOperatorsTwo extends Module {\n",
    "  val io = IO(new Bundle {\n",
    "    val in      = Input(UInt(4.W))\n",
    "    val out_mux = Output(UInt(4.W))\n",
    "    val out_cat = Output(UInt(4.W))\n",
    "  })\n",
    "\n",
    "  val s = true.B\n",
    "  io.out_mux := Mux(s, 3.U, 0.U) // 这里会返回 3.U，因为 s 的值是 true\n",
    "  io.out_cat := Cat(2.U, 1.U)    // 连接 2 (b10) 和 1 (b1)，得到 5 (101)\n",
    "}\n",
    "\n",
    "println(getVerilog(new MyOperatorsTwo))\n",
    "class MyOperatorsTwoTester(c: MyOperatorsTwo) extends PeekPokeTester(c) {\n",
    "  expect(c.io.out_mux, 3)\n",
    "  expect(c.io.out_cat, 5)\n",
    "}\n",
    "assert(Driver(() => new MyOperatorsTwo) {c => new MyOperatorsTwoTester(c)})\n",
    "println(\"SUCCESS!!\")"
   ]
  },
  {
   "cell_type": "markdown",
   "metadata": {
    "collapsed": true
   },
   "source": [
    "注意生成的Verilog中只包含常量，而不是真正生成了多路复用或连接的逻辑，这是因为FIRRTL的中间转换过程简化了电路，优化了逻辑。\n",
    "\n",
    "关于完整的Chisel操作，见[Chisel cheatsheet](https://chisel.eecs.berkeley.edu/documentation.html)。最完整的操作以及它们的实现，参见[Chisel API](https://chisel.eecs.berkeley.edu/api/#package)."
   ]
  },
  {
   "cell_type": "markdown",
   "metadata": {},
   "source": [
    "---\n",
    "# 练习\n",
    "完成这些练习可能需要参考[Chisel cheatsheet](https://chisel.eecs.berkeley.edu/documentation.html)。"
   ]
  },
  {
   "cell_type": "markdown",
   "metadata": {},
   "source": [
    "<span style=\"color:red\">**练习：MAC**</span><br>\n",
    "创建一个Chisel模块，实现乘加-`(A*B)+C`，并通过测试。"
   ]
  },
  {
   "cell_type": "code",
   "execution_count": null,
   "metadata": {},
   "outputs": [],
   "source": [
    "class MAC extends Module {\n",
    "  val io = IO(new Bundle {\n",
    "    val in_a = Input(UInt(4.W))\n",
    "    val in_b = Input(UInt(4.W))\n",
    "    val in_c = Input(UInt(4.W))\n",
    "    val out  = Output(UInt(8.W))\n",
    "  })\n",
    "\n",
    "  ???\n",
    "}\n",
    "class MACTester(c: MAC) extends PeekPokeTester(c) {\n",
    "  val cycles = 100\n",
    "  import scala.util.Random\n",
    "  for (i <- 0 until cycles) {\n",
    "    val in_a = Random.nextInt(16)\n",
    "    val in_b = Random.nextInt(16)\n",
    "    val in_c = Random.nextInt(16)\n",
    "    poke(c.io.in_a, in_a)\n",
    "    poke(c.io.in_b, in_b)\n",
    "    poke(c.io.in_c, in_c)\n",
    "    expect(c.io.out, in_a*in_b+in_c)\n",
    "  }\n",
    "}\n",
    "assert(Driver(() => new MAC) {c => new MACTester(c)})\n",
    "println(\"SUCCESS!!\")"
   ]
  },
  {
   "cell_type": "markdown",
   "metadata": {},
   "source": [
    "<div id=\"container\"><section id=\"accordion\"><div>\n",
    "<input type=\"checkbox\" id=\"check-1\" />\n",
    "<label for=\"check-1\"><strong>答案</strong></label>\n",
    "<article>\n",
    "<pre style=\"background-color:#f7f7f7\">\n",
    "class MAC extends Module {\n",
    "  val io = IO(new Bundle {\n",
    "    val in_a = Input(UInt(4.W))\n",
    "    val in_b = Input(UInt(4.W))\n",
    "    val in_c = Input(UInt(4.W))\n",
    "    val out  = Output(UInt(8.W))\n",
    "  })\n",
    "\n",
    "  io.out := (io.in_a * io.in_b) + io.in_c\n",
    "}\n",
    "</pre></article></div></section></div>"
   ]
  },
  {
   "cell_type": "markdown",
   "metadata": {
    "collapsed": true
   },
   "source": [
    "<span style=\"color:red\">**练习：仲裁器（Arbiter）**</span><br>\n",
    "下面的电路将来自FIFO的数据仲裁并分配给两个并行处理单元。 FIFO和并行处理单元（PE）之间通过ready-valid接口通信。这个仲裁器需要将数据发送到ready的那个PE，如果两个PE都ready的话，则优先发送给PE0。注意，当至少有一个PE可以接收数据时，仲裁器必须告诉FIFO它的状态是ready。另外，只有等PE ready之后，才能将数据置成valid。您很可能需要二元操作来完成这个练习。\n",
    "\n",
    "<img src=\"images/arbiter.png\" width=\"687\" height=\"177\">"
   ]
  },
  {
   "cell_type": "code",
   "execution_count": null,
   "metadata": {},
   "outputs": [],
   "source": [
    "class Arbiter extends Module {\n",
    "  val io = IO(new Bundle {\n",
    "    // FIFO\n",
    "    val fifo_valid = Input(Bool())\n",
    "    val fifo_ready = Output(Bool())\n",
    "    val fifo_data  = Input(UInt(16.W))\n",
    "    \n",
    "    // PE0\n",
    "    val pe0_valid  = Output(Bool())\n",
    "    val pe0_ready  = Input(Bool())\n",
    "    val pe0_data   = Output(UInt(16.W))\n",
    "    \n",
    "    // PE1\n",
    "    val pe1_valid  = Output(Bool())\n",
    "    val pe1_ready  = Input(Bool())\n",
    "    val pe1_data   = Output(UInt(16.W))\n",
    "  })\n",
    "\n",
    "  ???  \n",
    "}\n",
    "class ArbiterTester(c: Arbiter) extends PeekPokeTester(c) {\n",
    "  import scala.util.Random\n",
    "  val data = Random.nextInt(65536)\n",
    "  poke(c.io.fifo_data, data)\n",
    "  \n",
    "  for (i <- 0 until 8) {\n",
    "    poke(c.io.fifo_valid, (i>>0)%2)\n",
    "    poke(c.io.pe0_ready,  (i>>1)%2)\n",
    "    poke(c.io.pe1_ready,  (i>>2)%2)\n",
    "\n",
    "    expect(c.io.fifo_ready, i>1)\n",
    "    expect(c.io.pe0_valid,  i==3 || i==7)\n",
    "    expect(c.io.pe1_valid,  i==5)\n",
    "    \n",
    "    if (i == 3 || i ==7) {\n",
    "      expect(c.io.pe0_data, data)\n",
    "    } else if (i == 5) {\n",
    "      expect(c.io.pe1_data, data)\n",
    "    }\n",
    "  }\n",
    "}\n",
    "assert(Driver(() => new Arbiter) {c => new ArbiterTester(c)})\n",
    "println(\"SUCCESS!!\")"
   ]
  },
  {
   "cell_type": "markdown",
   "metadata": {},
   "source": [
    "<div id=\"container\"><section id=\"accordion\"><div>\n",
    "<input type=\"checkbox\" id=\"check-2\" />\n",
    "<label for=\"check-2\"><strong>答案</strong></label>\n",
    "<article>\n",
    "<pre style=\"background-color:#f7f7f7\">\n",
    "  io.fifo_ready := io.pe0_ready || io.pe1_ready\n",
    "  io.pe0_valid := io.fifo_valid && io.pe0_ready\n",
    "  io.pe1_valid := io.fifo_valid && io.pe1_ready && !io.pe0_ready\n",
    "  io.pe0_data := io.fifo_data\n",
    "  io.pe1_data := io.fifo_data\n",
    "</pre></article></div></section></div>"
   ]
  },
  {
   "cell_type": "markdown",
   "metadata": {},
   "source": [
    "<span style=\"color:red\">**练习：参数化加法器（可选练习）**</span><br>\n",
    "这个可选的练习目的是让您了解Chisel最强大的功能之一，它的参数化功能。为了暂时这个功能，我们将构造一个参数化的加法器，它可以在发生溢出时将结果饱和处理（saturate），或截断（truncate，wrap around）。\n",
    "\n",
    "首先，看看下面的`Module`。我们将它的参数称为`saturate`，类型为*Scala*的`Boolean`。注意这不是Chisel的`Bool`类型，所以我们不会创建出一个即包含saturate又包含truncate的硬件加法器，而是创建一个*生成器*，它可以生成saturate的加法器*或者*truncate的加法器。这个决定是在编译时做出的。\n",
    "\n",
    "接下来，注意输入和输出都是4比特的`UInt`类型。Chisel可以自动推断所需要的比特的宽度，如果您参考[cheatsheet](https://chisel.eecs.berkeley.edu/doc/chisel-cheatsheet3.pdf)的话，您可以看到普通加法的结果的宽度就等于两个输入中最宽的那个。这意味下面的代码：\n",
    "\n",
    "```scala\n",
    "val sum = io.in_a + io.in_b\n",
    "```\n",
    "\n",
    "会得到一个4比特宽的`sum`的线（wire），而它的值是被截断（truncate）的。如果需要检查加法的结果是否饱和的话，您需要一个5比特的线。这可以通过 `+&`操作得到。\n",
    "\n",
    "```scala\n",
    "val sum = io.in_a +& io.in_b\n",
    "```\n",
    "\n",
    "Finally, note that connecting a 4-bit `UInt` wire to a 5-bit `UInt` wire will truncate the MSB by default. You can use this to easily truncate the 5-bit sum for the non-saturating adder.\n",
    "最后，注意，将4比特的`UInt`线连接到5比特的`UInt`的线上，默认会将高位截断。您可以用这一特性来轻松实现这个加法器中的截断功能。"
   ]
  },
  {
   "cell_type": "code",
   "execution_count": null,
   "metadata": {},
   "outputs": [],
   "source": [
    "class ParameterizedAdder(saturate: Boolean) extends Module {\n",
    "  val io = IO(new Bundle {\n",
    "    val in_a = Input(UInt(4.W))\n",
    "    val in_b = Input(UInt(4.W))\n",
    "    val out  = Output(UInt(4.W))\n",
    "  })\n",
    "\n",
    "  ???\n",
    "}\n",
    "class ParameterizedAdderTester(c: ParameterizedAdder, saturate: Boolean) extends PeekPokeTester(c) {\n",
    "  // 100 random tests\n",
    "  val cycles = 100\n",
    "  import scala.util.Random\n",
    "  import scala.math.min\n",
    "  for (i <- 0 until cycles) {\n",
    "    val in_a = Random.nextInt(16)\n",
    "    val in_b = Random.nextInt(16)\n",
    "    poke(c.io.in_a, in_a)\n",
    "    poke(c.io.in_b, in_b)\n",
    "    if (saturate) {\n",
    "      expect(c.io.out, min(in_a+in_b, 15))\n",
    "    } else {\n",
    "      expect(c.io.out, (in_a+in_b)%16)\n",
    "    }\n",
    "  }\n",
    "  \n",
    "  // ensure we test saturation vs. truncation\n",
    "  poke(c.io.in_a, 15)\n",
    "  poke(c.io.in_b, 15)\n",
    "  if (saturate) {\n",
    "    expect(c.io.out, 15)\n",
    "  } else {\n",
    "    expect(c.io.out, 14)\n",
    "  }\n",
    "}\n",
    "for (saturate <- Seq(true, false)) {\n",
    "  assert(Driver(() => new ParameterizedAdder(saturate)) {c => new ParameterizedAdderTester(c, saturate)})\n",
    "}\n",
    "println(\"SUCCESS!!\")"
   ]
  },
  {
   "cell_type": "markdown",
   "metadata": {},
   "source": [
    "<div id=\"container\"><section id=\"accordion\"><div>\n",
    "<input type=\"checkbox\" id=\"check-3\" />\n",
    "<label for=\"check-3\"><strong>答案</strong></label>\n",
    "<article>\n",
    "<pre style=\"background-color:#f7f7f7\">\n",
    "  val sum = io.in_a +& io.in_b\n",
    "  if (saturate) {\n",
    "    io.out := Mux(sum > 15.U, 15.U, sum)\n",
    "  } else {\n",
    "    io.out := sum\n",
    "  }\n",
    "</pre></article></div></section></div>"
   ]
  },
  {
   "cell_type": "markdown",
   "metadata": {},
   "source": [
    "---\n",
    "# 本节结束!\n",
    "\n",
    "[返回顶部](#top)"
   ]
  }
 ],
 "metadata": {
  "kernelspec": {
   "display_name": "Scala",
   "language": "scala",
   "name": "scala"
  },
  "language_info": {
   "codemirror_mode": "text/x-scala",
   "file_extension": ".scala",
   "mimetype": "text/x-scala",
   "name": "scala",
   "nbconvert_exporter": "script",
   "version": "2.12.8"
  }
 },
 "nbformat": 4,
 "nbformat_minor": 2
}
