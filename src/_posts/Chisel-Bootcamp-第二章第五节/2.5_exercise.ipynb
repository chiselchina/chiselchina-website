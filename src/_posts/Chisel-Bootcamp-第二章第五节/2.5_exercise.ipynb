{
 "cells": [
  {
   "cell_type": "markdown",
   "metadata": {},
   "source": [
    "# 第二章第五节：结合前面所学的练习：一个有限脉冲响应（FIR）滤波器（Filter）\n",
    "\n",
    "## 本节的目的\n",
    "\n",
    "现在您已经学习了Chisel的基础知识，那么让我们利用这些知识来构建一个FIR（有限脉冲响应）滤波器模块！ FIR滤波器在数字信号处理中非常常见。此外，FIR滤波器将在第三章中频繁出现，因此最好不要跳过这一节！如果您不熟悉FIR滤波器，请访问[维基百科](https://en.wikipedia.org/wiki/Finite_impulse_response)来了解更多信息。\n",
    "\n",
    "## 设置"
   ]
  },
  {
   "cell_type": "code",
   "execution_count": null,
   "metadata": {},
   "outputs": [],
   "source": [
    "val path = System.getProperty(\"user.dir\") + \"/source/load-ivy.sc\"\n",
    "interp.load.module(ammonite.ops.Path(java.nio.file.FileSystems.getDefault().getPath(path)))"
   ]
  },
  {
   "cell_type": "code",
   "execution_count": 2,
   "metadata": {},
   "outputs": [
    {
     "data": {
      "text/plain": [
       "\u001b[32mimport \u001b[39m\u001b[36mchisel3._\n",
       "\u001b[39m\n",
       "\u001b[32mimport \u001b[39m\u001b[36mchisel3.util._\n",
       "\u001b[39m\n",
       "\u001b[32mimport \u001b[39m\u001b[36mchisel3.iotesters.{ChiselFlatSpec, Driver, PeekPokeTester}\u001b[39m"
      ]
     },
     "execution_count": 2,
     "metadata": {},
     "output_type": "execute_result"
    }
   ],
   "source": [
    "import chisel3._\n",
    "import chisel3.util._\n",
    "import chisel3.iotesters.{ChiselFlatSpec, Driver, PeekPokeTester}"
   ]
  },
  {
   "cell_type": "markdown",
   "metadata": {
    "nbpresent": {
     "id": "2e849671-a1e9-48b2-9bba-eb916ac623c6"
    }
   },
   "source": [
    "---\n",
    "# FIR滤波器\n",
    "\n",
    "您将要设计的这个FIR滤波器包含如下操作：\n",
    "\n",
    "<img src=\"images/fir.jpg\" width=\"720\">\n",
    "\n",
    "基本上，这将滤波器系数与输入信号的每个元素分别相乘，并输出相加之后的总和（也称为 _卷积_）。\n",
    "\n",
    "或者，用信号来定义：\n",
    "\n",
    "$y[n] = b_0 x[n] + b_1 x[n-1] + b_2 x[n-2] + ...$\n",
    " - $y[n]$ 是在时间 $n$ 的输出信号\n",
    " - $x[n]$ 是输入信号\n",
    " - $b_i$ 是滤波器系数或脉冲响应\n",
    " - $n-1$, $n-2$, ... 表示在时间 $n$ 分别被延迟 1, 2, ... 个时钟周期的下标\n",
    " \n",
    "## 规格说明\n",
    "\n",
    "构建一个4元FIR滤波器，其中四个滤波器的系数作为参数。我们为您提供模块代码的框架和基本测试。\n",
    "请注意，输入和输出都是8位无符号整数。您需要使用类似移位寄存器的结构来保存必要的状态（如延迟的信号值）。并使用下面提供的测试来检查您的实现。\n",
    "具有常量输入的寄存器可以使用移位值为1的`ShiftRegister`来创建或使用`RegNext`。\n",
    "\n",
    "注意：要通过测试的话，寄存器初始值必须为`0.U`。"
   ]
  },
  {
   "cell_type": "code",
   "execution_count": null,
   "metadata": {
    "nbpresent": {
     "id": "26e4a686-0397-4306-985c-813909256c95"
    }
   },
   "outputs": [],
   "source": [
    "class My4ElementFir(b0: Int, b1: Int, b2: Int, b3: Int) extends Module {\n",
    "  val io = IO(new Bundle {\n",
    "    val in = Input(UInt(8.W))\n",
    "    val out = Output(UInt(8.W))\n",
    "  })\n",
    "\n",
    "  ???\n",
    "}"
   ]
  },
  {
   "cell_type": "code",
   "execution_count": null,
   "metadata": {
    "nbpresent": {
     "id": "ddf24b7b-09a2-46f0-b1d8-cb2ca7976b4b"
    }
   },
   "outputs": [],
   "source": [
    "// 可用性测试（sanity test）：具有全零系数的滤波器输出应始终为零\n",
    "Driver(() => new My4ElementFir(0, 0, 0, 0)) {\n",
    "  c => new PeekPokeTester(c) {\n",
    "    poke(c.io.in, 0)\n",
    "    expect(c.io.out, 0)\n",
    "    step(1)\n",
    "    poke(c.io.in, 4)\n",
    "    expect(c.io.out, 0)\n",
    "    step(1)\n",
    "    poke(c.io.in, 5)\n",
    "    expect(c.io.out, 0)\n",
    "    step(1)\n",
    "    poke(c.io.in, 2)\n",
    "    expect(c.io.out, 0)\n",
    "  }\n",
    "}"
   ]
  },
  {
   "cell_type": "code",
   "execution_count": null,
   "metadata": {},
   "outputs": [],
   "source": [
    "// 简单的4点移动滤波器\n",
    "Driver(() => new My4ElementFir(1, 1, 1, 1)) {\n",
    "  c => new PeekPokeTester(c) {\n",
    "    poke(c.io.in, 1)\n",
    "    expect(c.io.out, 1)  // 1, 0, 0, 0\n",
    "    step(1)\n",
    "    poke(c.io.in, 4)\n",
    "    expect(c.io.out, 5)  // 4, 1, 0, 0\n",
    "    step(1)\n",
    "    poke(c.io.in, 3)\n",
    "    expect(c.io.out, 8)  // 3, 4, 1, 0\n",
    "    step(1)\n",
    "    poke(c.io.in, 2)\n",
    "    expect(c.io.out, 10)  // 2, 3, 4, 1\n",
    "    step(1)\n",
    "    poke(c.io.in, 7)\n",
    "    expect(c.io.out, 16)  // 7, 2, 3, 4\n",
    "    step(1)\n",
    "    poke(c.io.in, 0)\n",
    "    expect(c.io.out, 12)  // 0, 7, 2, 3\n",
    "  }\n",
    "}"
   ]
  },
  {
   "cell_type": "code",
   "execution_count": null,
   "metadata": {
    "scrolled": true
   },
   "outputs": [],
   "source": [
    "// 非对称滤波器\n",
    "Driver(() => new My4ElementFir(1, 2, 3, 4)) {\n",
    "  c => new PeekPokeTester(c) {\n",
    "    poke(c.io.in, 1)\n",
    "    expect(c.io.out, 1)  // 1*1, 0*2, 0*3, 0*4\n",
    "    step(1)\n",
    "    poke(c.io.in, 4)\n",
    "    expect(c.io.out, 6)  // 4*1, 1*2, 0*3, 0*4\n",
    "    step(1)\n",
    "    poke(c.io.in, 3)\n",
    "    expect(c.io.out, 14)  // 3*1, 4*2, 1*3, 0*4\n",
    "    step(1)\n",
    "    poke(c.io.in, 2)\n",
    "    expect(c.io.out, 24)  // 2*1, 3*2, 4*3, 1*4\n",
    "    step(1)\n",
    "    poke(c.io.in, 7)\n",
    "    expect(c.io.out, 36)  // 7*1, 2*2, 3*3, 4*4\n",
    "    step(1)\n",
    "    poke(c.io.in, 0)\n",
    "    expect(c.io.out, 32)  // 0*1, 7*2, 2*3, 3*4\n",
    "  }\n",
    "}"
   ]
  },
  {
   "cell_type": "markdown",
   "metadata": {},
   "source": [
    "<div id=\"container\"><section id=\"accordion\"><div>\n",
    "<input type=\"checkbox\" id=\"check-1\" />\n",
    "<label for=\"check-1\"><strong>答案</strong></label>\n",
    "<article>\n",
    "<pre style=\"background-color:#f7f7f7\">\n",
    "  val x_n1 = RegNext(io.in, 0.U)\n",
    "  val x_n2 = RegNext(x_n1, 0.U)\n",
    "  val x_n3 = RegNext(x_n2, 0.U)\n",
    "  io.out := io.in \\* b0.U(8.W) + \n",
    "    x_n1 \\* b1.U(8.W) +\n",
    "    x_n2 \\* b2.U(8.W) + \n",
    "    x_n3 \\* b3.U(8.W)\n",
    "</pre></article></div></section></div>"
   ]
  },
  {
   "cell_type": "markdown",
   "metadata": {},
   "source": [
    "---\n",
    "# FIR滤波器的生成器\n",
    "\n",
    "在这一节中，我们将使用[本教程 3.2一节：生成器：容器（Collection）]中的示例稍加修改。\n",
    "如果您尚未启动学习3.2节，请不要担心。\n",
    "您将了解`MyManyDynamicElementVecFir`如何工作的详细信息，但基本思想是FIR滤波器的生成器。\n",
    "\n",
    "生成器有一个参数：长度（length)。\n",
    "该参数指定滤波器具有多少个抽头（tap），并且抽头（tap）是硬件模块`Module`的输入。\n",
    "\n",
    "该生成器有3个输入：\n",
    "* in，滤波器的输入值\n",
    "* valid，一个布尔值，表示当前输入是否有效\n",
    "* consts，所有抽头（tap）的向量\n",
    "\n",
    "和1输出：\n",
    "* out，滤波器的输出\n",
    "\n",
    "<img src=\"images/fir.jpg\" style=\"width:450px;\"/>"
   ]
  },
  {
   "cell_type": "code",
   "execution_count": 7,
   "metadata": {},
   "outputs": [
    {
     "data": {
      "text/plain": [
       "defined \u001b[32mclass\u001b[39m \u001b[36mMyManyDynamicElementVecFir\u001b[39m"
      ]
     },
     "execution_count": 7,
     "metadata": {},
     "output_type": "execute_result"
    }
   ],
   "source": [
    "class MyManyDynamicElementVecFir(length: Int) extends Module {\n",
    "  val io = IO(new Bundle {\n",
    "    val in = Input(UInt(8.W))\n",
    "    val valid = Input(Bool())\n",
    "    val out = Output(UInt(8.W))\n",
    "    val consts = Input(Vec(length, UInt(8.W)))\n",
    "  })\n",
    "  \n",
    "  // 非常紧凑的代码！您将在之后学习\n",
    "  val taps = Seq(io.in) ++ Seq.fill(io.consts.length - 1)(RegInit(0.U(8.W)))\n",
    "  taps.zip(taps.tail).foreach { case (a, b) => when (io.valid) { b := a } }\n",
    "\n",
    "  io.out := taps.zip(io.consts).map { case (a, b) => a * b }.reduce(_ + _)\n",
    "}"
   ]
  },
  {
   "cell_type": "markdown",
   "metadata": {},
   "source": [
    "---\n",
    "# DspBlock\n",
    "\n",
    "将DSP组件集成到更大的系统中可能是一个有挑战性的工作并且容易出错。\n",
    "[dsptools github库的rocket部分]](https://github.com/ucb-bar/dsptools/tree/master/rocket) 包含有用的生成器来帮助完成这些任务。\n",
    "\n",
    "其中一个核心抽象是`DspBlock`。\n",
    "`DspBlock`具有：\n",
    "* AXI-4流的输入和输出\n",
    "* 具有内存映射的状态和控制信号（在本例中为AXI4）\n",
    "\n",
    "<img src=\"images/fir_filter.png\" style=\"width:800px;\"/>\n",
    "\n",
    "`DspBlock`使用来自rocket的diplomacy接口。\n",
    "[这个网站](https://www.lowrisc.org/docs/diplomacy/) 对diplomacy有基本的介绍，但是现在不需要过于担心这个例子是如何工作的。\n",
    "当您需要将许多不同的模块连在一起形成一个复杂的SoC时，diplomacy真的很出彩。\n",
    "在这个例子中，我们只制作一个外设。\n",
    "当diplomacy接口和`StandaloneBlock`特征（traits）合在一起使用的时候，可以使这个diplomacy接口成为顶层IO接口。\n",
    "只有当`DspBlock`被用作顶层接口而没有任何其他diplomacy连接时，您才需要它们。\n",
    "\n",
    "下面的代码将FIR滤波器包装在AXI4接口中。\n"
   ]
  },
  {
   "cell_type": "code",
   "execution_count": 11,
   "metadata": {},
   "outputs": [
    {
     "data": {
      "text/plain": [
       "\u001b[32mimport \u001b[39m\u001b[36mdspblocks._\n",
       "\u001b[39m\n",
       "\u001b[32mimport \u001b[39m\u001b[36mfreechips.rocketchip.amba.axi4._\n",
       "\u001b[39m\n",
       "\u001b[32mimport \u001b[39m\u001b[36mfreechips.rocketchip.amba.axi4stream._\n",
       "\u001b[39m\n",
       "\u001b[32mimport \u001b[39m\u001b[36mfreechips.rocketchip.config._\n",
       "\u001b[39m\n",
       "\u001b[32mimport \u001b[39m\u001b[36mfreechips.rocketchip.diplomacy._\n",
       "\u001b[39m\n",
       "\u001b[32mimport \u001b[39m\u001b[36mfreechips.rocketchip.regmapper._\n",
       "\n",
       "//\n",
       "// 基类 FIRBlock \n",
       "// 它可以被继承，从而生成具有 TileLink, AXI4, APB, AHB 等接口的FIR滤波器\n",
       "//\n",
       "\u001b[39m\n",
       "defined \u001b[32mclass\u001b[39m \u001b[36mFIRBlock\u001b[39m\n",
       "defined \u001b[32mclass\u001b[39m \u001b[36mAXI4FIRBlock\u001b[39m"
      ]
     },
     "execution_count": 11,
     "metadata": {},
     "output_type": "execute_result"
    }
   ],
   "source": [
    "import dspblocks._\n",
    "import freechips.rocketchip.amba.axi4._\n",
    "import freechips.rocketchip.amba.axi4stream._\n",
    "import freechips.rocketchip.config._\n",
    "import freechips.rocketchip.diplomacy._\n",
    "import freechips.rocketchip.regmapper._\n",
    "\n",
    "//\n",
    "// 基类 FIRBlock \n",
    "// 它可以被继承，从而生成具有 TileLink, AXI4, APB, AHB 等接口的FIR滤波器\n",
    "//\n",
    "abstract class FIRBlock[D, U, EO, EI, B <: Data](val nFilters: Int, val nTaps: Int)(implicit p: Parameters)\n",
    "\n",
    "// HasCSR 表示将使用 RegMapper API 来定义具有内存接口的状态和控制寄存器\n",
    "extends DspBlock[D, U, EO, EI, B] with HasCSR {\n",
    "    // 用于流接口（streaming interface ）的diplomacy节点\n",
    "    // identity node表示输出和输入的参数相同\n",
    "    val streamNode = AXI4StreamIdentityNode()\n",
    "    \n",
    "    // 定义将要被展开（elaborate）的硬件\n",
    "    lazy val module = new LazyModuleImp(this) {\n",
    "        // 从diplomacy节点拿到流的输入输出接口的线\n",
    "        val (in, _)  = streamNode.in(0)\n",
    "        val (out, _) = streamNode.out(0)\n",
    "\n",
    "        require(in.params.n >= nFilters,\n",
    "                s\"\"\"AXI-4 Stream port must be big enough for all \n",
    "                   |the filters (need $nFilters,, only have ${in.params.n})\"\"\".stripMargin)\n",
    "\n",
    "        // 创建存储抽头（tap）的寄存器\n",
    "        val taps = Reg(Vec(nFilters, Vec(nTaps, UInt(8.W))))\n",
    "\n",
    "        // 为抽头（tap）创建内存地址映射，另外，第一个地址是只读的，用来指定滤波器通道数目\n",
    "        val mmap = Seq(\n",
    "            RegField.r(64, nFilters.U, RegFieldDesc(\"nFilters\", \"Number of filter lanes\"))\n",
    "        ) ++ taps.flatMap(_.map(t => RegField(8, t, RegFieldDesc(\"tap\", \"Tap\"))))\n",
    "\n",
    "        // 为该类生成内存接口的硬件\n",
    "        // regmap是抽象的（未实现）。与 AXI4HasCSR 或 TLHasCSR 等混合的话，\n",
    "        // 将使得 regmap 会被定义（为特定的接口）\n",
    "        regmap(mmap.zipWithIndex.map({case (r, i) => i * 8 -> Seq(r)}): _*)\n",
    "\n",
    "        // 生成 FIR 滤波器通道，并连接输入和抽头（tap）\n",
    "        val outs = for (i <- 0 until nFilters) yield {\n",
    "            val fir = Module(new MyManyDynamicElementVecFir(nTaps))\n",
    "            \n",
    "            fir.io.in := in.bits.data((i+1)*8, i*8)\n",
    "            fir.io.valid := in.valid && out.ready\n",
    "            fir.io.consts := taps(i)            \n",
    "            fir.io.out\n",
    "        }\n",
    "\n",
    "        val output = if (outs.length == 1) {\n",
    "            outs.head\n",
    "        } else {\n",
    "            outs.reduce((x: UInt, y: UInt) => Cat(y, x))\n",
    "        }\n",
    "\n",
    "        out.bits.data := output\n",
    "        in.ready  := out.ready\n",
    "        out.valid := in.valid\n",
    "    }\n",
    "}\n",
    "\n",
    "// 创建具有 AXI4 接口的 FIRBlock\n",
    "abstract class AXI4FIRBlock(nFilters: Int, nTaps: Int)(implicit p: Parameters) extends FIRBlock[AXI4MasterPortParameters, AXI4SlavePortParameters, AXI4EdgeParameters, AXI4EdgeParameters, AXI4Bundle](nFilters, nTaps) with AXI4DspBlock with AXI4HasCSR {\n",
    "    override val mem = Some(AXI4RegisterNode(\n",
    "        AddressSet(0x0, 0xffffL), beatBytes = 8\n",
    "    ))\n",
    "}\n",
    "\n",
    "// 运行下面的代码将显示所生成的 firrtl 代码\n",
    "// 注意 LazyModules 不是真正的 Chisel 模块 - 在调用 Chisel 驱动时需要调用它的 “.module” 属性\n",
    "// 还要注意必须要与 AXI4StandaloneBlock 混合在一起 - 如果您忘了它，您会得到奇怪的diplomacy错误，\n",
    "// 因为内存接口需要 master 和流接口连接。 AXI4StandaloneBlock 将添加顶层的 IO 接口\n",
    "\n",
    "// println(chisel3.Driver.emit(() => LazyModule(new AXI4FIRBlock(1, 8)(Parameters.empty) with AXI4StandaloneBlock).module))"
   ]
  },
  {
   "cell_type": "markdown",
   "metadata": {},
   "source": [
    "## 测试\n",
    "\n",
    "\n",
    "测试 `DspBlock` 会稍微有点不同。\n",
    "现在我们需要处理内存接口和`LazyModule`。\n",
    "dsptools有一些功能可以帮助用来测试`DspBlock`。\n",
    "\n",
    "一个重要的功能是`MemMasterModel`。\n",
    "该特征（trait）定义了诸如`memReadWord`和`memWriteWord`的函数 - 用于生成内存流量的泛型函数。\n",
    "这允许您编写一个可以为特定内存接口特化的通用测试 - 例如，您编写一个通用测试，然后为TileLink和AXI4接口特化它。\n",
    "\n",
    "下面的代码以这种方式测试`FIRBlock`："
   ]
  },
  {
   "cell_type": "code",
   "execution_count": 12,
   "metadata": {},
   "outputs": [
    {
     "name": "stdout",
     "output_type": "stream",
     "text": [
      "[\u001b[35minfo\u001b[0m] [0.000] Elaborating design...\n",
      "[\u001b[34mdeprecated\u001b[0m] RegMapper.scala:160 (36 calls): litArg is deprecated: \"litArg is deprecated, use litOption or litTo*Option\"\n",
      "[\u001b[34mdeprecated\u001b[0m] ReduceOthers.scala:11 (100 calls): litArg is deprecated: \"litArg is deprecated, use litOption or litTo*Option\"\n",
      "[\u001b[34mdeprecated\u001b[0m] ReduceOthers.scala:27 (100 calls): litArg is deprecated: \"litArg is deprecated, use litOption or litTo*Option\"\n",
      "[\u001b[34mdeprecated\u001b[0m] MuxLiteral.scala:37 (192 calls): litArg is deprecated: \"litArg is deprecated, use litOption or litTo*Option\"\n",
      "[\u001b[33mwarn\u001b[0m] \u001b[33mThere were 4 deprecated function(s) used. These may stop compiling in a future release - you are encouraged to fix these issues.\u001b[0m\n",
      "[\u001b[33mwarn\u001b[0m] Line numbers for deprecations reported by Chisel may be inaccurate; enable scalac compiler deprecation warnings via either of the following methods:\n",
      "[\u001b[33mwarn\u001b[0m]   In the sbt interactive console, enter:\n",
      "[\u001b[33mwarn\u001b[0m]     set scalacOptions in ThisBuild ++= Seq(\"-unchecked\", \"-deprecation\")\n",
      "[\u001b[33mwarn\u001b[0m]   or, in your build.sbt, add the line:\n",
      "[\u001b[33mwarn\u001b[0m]     scalacOptions := Seq(\"-unchecked\", \"-deprecation\")\n",
      "[\u001b[35minfo\u001b[0m] [0.221] Done elaborating.\n",
      "Total FIRRTL Compile Time: 284.3 ms\n",
      "Total FIRRTL Compile Time: 217.0 ms\n",
      "End of dependency graph\n",
      "Circuit state created\n",
      "[\u001b[35minfo\u001b[0m] [0.000] SEED 1563247063397\n",
      "test LazyModule Success: 0 tests passed in 23 cycles taking 0.096447 seconds\n",
      "[\u001b[35minfo\u001b[0m] [0.083] RAN 18 CYCLES PASSED\n"
     ]
    },
    {
     "data": {
      "text/plain": [
       "\u001b[32mimport \u001b[39m\u001b[36mdsptools.tester.MemMasterModel\n",
       "\u001b[39m\n",
       "\u001b[32mimport \u001b[39m\u001b[36mfreechips.rocketchip.amba.axi4\n",
       "\n",
       "\u001b[39m\n",
       "defined \u001b[32mclass\u001b[39m \u001b[36mFIRBlockTester\u001b[39m\n",
       "defined \u001b[32mclass\u001b[39m \u001b[36mAXI4FIRBlockTester\u001b[39m\n",
       "\u001b[36mlm\u001b[39m: \u001b[32mAXI4FIRBlock\u001b[39m with \u001b[32mAXI4StandaloneBlock\u001b[39m = ammonite.$sess.cmd11$Helper$$anon$1@188d1f55\n",
       "\u001b[36mres11_5\u001b[39m: \u001b[32mBoolean\u001b[39m = true"
      ]
     },
     "execution_count": 12,
     "metadata": {},
     "output_type": "execute_result"
    }
   ],
   "source": [
    "import dsptools.tester.MemMasterModel\n",
    "import freechips.rocketchip.amba.axi4\n",
    "\n",
    "abstract class FIRBlockTester[D, U, EO, EI, B <: Data](c: FIRBlock[D, U, EO, EI, B]) extends PeekPokeTester(c.module) with MemMasterModel {\n",
    "    // 检查地址 0 是滤波器通道的数目\n",
    "    require(memReadWord(0) == c.nFilters)\n",
    "    // 将所有的抽头（tap）设置为 1\n",
    "    for (i <- 0 until c.nFilters * c.nTaps) {\n",
    "        memWriteWord(8 + i * 8, 1)\n",
    "    }\n",
    "}\n",
    "\n",
    "// 为 AXI4 特化我们的测试\n",
    "class AXI4FIRBlockTester(c: AXI4FIRBlock with AXI4StandaloneBlock) extends FIRBlockTester(c) with AXI4MasterModel {\n",
    "    def memAXI = c.ioMem.get\n",
    "}\n",
    "\n",
    "// 在 lazymodule 上调用我们的测试看上去会有一点奇怪 \n",
    "// 注意，firblocktester 需要一个 lazymodule 作为参数，而不是一个 module (例如在 \"extends PeekPokeTester()\" 中调用的).\n",
    "val lm = LazyModule(new AXI4FIRBlock(1, 8)(Parameters.empty) with AXI4StandaloneBlock)\n",
    "chisel3.iotesters.Driver(() => lm.module) { _ => new AXI4FIRBlockTester(lm) }"
   ]
  },
  {
   "cell_type": "markdown",
   "metadata": {},
   "source": [
    "<span style=\"color:red\">**练习：TileLink**</span><br>\n",
    "\n",
    "添加一个使用TileLink作为其内存互连的`FIRBlock`版本，并扩展`FIRBlockTester`以使用TileLink。"
   ]
  },
  {
   "cell_type": "markdown",
   "metadata": {},
   "source": [
    "---\n",
    "# 本节结束!\n",
    "​\n",
    "[返回顶部](#top)"
   ]
  }
 ],
 "metadata": {
  "kernelspec": {
   "display_name": "Scala",
   "language": "scala",
   "name": "scala"
  },
  "language_info": {
   "codemirror_mode": "text/x-scala",
   "file_extension": ".scala",
   "mimetype": "text/x-scala",
   "name": "scala",
   "nbconvert_exporter": "script",
   "version": "2.12.8"
  }
 },
 "nbformat": 4,
 "nbformat_minor": 2
}
