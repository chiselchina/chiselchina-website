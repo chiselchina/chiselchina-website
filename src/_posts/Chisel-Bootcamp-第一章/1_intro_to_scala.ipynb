{
 "cells": [
  {
   "cell_type": "markdown",
   "metadata": {},
   "source": [
    "# 第一章：Scala介绍\n",
    "\n",
    "\n",
    "## 本教程的目的\n",
    "\n",
    "这些教程使用*Jupyter*笔记本环境，您可以阅读代码，进行更改，并运行代码。我们鼓励您尝试使用教程中的代码来更快地掌握Chisel。\n",
    "\n",
    "在第一章中，您将学习如何编写基本的Scala代码以及如何阅读更高级的Scala代码。\n",
    "\n",
    "> 注：本系列教程的英文版来自于 [Chisel Bootcamp](https://github.com/freechipsproject/chisel-bootcamp) 。"
   ]
  },
  {
   "cell_type": "markdown",
   "metadata": {},
   "source": [
    "---\n",
    "# 理解Scala\n",
    "Scala is yet another programming language which supports common programming paradigms. We chose to use it for several reasons:\n",
    "\n",
    "Scala是一种支持常见编程范例的编程语言。我们选择使用它有几个原因：\n",
    "\n",
    "- 它能更好的嵌入领域专用语言（DSL）。\n",
    "- 它拥有强大而优雅的库，包含各种数据集合。\n",
    "- 它具有严格的类型系统，有助于在开发周期的早期（编译时）捕获大量错误。\n",
    "- 它具有强大的函数式编程方式。\n",
    "- Chisel更好发音。\n",
    "\n",
    "之后我们讨论Chisel时，以上这些要点都会慢慢显现出来。不过现在，我们将专注于阅读和编写基本的Scala代码。"
   ]
  },
  {
   "cell_type": "markdown",
   "metadata": {},
   "source": [
    "---\n",
    "# 变量和常量 - var 和 val\n",
    "\n",
    "创建变量和常量的语句前面分别带有关键字*var*和*val*。通常的做法是尽可能使用*val*。这是为了防止之后给变量错误地重新赋值，从而使代码难以阅读。 "
   ]
  },
  {
   "cell_type": "code",
   "execution_count": 1,
   "metadata": {},
   "outputs": [
    {
     "data": {
      "text/plain": [
       "\u001b[36mnumberOfKittens\u001b[39m: \u001b[32mInt\u001b[39m = \u001b[32m6\u001b[39m\n",
       "\u001b[36mkittensPerHouse\u001b[39m: \u001b[32mInt\u001b[39m = \u001b[32m101\u001b[39m\n",
       "\u001b[36malphabet\u001b[39m: \u001b[32mString\u001b[39m = \u001b[32m\"abcdefghijklmnopqrstuvwxyz\"\u001b[39m\n",
       "\u001b[36mdone\u001b[39m: \u001b[32mBoolean\u001b[39m = false"
      ]
     },
     "execution_count": 1,
     "metadata": {},
     "output_type": "execute_result"
    }
   ],
   "source": [
    "var numberOfKittens = 6\n",
    "val kittensPerHouse = 101\n",
    "val alphabet = \"abcdefghijklmnopqrstuvwxyz\"\n",
    "var done = false"
   ]
  },
  {
   "cell_type": "markdown",
   "metadata": {},
   "source": [
    "首先要注意的是，与Java和C不同，Scala语句结尾通常不需要分号。当有换行符时，Scala会自动判断是否语句结束。例如，当行上的最后一个符号是操作符的话，Scala通常可以判断单个语句是否分布在多行中。需要分号的唯一情况是您希望将多个语句放在一行上的时候。\n",
    "\n",
    "上面的常量和变量很清楚。两个变量`var`可以被重新赋值，而两个常量`val`在被创建之后就是不可变的。"
   ]
  },
  {
   "cell_type": "code",
   "execution_count": 2,
   "metadata": {},
   "outputs": [
    {
     "name": "stdout",
     "output_type": "stream",
     "text": [
      "abcdefghijklmnopqrstuvwxyz\n"
     ]
    }
   ],
   "source": [
    "numberOfKittens += 1\n",
    "\n",
    "// kittensPerHouse = kittensPerHouse * 2 // 这一句会出错; 常量kittensPerHouse不可更改\n",
    "\n",
    "println(alphabet)\n",
    "done = true"
   ]
  },
  {
   "cell_type": "markdown",
   "metadata": {},
   "source": [
    "---\n",
    "# 条件语句\n",
    "\n",
    "Scala中的条件语句与其他编程语言类似。"
   ]
  },
  {
   "cell_type": "code",
   "execution_count": 3,
   "metadata": {},
   "outputs": [
    {
     "name": "stdout",
     "output_type": "stream",
     "text": [
      "we are done\n",
      "we are done\n"
     ]
    }
   ],
   "source": [
    "// A simple conditional; by the way, this is a comment\n",
    "if (numberOfKittens > kittensPerHouse) { \n",
    "    println(\"Too many kittens!!!\") \n",
    "}\n",
    "// The braces are not required when all branches are one liners. However, the \n",
    "// Scala Style Guide prefers brace omission only if an \"else\" clause is included.\n",
    "// (Preferably not this, even though it compiles...)\n",
    "if (numberOfKittens > kittensPerHouse) \n",
    "    println(\"Too many kittens!!!\")\n",
    "\n",
    "// ifs have else clauses, of course\n",
    "// This is where you can omit braces!\n",
    "if (done) \n",
    "    println(\"we are done\")\n",
    "else \n",
    "    numberOfKittens += 1\n",
    "\n",
    "// And else ifs\n",
    "// For style, keep braces because not all branches are one liners. \n",
    "if (done) {\n",
    "    println(\"we are done\")\n",
    "}\n",
    "else if (numberOfKittens < kittensPerHouse) {\n",
    "    println(\"more kittens!\")\n",
    "    numberOfKittens += 1\n",
    "}\n",
    "else {\n",
    "    done = true\n",
    "}"
   ]
  },
  {
   "cell_type": "markdown",
   "metadata": {},
   "source": [
    "但在Scala中，“`if`”语句会返回值。它的值由所选分支的最后一行语句决定。这非常强大，特别是在函数中或类中初始化值的时候。类似下面这样："
   ]
  },
  {
   "cell_type": "code",
   "execution_count": 4,
   "metadata": {},
   "outputs": [
    {
     "name": "stdout",
     "output_type": "stream",
     "text": [
      "english\n"
     ]
    },
    {
     "data": {
      "text/plain": [
       "\u001b[36mlikelyCharactersSet\u001b[39m: \u001b[32mString\u001b[39m = \u001b[32m\"english\"\u001b[39m"
      ]
     },
     "execution_count": 4,
     "metadata": {},
     "output_type": "execute_result"
    }
   ],
   "source": [
    "val likelyCharactersSet = if (alphabet.length == 26)\n",
    "    \"english\"\n",
    "else \n",
    "    \"not english\"\n",
    "\n",
    "println(likelyCharactersSet)"
   ]
  },
  {
   "cell_type": "markdown",
   "metadata": {},
   "source": [
    "我们创建了常量*likelyCharactersSet*，并且它的值是在运行时才被确定。"
   ]
  },
  {
   "cell_type": "markdown",
   "metadata": {},
   "source": [
    "---\n",
    "# 方法（Methods），函数（Functions）\n",
    "\n",
    "方法使用关键字`def`定义。在这里，我们不予区分将它们也称为函数。函数的参数由逗号分隔，包含参数的名称，类型以及默认值（可选）。为清楚起见，应指定返回类型。\n",
    "\n",
    "没有任何参数的Scala函数定义后面不需要空括号。这使得类的成员变量要改成函数，并来自于计算结果的情况下更加容易。按照惯例，不改变任何东西的无参数的函数（调用它们不会改变任何东西，它们只是返回一个值）不使用括号；而会给这个类带来改变的函数（也许它们会改变类里面的变量或打印出来东西）要使用括号。\n",
    "\n",
    "## 简单的声明（Declarations）"
   ]
  },
  {
   "cell_type": "code",
   "execution_count": 5,
   "metadata": {},
   "outputs": [
    {
     "data": {
      "text/plain": [
       "defined \u001b[32mfunction\u001b[39m \u001b[36mtimes2\u001b[39m\n",
       "defined \u001b[32mfunction\u001b[39m \u001b[36mdistance\u001b[39m"
      ]
     },
     "execution_count": 5,
     "metadata": {},
     "output_type": "execute_result"
    }
   ],
   "source": [
    "// Simple scaling function with an input argument, e.g., times2(3) returns 6\n",
    "// Curly braces can be omitted for short one-line functions.\n",
    "def times2(x: Int): Int = 2 * x\n",
    "\n",
    "// More complicated function\n",
    "def distance(x: Int, y: Int, returnPositive: Boolean): Int = {\n",
    "    val xy = x * y\n",
    "    if (returnPositive) xy.abs else -xy.abs\n",
    "}"
   ]
  },
  {
   "cell_type": "markdown",
   "metadata": {},
   "source": [
    "## 函数的重载\n",
    "\n",
    "重载意味着可以使用相同的函数名称，而参数及其类型不同，这时候编译器会自动确定应该调用哪个版本的函数。但是应该尽量避免重载函数。"
   ]
  },
  {
   "cell_type": "code",
   "execution_count": 6,
   "metadata": {},
   "outputs": [
    {
     "data": {
      "text/plain": [
       "defined \u001b[32mfunction\u001b[39m \u001b[36mtimes2\u001b[39m\n",
       "defined \u001b[32mfunction\u001b[39m \u001b[36mtimes2\u001b[39m\n",
       "\u001b[36mres5_2\u001b[39m: \u001b[32mInt\u001b[39m = \u001b[32m10\u001b[39m\n",
       "\u001b[36mres5_3\u001b[39m: \u001b[32mInt\u001b[39m = \u001b[32m14\u001b[39m"
      ]
     },
     "execution_count": 6,
     "metadata": {},
     "output_type": "execute_result"
    }
   ],
   "source": [
    "// Overloaded function\n",
    "def times2(x: Int): Int = 2 * x\n",
    "def times2(x: String): Int = 2 * x.toInt\n",
    "\n",
    "times2(5)\n",
    "times2(\"7\")"
   ]
  },
  {
   "cell_type": "markdown",
   "metadata": {},
   "source": [
    "## 递归和嵌套函数调用 \n",
    "\n",
    "大括号定义代码的范围。在一个函数的范围内可以存在递归或嵌套调用。在某个范围内定义的函数只能在该范围内访问。"
   ]
  },
  {
   "cell_type": "code",
   "execution_count": 7,
   "metadata": {},
   "outputs": [
    {
     "name": "stdout",
     "output_type": "stream",
     "text": [
      "XXXXXX\n",
      "XXXXX\n",
      "XXXX\n",
      "XXX\n",
      "XX\n",
      "X\n"
     ]
    },
    {
     "data": {
      "text/plain": [
       "defined \u001b[32mfunction\u001b[39m \u001b[36masciiTriangle\u001b[39m"
      ]
     },
     "execution_count": 7,
     "metadata": {},
     "output_type": "execute_result"
    }
   ],
   "source": [
    "/** Prints a triangle made of \"X\"s\n",
    "  * This is another style of comment\n",
    "  */\n",
    "def asciiTriangle(rows: Int) {\n",
    "    \n",
    "    // This is cute: multiplying \"X\" makes a string with many copies of \"X\"\n",
    "    def printRow(columns: Int): Unit = println(\"X\" * columns)\n",
    "    \n",
    "    if(rows > 0) {\n",
    "        printRow(rows)\n",
    "        asciiTriangle(rows - 1) // Here is the recursive call\n",
    "    }\n",
    "}\n",
    "\n",
    "// printRow(1) // This would not work, since we're calling printRow outside its scope\n",
    "asciiTriangle(6)"
   ]
  },
  {
   "cell_type": "markdown",
   "metadata": {},
   "source": [
    "---\n",
    "# 列表（Lists）\n",
    "\n",
    "Scala实现了各种聚合或序列对象。列表list与数组array非常类似，但支持更多访问或追加元素的操作。"
   ]
  },
  {
   "cell_type": "code",
   "execution_count": 8,
   "metadata": {},
   "outputs": [
    {
     "data": {
      "text/plain": [
       "\u001b[36mx\u001b[39m: \u001b[32mInt\u001b[39m = \u001b[32m7\u001b[39m\n",
       "\u001b[36my\u001b[39m: \u001b[32mInt\u001b[39m = \u001b[32m14\u001b[39m\n",
       "\u001b[36mlist1\u001b[39m: \u001b[32mList\u001b[39m[\u001b[32mInt\u001b[39m] = \u001b[33mList\u001b[39m(\u001b[32m1\u001b[39m, \u001b[32m2\u001b[39m, \u001b[32m3\u001b[39m)\n",
       "\u001b[36mlist2\u001b[39m: \u001b[32mList\u001b[39m[\u001b[32mInt\u001b[39m] = \u001b[33mList\u001b[39m(\u001b[32m7\u001b[39m, \u001b[32m14\u001b[39m, \u001b[32m14\u001b[39m)\n",
       "\u001b[36mlist3\u001b[39m: \u001b[32mList\u001b[39m[\u001b[32mInt\u001b[39m] = \u001b[33mList\u001b[39m(\u001b[32m1\u001b[39m, \u001b[32m2\u001b[39m, \u001b[32m3\u001b[39m, \u001b[32m7\u001b[39m, \u001b[32m14\u001b[39m, \u001b[32m14\u001b[39m)\n",
       "\u001b[36mm\u001b[39m: \u001b[32mInt\u001b[39m = \u001b[32m3\u001b[39m\n",
       "\u001b[36ms\u001b[39m: \u001b[32mInt\u001b[39m = \u001b[32m3\u001b[39m\n",
       "\u001b[36mheadOfList\u001b[39m: \u001b[32mInt\u001b[39m = \u001b[32m1\u001b[39m\n",
       "\u001b[36mrestOfList\u001b[39m: \u001b[32mList\u001b[39m[\u001b[32mInt\u001b[39m] = \u001b[33mList\u001b[39m(\u001b[32m2\u001b[39m, \u001b[32m3\u001b[39m)\n",
       "\u001b[36mthird\u001b[39m: \u001b[32mInt\u001b[39m = \u001b[32m3\u001b[39m"
      ]
     },
     "execution_count": 8,
     "metadata": {},
     "output_type": "execute_result"
    }
   ],
   "source": [
    "val x = 7\n",
    "val y = 14\n",
    "val list1 = List(1, 2, 3)\n",
    "val list2 = x :: y :: y :: Nil       // An alternate notation for assembling a list\n",
    "\n",
    "val list3 = list1 ++ list2           // Appends the second list to the first list\n",
    "val m = list2.length\n",
    "val s = list2.size\n",
    "\n",
    "val headOfList = list1.head          // Gets the first element of the list\n",
    "val restOfList = list1.tail          // Get a new list with first element removed\n",
    "\n",
    "val third = list1(2)                 // Gets the third element of a list (0-indexed)"
   ]
  },
  {
   "cell_type": "markdown",
   "metadata": {},
   "source": [
    "---\n",
    "# `for` 语句\n",
    "\n",
    "Scala有`for`语句，完全类似于别的语言，可以用来进行遍历。"
   ]
  },
  {
   "cell_type": "code",
   "execution_count": 9,
   "metadata": {},
   "outputs": [
    {
     "name": "stdout",
     "output_type": "stream",
     "text": [
      "0 1 2 3 4 5 6 7 \n"
     ]
    }
   ],
   "source": [
    "for (i <- 0 to 7) { print(i + \" \") }\n",
    "println()"
   ]
  },
  {
   "cell_type": "markdown",
   "metadata": {},
   "source": [
    "如果上面用的是`until`而不是`to`的话，遍历就是从0到6（不包含7）。 "
   ]
  },
  {
   "cell_type": "code",
   "execution_count": 10,
   "metadata": {},
   "outputs": [
    {
     "name": "stdout",
     "output_type": "stream",
     "text": [
      "0 1 2 3 4 5 6 \n"
     ]
    }
   ],
   "source": [
    "for (i <- 0 until 7) { print(i + \" \") }\n",
    "println()"
   ]
  },
  {
   "cell_type": "markdown",
   "metadata": {},
   "source": [
    "在`for`语句加入`by`表示步长。下面的代码会打印出从0到10之间的偶数。"
   ]
  },
  {
   "cell_type": "code",
   "execution_count": 11,
   "metadata": {},
   "outputs": [
    {
     "name": "stdout",
     "output_type": "stream",
     "text": [
      "0 2 4 6 8 10 \n"
     ]
    }
   ],
   "source": [
    "for(i <- 0 to 10 by 2) { print(i + \" \") }\n",
    "println()"
   ]
  },
  {
   "cell_type": "markdown",
   "metadata": {},
   "source": [
    "If you have a collection of some kind and want to visit all of the elements, you can use `for`\n",
    "as an *iterator*, as in Java and Python.  Here we make a list of 4 random integers and then sum them.\n",
    "\n",
    "如果你有一个集合并想要访问所有元素，你可以使用`for`来作为*迭代器（iterator）*，类似于Java或者Python中一样。下面的代码里，我们列出4个随机整数，然后对它们求和。"
   ]
  },
  {
   "cell_type": "code",
   "execution_count": 12,
   "metadata": {},
   "outputs": [
    {
     "name": "stdout",
     "output_type": "stream",
     "text": [
      "sum is -381288124\n"
     ]
    },
    {
     "data": {
      "text/plain": [
       "\u001b[36mrandomList\u001b[39m: \u001b[32mList\u001b[39m[\u001b[32mInt\u001b[39m] = \u001b[33mList\u001b[39m(\u001b[32m-348678184\u001b[39m, \u001b[32m2118016949\u001b[39m, \u001b[32m2118650181\u001b[39m, \u001b[32m25690226\u001b[39m)\n",
       "\u001b[36mlistSum\u001b[39m: \u001b[32mInt\u001b[39m = \u001b[32m-381288124\u001b[39m"
      ]
     },
     "execution_count": 12,
     "metadata": {},
     "output_type": "execute_result"
    }
   ],
   "source": [
    "val randomList = List(scala.util.Random.nextInt(), scala.util.Random.nextInt(), scala.util.Random.nextInt(), scala.util.Random.nextInt())\n",
    "var listSum = 0\n",
    "for (value <- randomList) {\n",
    "  listSum += value\n",
    "}\n",
    "println(\"sum is \" + listSum)"
   ]
  },
  {
   "cell_type": "markdown",
   "metadata": {},
   "source": [
    "Scala中的`for`可以非常直观地用于遍历。但是还有一类称为*comprehensions*的函数，在许多场合下使用起来更为方便，例如可以更容易地对数组元素求和。这些将在后面的章节中予以介绍。"
   ]
  },
  {
   "cell_type": "markdown",
   "metadata": {},
   "source": [
    "---\n",
    "# 怎样读Scala代码\n",
    "\n",
    "能够阅读Scala代码并理解常见的命名约定，设计模式和最佳实践是成为有效的Chisel程序员重要的一步。代码的重用是Chisel的优势之一，但这需要阅读并理解别人的代码。有效地解析别人的代码也可以更容易地寻求帮助，例如利用StackOverflow等资源。\n",
    "\n",
    "接下来这一节会展示一些常见的代码模式。"
   ]
  },
  {
   "cell_type": "markdown",
   "metadata": {},
   "source": [
    "---\n",
    "# 包（Packages）和导入（Imports） \n",
    "\n",
    "```scala\n",
    "package mytools\n",
    "class Tool1 { ... }\n",
    "```\n",
    "\n",
    "上面定义了一个包（Packages，当需要在别的代码中导入的时候，如下：\n",
    " \n",
    "```scala\n",
    "import mytools.Tool1\n",
    "```\n",
    "\n",
    "注意：包的名字**必须**和路径的层级一致。这不是强制的要求，但如果不遵守的话，可能会产生一些难以诊断的问题。按照约定，包的名称应该是小写的，不包含下划线之类的分隔符。这样的名称有时会变得阅读很困难，一种方法是添加另一层层次结构，例如`package good.tools`。尽你所能遵循这些约定吧，但是Chisel本身也存在一些不符合这些规则的情况。\n",
    "\n",
    "如上所示，`import`语句用来告诉编译器您需要使用其他的库。在Chisel编程时常见导入如下面所示：\n",
    "\n",
    "```scala\n",
    "import chisel3._\n",
    "import chisel3.iotesters.{ChiselFlatSpec, Driver, PeekPokeTester}\n",
    "```\n",
    "\n",
    "第一行导入的是chisel3包中的所有类和方法；下划线在这里用作通配符。第二行表示从chisel3.iotesters包中导入指定的类。"
   ]
  },
  {
   "cell_type": "markdown",
   "metadata": {},
   "source": [
    "---\n",
    "# Scala是一个面向对象的编程语言\n",
    "\n",
    "Scala是一个面向对象的编程语言，了解这一点很重要，这也是Scala和Chisel的一个很大的优势。\n",
    "1. 变量是对象。\n",
    "1. 运用`val`声明的常量也是对象。\n",
    "1. 甚至literal也是对象（例如，1，2，3，字符串等）。\n",
    "1. 函数本身也是对象。这之后会详细说明。\n",
    "1. 对象（Object）是类（class）的实例。\n",
    "  1. 事实上，*面向对象*中的*对象（object）* 在Scala中被称为实例。\n",
    "1. 在定义一个类的时候，需要指定：\n",
    "  1. 类中的数据（`val`, `var`）\n",
    "  1. 类的操作，称为方法（method）或者函数（function）。这些方法可以通过该类的实例来调用。\n",
    "1. 类可以从其他类继承。\n",
    "  1. 被继承的类叫做父类，继承的类叫做子类。\n",
    "  1. 在这种情况下，子类继承父类的所有数据成员和方法。\n",
    "  1. 子类也可以扩展或重载从父类继承的这些方法。\n",
    "1. 类也可以继承自特征（traits）。Traits可以被看作是轻量级的类，它可以允许多继承。 \n",
    "1. （Singleton）Object对象在Scala中是一个特殊的类。\n",
    "  1. 它们不是上面所说的对象，上面那些我们称之为实例。\n",
    "\n",
    "我们接下来会看怎么创建对象："
   ]
  },
  {
   "cell_type": "markdown",
   "metadata": {},
   "source": [
    "---\n",
    "# 类的例子\n",
    "下面是一个创建Scala类的例子："
   ]
  },
  {
   "cell_type": "code",
   "execution_count": 13,
   "metadata": {},
   "outputs": [
    {
     "data": {
      "text/plain": [
       "defined \u001b[32mclass\u001b[39m \u001b[36mWrapCounter\u001b[39m"
      ]
     },
     "execution_count": 13,
     "metadata": {},
     "output_type": "execute_result"
    }
   ],
   "source": [
    "// WrapCounter counts up to a max value based on a bit size\n",
    "class WrapCounter(counterBits: Int) {\n",
    "\n",
    "  val max: Long = (1 << counterBits) - 1\n",
    "  var counter = 0L\n",
    "    \n",
    "  def inc(): Long = {\n",
    "    counter = counter + 1\n",
    "    if (counter > max) {\n",
    "        counter = 0\n",
    "    }\n",
    "    counter\n",
    "  }\n",
    "  println(s\"counter created with max value $max\")\n",
    "}\n"
   ]
  },
  {
   "cell_type": "markdown",
   "metadata": {},
   "source": [
    "在上面的代码中：\n",
    "* ```class WrapCounter``` --这是类**WrapCounter**的定义.\n",
    "* ```(counterBits: Int)``` -- 创建一个WrapCounter实例需要一个整数类型的参数，名称为`counterBits`。\n",
    "* 大括号 ({}) 里面是这个类的代码块。大部分的类在这里面定义变量，常量和方法。\n",
    "* `val max: Long =` -- 这个类包含一个叫**max**的成员常量, 类型是`Long`，并且在创建类的实例时被初始化。\n",
    "* `(1 << counterBits) - 1` 计算**counterBits**这么多比特所能表示的最大值。**max**在这里由`val`创建，所以它是常量，之后不能被改变。\n",
    "* 变量 **counter** 在这里被创建出来，并且赋初值为 **0L** ， “L” 在这里表示0是一个长整型，所以编译器也会推定 **counter** 为长整型。\n",
    "* **max** 和 **counter**通常被称为该类的 _成员变量（或常量）_。\n",
    "* 该类定义了一个叫**inc**的方法，该方法不需要参数并且返回一个长整型 **Long** 的值。\n",
    "* 方法 **inc** 包含如下代码：\n",
    "  * `counter = counter + 1` 递增 **counter**.\n",
    "  * `if (counter > max) { counter = 0 }` 检查counter是否大于最大值**max**，如果大于的话，重置成0。\n",
    "  * `counter` -- 最后这一行很重要\n",
    "    * 一个代码块的最后一行被认为是该代码块的返回值，调用者可以使用或忽略该返回值。\n",
    "    * 这是一个通用的办法；例如，在`if`和`else`语句中，真假分支都可以是代码块，所以`if...else`语句也可以返回值：例如`val result = if (10 * 10 > 90) \"greater\" else \"lesser\"`的返回值就是\"greater\"。\n",
    "  * 所以在这里，方法**inc**的返回值就是**counter**。\n",
    "* `println(s\"counter created with max value $max\")` 在标准输出stdout中打印出一个字符串。由于**println**直接位于定义类的代码块中，所以它会在每一次创建该类的实例时都会被运行。\n",
    "* 这里打印的字符串是一个_被解析（interpolated）的_ 字符串。\n",
    "  * 在引号前面的 **s** 表示这是一个被解析的字符串。\n",
    "  * 被解析的字符串会在运行的时候才被处理。\n",
    "  * 字符串中的 **\\$max** 会被变量max的值所替换。\n",
    "  * 如果**\\$** 后面跟的是任意Scala代码块的话，这个代码块可以包含任何Scala语句。\n",
    "    * 例如，**`println(s\"doubled max is ${max + max}\")`**.\n",
    "    * 这个代码块的返回值将会替换掉字符串中的 `${...}`。\n",
    "    * 如果返回值不是字符串，则会被转换为1；理论上scala中几乎每个类型都可以隐式地转换为字符串）。\n",
    "  * 除非您正在调试，否则应该避免类似这样每次创建类的实例时都要打印的内容，以避免标准输出显示了太多东西。"
   ]
  },
  {
   "cell_type": "markdown",
   "metadata": {},
   "source": [
    "---\n",
    "# 创建类的实例\n",
    "\n",
    "让我们使用上面的例子来创建一个类的实例。 Scala实例是通过关键字`new`来创建的。"
   ]
  },
  {
   "cell_type": "code",
   "execution_count": 14,
   "metadata": {},
   "outputs": [
    {
     "name": "stdout",
     "output_type": "stream",
     "text": [
      "counter created with max value 3\n"
     ]
    },
    {
     "data": {
      "text/plain": [
       "\u001b[36mx\u001b[39m: \u001b[32mWrapCounter\u001b[39m = ammonite.$sess.cmd12$Helper$WrapCounter@8833366"
      ]
     },
     "execution_count": 14,
     "metadata": {},
     "output_type": "execute_result"
    }
   ],
   "source": [
    "val x = new WrapCounter(2)"
   ]
  },
  {
   "cell_type": "markdown",
   "metadata": {},
   "source": [
    "您可能也会看到不使用关键字`new`来创建的实例，例如`val y = WrapCounter(6)`。\n",
    "\n",
    "这样的情况经常发生，特别值得注意，但需要使用companion对象。稍后会对此进行详细说明。\n",
    "\n",
    "下面的代码会使用刚刚创建出来的实例（试试运行两次下面的单元格）。"
   ]
  },
  {
   "cell_type": "code",
   "execution_count": 15,
   "metadata": {},
   "outputs": [
    {
     "data": {
      "text/plain": [
       "\u001b[36mres14_0\u001b[39m: \u001b[32mLong\u001b[39m = \u001b[32m1L\u001b[39m\n",
       "\u001b[36mres14_2\u001b[39m: \u001b[32mLong\u001b[39m = \u001b[32m2L\u001b[39m"
      ]
     },
     "execution_count": 15,
     "metadata": {},
     "output_type": "execute_result"
    }
   ],
   "source": [
    "x.inc() // Increments the counter\n",
    "\n",
    "// Member variables of the instance x are visible to the outside, unless they are declared private\n",
    "if(x.counter == x.max) {              \n",
    "    println(\"counter is about to wrap\")\n",
    "}\n",
    "\n",
    "x inc() // Scala allows the dots to be omitted; this can be useful for making embedded DSL's look more natural"
   ]
  },
  {
   "cell_type": "markdown",
   "metadata": {},
   "source": [
    "---\n",
    "# 代码块\n",
    "\n",
    "代码块由大括号分隔，可以包含零行或多行Scala代码。代码块的最后一行就是该代码块的返回值（返回值可以被调用者忽略）。没有任何代码的代码块会返回一个类似于null的特殊对象，名为`Unit`。Scala中有非常多的代码块：例如类的定义，函数和方法的定义，也可以是`if`语句的子句，或者构成`for`语句主体，等等。\n",
    "\n",
    "## 参数化的代码块\n",
    "\n",
    "代码块也可以带参数。在定义类或者方法的时候，这些参数看起来与其他传统编程语言类似。在下面的例子中，`c`和`s`是代码块的参数："
   ]
  },
  {
   "cell_type": "code",
   "execution_count": 16,
   "metadata": {},
   "outputs": [
    {
     "data": {
      "text/plain": [
       "defined \u001b[32mfunction\u001b[39m \u001b[36madd1\u001b[39m\n",
       "defined \u001b[32mclass\u001b[39m \u001b[36mRepeatString\u001b[39m"
      ]
     },
     "execution_count": 16,
     "metadata": {},
     "output_type": "execute_result"
    }
   ],
   "source": [
    "// A one-line code block doesn't need to be enclosed in {}\n",
    "def add1(c: Int): Int = c + 1\n",
    "\n",
    "class RepeatString(s: String) {\n",
    "  val repeatedString = s + s\n",
    "}"
   ]
  },
  {
   "cell_type": "markdown",
   "metadata": {},
   "source": [
    "**重要**：还有另一种方法可以参数化代码块。下面是例子："
   ]
  },
  {
   "cell_type": "code",
   "execution_count": 17,
   "metadata": {},
   "outputs": [
    {
     "data": {
      "text/plain": [
       "\u001b[36mintList\u001b[39m: \u001b[32mList\u001b[39m[\u001b[32mInt\u001b[39m] = \u001b[33mList\u001b[39m(\u001b[32m1\u001b[39m, \u001b[32m2\u001b[39m, \u001b[32m3\u001b[39m)\n",
       "\u001b[36mstringList\u001b[39m: \u001b[32mList\u001b[39m[\u001b[32mString\u001b[39m] = \u001b[33mList\u001b[39m(\u001b[32m\"1\"\u001b[39m, \u001b[32m\"2\"\u001b[39m, \u001b[32m\"3\"\u001b[39m)"
      ]
     },
     "execution_count": 17,
     "metadata": {},
     "output_type": "execute_result"
    }
   ],
   "source": [
    "val intList = List(1, 2, 3)\n",
    "val stringList = intList.map { i =>\n",
    "  i.toString\n",
    "}"
   ]
  },
  {
   "cell_type": "markdown",
   "metadata": {},
   "source": [
    "代码块被传递给List类的`map`方法。`map`方法需要一个代码块的参数，从而为列表的每个成员调用该代码块。这里传入的代码块的意思是将元素转换为字符串表示。Scala在许多地方都可以用类似的语法，您可能在不同的地方以不同的方式看到它。这种类型的代码块被称为匿名函数，稍后的章节中会介绍有关匿名函数更详细的信息。"
   ]
  },
  {
   "cell_type": "markdown",
   "metadata": {},
   "source": [
    "这里的目标是帮助您在遇到时能够识别它们。随着更多地使用Scala，这样的代码会看起来更加舒适和熟悉。作者更倾向于使用特定的风格，这里也有个人喜好的问题。使用一行表示的代码（One-liner）会使代码看起来更紧凑，而使用复杂的代码块通常看起来更容易懂。为了使沟通和协作更容易，可以阅读[Scala代码规范](http://docs.scala-lang.org/style/)。"
   ]
  },
  {
   "cell_type": "markdown",
   "metadata": {},
   "source": [
    "---\n",
    "# 用参数名进行调用，以及默认参数\n",
    "看下面的方法定义：\n",
    "```scala\n",
    "def myMethod(count: Int, wrap: Boolean, wrapValue: Int = 24): Unit = { ... }\n",
    "```\n",
    "调用方法时，可以同时使用参数名和参数值：\n",
    "```scala\n",
    "myMethod(count = 10, wrap = false, wrapValue = 23)\n",
    "```\n",
    "使用参数名传递参数的话可以在调用时不在乎参数的顺序：\n",
    "```scala\n",
    "myMethod(wrapValue = 23, wrap = false, count = 10)\n",
    "```\n",
    "对于经常调用的方法，参数的顺序可能很明显。但是对于不太常用的方法，特别是布尔参数，调用时使用参数名可以使您的代码更具可读性。如果方法需要传递的参数许多都是相同的类型，使用参数名也可以减少出错的可能性。类的参数也一样（通常只是类的构造函数的参数）。 \n",
    "\n",
    "当特定的参数有默认值的时候, 调用者只需要（通过参数名）传入那些没有默认值的参数即可。例如在上面，参数`wrapValue`的默认值是24。 所以下面的代码：\n",
    "\n",
    "```scala\n",
    "myMethod(wrap = false, count = 10)\n",
    "```\n",
    "会认为`wrapValue`参数已经传入了24."
   ]
  },
  {
   "cell_type": "markdown",
   "metadata": {},
   "source": [
    "---\n",
    "# 第一章结束\n",
    "\n",
    "[返回顶部](#top)"
   ]
  }
 ],
 "metadata": {
  "kernelspec": {
   "display_name": "Scala",
   "language": "scala",
   "name": "scala"
  },
  "language_info": {
   "codemirror_mode": "text/x-scala",
   "file_extension": ".scala",
   "mimetype": "text/x-scala",
   "name": "scala",
   "nbconvert_exporter": "script",
   "version": "2.12.8"
  }
 },
 "nbformat": 4,
 "nbformat_minor": 2
}
