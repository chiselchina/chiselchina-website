{
 "cells": [
  {
   "cell_type": "markdown",
   "metadata": {
    "collapsed": true
   },
   "source": [
    "# 第二章第三节：控制流（Control Flow）\n",
    "\n",
    "\n",
    "## 本节的目的\n",
    "到目前为止，Chisel中的硬件实现都还能和软件对应上。\n",
    "在控制流中，硬件和软件将开始会有很大的不同。\n",
    "这一节中会介绍软件生成器中的控制流和硬件中的控制流。\n",
    "例如重新连接Chisel中的线（wire）会发生什么？\n",
    "怎样定义一个具有两个以上输入的多路复用器？\n",
    "完成这一节后，您就可以回答这些问题。\n",
    "\n",
    "## 设置"
   ]
  },
  {
   "cell_type": "code",
   "execution_count": null,
   "metadata": {
    "scrolled": false
   },
   "outputs": [],
   "source": [
    "val path = System.getProperty(\"user.dir\") + \"/source/load-ivy.sc\"\n",
    "interp.load.module(ammonite.ops.Path(java.nio.file.FileSystems.getDefault().getPath(path)))"
   ]
  },
  {
   "cell_type": "code",
   "execution_count": 2,
   "metadata": {},
   "outputs": [
    {
     "data": {
      "text/plain": [
       "\u001b[32mimport \u001b[39m\u001b[36mchisel3._\n",
       "\u001b[39m\n",
       "\u001b[32mimport \u001b[39m\u001b[36mchisel3.util._\n",
       "\u001b[39m\n",
       "\u001b[32mimport \u001b[39m\u001b[36mchisel3.iotesters.{ChiselFlatSpec, Driver, PeekPokeTester}\u001b[39m"
      ]
     },
     "execution_count": 2,
     "metadata": {},
     "output_type": "execute_result"
    }
   ],
   "source": [
    "import chisel3._\n",
    "import chisel3.util._\n",
    "import chisel3.iotesters.{ChiselFlatSpec, Driver, PeekPokeTester}"
   ]
  },
  {
   "cell_type": "markdown",
   "metadata": {},
   "source": [
    "---\n",
    "# 最终连接的语义\n",
    "\n",
    "<span style=\"color:blue\">**例子：重新赋值**</span><br>\n",
    "如前所述，Chisel允许您使用`:=`运算符来连接组件。\n",
    "由于种种原因，您可以多次将信号连接到同一组件上。\n",
    "发生这种情况时，最后一个语句将会获胜。"
   ]
  },
  {
   "cell_type": "code",
   "execution_count": 3,
   "metadata": {},
   "outputs": [
    {
     "name": "stdout",
     "output_type": "stream",
     "text": [
      "[\u001b[35minfo\u001b[0m] [0.001] Elaborating design...\n",
      "[\u001b[35minfo\u001b[0m] [0.751] Done elaborating.\n",
      "Total FIRRTL Compile Time: 385.8 ms\n",
      "Total FIRRTL Compile Time: 14.8 ms\n",
      "End of dependency graph\n",
      "Circuit state created\n",
      "[\u001b[35minfo\u001b[0m] [0.002] SEED 1562046535998\n",
      "test cmd2HelperLastConnect Success: 1 tests passed in 5 cycles taking 0.019492 seconds\n",
      "[\u001b[35minfo\u001b[0m] [0.008] RAN 0 CYCLES PASSED\n",
      "SUCCESS!!\n"
     ]
    },
    {
     "data": {
      "text/plain": [
       "defined \u001b[32mclass\u001b[39m \u001b[36mLastConnect\u001b[39m\n",
       "defined \u001b[32mclass\u001b[39m \u001b[36mLastConnectTester\u001b[39m\n",
       "\u001b[36mworks\u001b[39m: \u001b[32mBoolean\u001b[39m = true"
      ]
     },
     "execution_count": 3,
     "metadata": {},
     "output_type": "execute_result"
    }
   ],
   "source": [
    "class LastConnect extends Module {\n",
    "  val io = IO(new Bundle {\n",
    "    val in = Input(UInt(4.W))\n",
    "    val out = Output(UInt(4.W))\n",
    "  })\n",
    "  io.out := 1.U\n",
    "  io.out := 2.U\n",
    "  io.out := 3.U\n",
    "  io.out := 4.U\n",
    "}\n",
    "\n",
    "// Chisel 代码: 声明一个新的测试\n",
    "class LastConnectTester(c: LastConnect) extends PeekPokeTester(c) {\n",
    "  expect(c.io.out, 4)  // 断言：输出将会是最后一次连接 4\n",
    "}\n",
    "\n",
    "//  测试 LastConnect\n",
    "val works = Driver(() => new LastConnect) {\n",
    "  c => new LastConnectTester(c)\n",
    "}\n",
    "assert(works)        // Scala 代码: 如果 works == false 的话会抛出异常\n",
    "println(\"SUCCESS!!\") // Scala 代码: 到这里的话表示测试通过"
   ]
  },
  {
   "cell_type": "markdown",
   "metadata": {},
   "source": [
    "---\n",
    "# `when`，`elsewhen`，和`otherwise`\n",
    "\n",
    "Chisel中条件逻辑的主要依赖于`when`，`elsewhen`和`otherwise`结构来实现。\n",
    "类似下面这样：\n",
    "```scala\n",
    "when(someBooleanCondition) {\n",
    "  // 当someBooleanCondition条件为真时的电路\n",
    "}.elsewhen(someOtherBooleanCondition) {\n",
    "  // 当someBooleanCondition条件为假，但是someOtherBooleanCondition为真时的电路\n",
    "}.otherwise {\n",
    "  // 上面所有条件都不为真时的电路\n",
    "}\n",
    "```\n",
    "\n",
    "`when`，`elsewhen`，和`otherwise`必须以上述顺序出现，但除`when`之外，后面两个中的任何一个都可以被省略。\n",
    "根据需要，也可以包含更多的`elsewhen`语句。\n",
    "当任何语句为真时，该构造被终止。\n",
    "在三个语句块中可以包含任何语句，甚至是嵌套包含`when`。\n",
    "\n",
    "和Scala中的`if`**不一样**，`when`中的语句块不能返回值。\n",
    "例如下面的情况是非法的：\n",
    "```scala\n",
    "val result = when(squareIt) { x * x }.otherwise { x }\n",
    "```\n",
    "上面的语句**不能**工作。我们将在*Wires*一节讨论解决方案。\n",
    "\n",
    "<span style=\"color:blue\">**例子：Chisel的条件语句**</span><br>\n",
    "下面是一个使用了`when`语句模块`Module`的例子。"
   ]
  },
  {
   "cell_type": "code",
   "execution_count": 4,
   "metadata": {},
   "outputs": [
    {
     "name": "stdout",
     "output_type": "stream",
     "text": [
      "[\u001b[35minfo\u001b[0m] [0.000] Elaborating design...\n",
      "[\u001b[35minfo\u001b[0m] [0.018] Done elaborating.\n",
      "Total FIRRTL Compile Time: 57.9 ms\n",
      "Total FIRRTL Compile Time: 23.9 ms\n",
      "End of dependency graph\n",
      "Circuit state created\n",
      "[\u001b[35minfo\u001b[0m] [0.000] SEED 1562046538403\n",
      "test cmd3HelperMax3 Success: 4 tests passed in 5 cycles taking 0.013157 seconds\n",
      "[\u001b[35minfo\u001b[0m] [0.009] RAN 0 CYCLES PASSED\n",
      "SUCCESS!!\n"
     ]
    },
    {
     "data": {
      "text/plain": [
       "defined \u001b[32mclass\u001b[39m \u001b[36mMax3\u001b[39m\n",
       "defined \u001b[32mclass\u001b[39m \u001b[36mMax3Tester\u001b[39m\n",
       "\u001b[36mworks\u001b[39m: \u001b[32mBoolean\u001b[39m = true"
      ]
     },
     "execution_count": 4,
     "metadata": {},
     "output_type": "execute_result"
    }
   ],
   "source": [
    "// Max3返回三个输入中最大的一个\n",
    "class Max3 extends Module {\n",
    "  val io = IO(new Bundle {\n",
    "    val in1 = Input(UInt(16.W))\n",
    "    val in2 = Input(UInt(16.W))\n",
    "    val in3 = Input(UInt(16.W))\n",
    "    val out = Output(UInt(16.W))\n",
    "  })\n",
    "    \n",
    "  when(io.in1 > io.in2 && io.in1 > io.in3) {\n",
    "    io.out := io.in1  \n",
    "  }.elsewhen(io.in2 > io.in1 && io.in2 > io.in3) {\n",
    "    io.out := io.in2 \n",
    "  }.otherwise {\n",
    "    io.out := io.in3\n",
    "  }\n",
    "}\n",
    "\n",
    "// 测试正确的返回三个输入中最大的一个\n",
    "class Max3Tester(c: Max3) extends PeekPokeTester(c) {\n",
    "  poke(c.io.in1, 6)\n",
    "  poke(c.io.in2, 4)  \n",
    "  poke(c.io.in3, 2)  \n",
    "  expect(c.io.out, 6)  // 第一个输入应该是最大的\n",
    "  poke(c.io.in2, 7)  \n",
    "  expect(c.io.out, 7)  // 第二个输入应该是最大的\n",
    "  poke(c.io.in3, 11)  \n",
    "  expect(c.io.out, 11) // 第三个输入应该是最大的\n",
    "  poke(c.io.in3, 3)  \n",
    "  expect(c.io.out, 7)  // 测试递减序列\n",
    "}\n",
    "\n",
    "// 测试 Max3\n",
    "val works = Driver(() => new Max3) {\n",
    "  c => new Max3Tester(c)\n",
    "}\n",
    "assert(works)        // Scala 代码：如果 works == false 会抛出异常\n",
    "println(\"SUCCESS!!\") // Scala 代码：到这里测试就通过了"
   ]
  },
  {
   "cell_type": "markdown",
   "metadata": {},
   "source": [
    "---\n",
    "# `Wire`结构\n",
    "\n",
    "让我们回到上面`when`不返回值的限制。\n",
    "Chisel中的`Wire`结构是解决这个问题的方法之一。\n",
    "`Wire`定义了一个可以出现在语句右侧的电路器件，它也可以放在语句的左侧，之后紧跟`:=`操作符。\n",
    "\n",
    "<span style=\"color:blue\">**例子：使用线Wire的4个输入的排序电路**</span><br>\n",
    "\n",
    "为了说明这一点，我们来写一个用于排序的组合电路。它有四个输入和四个输出。如下图中所示，当左边的值小于右边的值时，数据会循着红线到下一行；而当左边的值大于右边时，数据会循着黑线，从而交换这两个值。\n",
    "\n",
    "![Sort4](images/Sorter4.png)\n",
    "\n",
    "该图显示了一系列名称以*row*开头的单元，我们将使用`Wire`来构建这些单元，并放置上面的拷贝或交换的结果。这个代码非常冗长，但之后您会看到缩减版。"
   ]
  },
  {
   "cell_type": "code",
   "execution_count": 5,
   "metadata": {
    "scrolled": true
   },
   "outputs": [
    {
     "name": "stdout",
     "output_type": "stream",
     "text": [
      "[\u001b[35minfo\u001b[0m] [0.000] Elaborating design...\n",
      "[\u001b[35minfo\u001b[0m] [0.018] Done elaborating.\n",
      "Total FIRRTL Compile Time: 85.6 ms\n",
      "Total FIRRTL Compile Time: 36.6 ms\n",
      "End of dependency graph\n",
      "Circuit state created\n",
      "[\u001b[35minfo\u001b[0m] [0.000] SEED 1562046539525\n",
      "test cmd4HelperSort4 Success: 12 tests passed in 5 cycles taking 0.020994 seconds\n",
      "[\u001b[35minfo\u001b[0m] [0.015] RAN 0 CYCLES PASSED\n",
      "SUCCESS!!\n"
     ]
    },
    {
     "data": {
      "text/plain": [
       "defined \u001b[32mclass\u001b[39m \u001b[36mSort4\u001b[39m\n",
       "defined \u001b[32mclass\u001b[39m \u001b[36mSort4Tester\u001b[39m\n",
       "\u001b[36mworks\u001b[39m: \u001b[32mBoolean\u001b[39m = true"
      ]
     },
     "execution_count": 5,
     "metadata": {},
     "output_type": "execute_result"
    }
   ],
   "source": [
    "/** Sort4 将4个输入排序，并输出4个数 */\n",
    "class Sort4 extends Module {\n",
    "  val io = IO(new Bundle {\n",
    "    val in0 = Input(UInt(16.W))\n",
    "    val in1 = Input(UInt(16.W))\n",
    "    val in2 = Input(UInt(16.W))\n",
    "    val in3 = Input(UInt(16.W))\n",
    "    val out0 = Output(UInt(16.W))\n",
    "    val out1 = Output(UInt(16.W))\n",
    "    val out2 = Output(UInt(16.W))\n",
    "    val out3 = Output(UInt(16.W))\n",
    "  })\n",
    "\n",
    "  val row10 = Wire(UInt(16.W))\n",
    "  val row11 = Wire(UInt(16.W))\n",
    "  val row12 = Wire(UInt(16.W))\n",
    "  val row13 = Wire(UInt(16.W))\n",
    "\n",
    "  when(io.in0 < io.in1) {\n",
    "    row10 := io.in0            // 保留头两个元素\n",
    "    row11 := io.in1\n",
    "  }.otherwise {\n",
    "    row10 := io.in1            // 交换头两个元素\n",
    "    row11 := io.in0\n",
    "  }\n",
    "\n",
    "  when(io.in2 < io.in3) {\n",
    "    row12 := io.in2            // 保留最后两个元素\n",
    "    row13 := io.in3\n",
    "  }.otherwise {\n",
    "    row12 := io.in3            // 交换最后两个元素\n",
    "    row13 := io.in2\n",
    "  }\n",
    "\n",
    "  val row21 = Wire(UInt(16.W))\n",
    "  val row22 = Wire(UInt(16.W))\n",
    "\n",
    "  when(row11 < row12) {\n",
    "    row21 := row11            // 保留中间两个元素\n",
    "    row22 := row12\n",
    "  }.otherwise {\n",
    "    row21 := row12            // 交换中间两个元素\n",
    "    row22 := row11\n",
    "  }\n",
    "\n",
    "  val row20 = Wire(UInt(16.W))\n",
    "  val row23 = Wire(UInt(16.W))\n",
    "  when(row10 < row13) {\n",
    "    row20 := row10            // 保留中间两个元素\n",
    "    row23 := row13\n",
    "  }.otherwise {\n",
    "    row20 := row13            // 交换中间两个元素\n",
    "    row23 := row10\n",
    "  }\n",
    "\n",
    "  when(row20 < row21) {\n",
    "    io.out0 := row20            // 保留头两个元素\n",
    "    io.out1 := row21\n",
    "  }.otherwise {\n",
    "    io.out0 := row21            // 交换头两个元素\n",
    "    io.out1 := row20\n",
    "  }\n",
    "\n",
    "  when(row22 < row23) {\n",
    "    io.out2 := row22            // 保留头两个元素\n",
    "    io.out3 := row23\n",
    "  }.otherwise {\n",
    "    io.out2 := row23            // 交换头两个元素\n",
    "    io.out3 := row22\n",
    "  }\n",
    "}\n",
    "\n",
    "// 检查输入被正确的排序\n",
    "class Sort4Tester(c: Sort4) extends PeekPokeTester(c) {\n",
    "  poke(c.io.in0, 3)\n",
    "  poke(c.io.in1, 6)\n",
    "  poke(c.io.in2, 9)\n",
    "  poke(c.io.in3, 12)\n",
    "  expect(c.io.out0, 3)\n",
    "  expect(c.io.out1, 6)\n",
    "  expect(c.io.out2, 9)\n",
    "  expect(c.io.out3, 12)\n",
    "\n",
    "  poke(c.io.in0, 13)\n",
    "  poke(c.io.in1, 4)\n",
    "  poke(c.io.in2, 6)\n",
    "  poke(c.io.in3, 1)\n",
    "  expect(c.io.out0, 1)\n",
    "  expect(c.io.out1, 4)\n",
    "  expect(c.io.out2, 6)\n",
    "  expect(c.io.out3, 13)\n",
    "    \n",
    "  poke(c.io.in0, 13)\n",
    "  poke(c.io.in1, 6)\n",
    "  poke(c.io.in2, 4)\n",
    "  poke(c.io.in3, 1)\n",
    "  expect(c.io.out0, 1)\n",
    "  expect(c.io.out1, 4)\n",
    "  expect(c.io.out2, 6)\n",
    "  expect(c.io.out3, 13)\n",
    "}\n",
    "\n",
    "// 测试\n",
    "val works = iotesters.Driver(() => new Sort4) {\n",
    "c => new Sort4Tester(c)\n",
    "}\n",
    "assert(works) // Scala 代码：如果 works == false，这里会抛出异常\n",
    "println(\"SUCCESS!!\") // Scala 代码：到这里测试就通过了\n"
   ]
  },
  {
   "cell_type": "markdown",
   "metadata": {},
   "source": [
    "下面是一个更详尽的测试，使用了Scala的`List`功能。您可以在之后的模块中看到更多`List`的函数。"
   ]
  },
  {
   "cell_type": "code",
   "execution_count": 6,
   "metadata": {},
   "outputs": [
    {
     "name": "stdout",
     "output_type": "stream",
     "text": [
      "[\u001b[35minfo\u001b[0m] [0.000] Elaborating design...\n",
      "[\u001b[35minfo\u001b[0m] [0.078] Done elaborating.\n",
      "Total FIRRTL Compile Time: 66.5 ms\n",
      "Total FIRRTL Compile Time: 37.8 ms\n",
      "End of dependency graph\n",
      "Circuit state created\n",
      "[\u001b[35minfo\u001b[0m] [0.000] SEED 1562046540126\n",
      "[\u001b[35minfo\u001b[0m] [0.016] Sorting 1 2 3 4\n",
      "[\u001b[35minfo\u001b[0m] [0.022] Sorting 1 2 4 3\n",
      "[\u001b[35minfo\u001b[0m] [0.023] Sorting 1 3 2 4\n",
      "[\u001b[35minfo\u001b[0m] [0.026] Sorting 1 3 4 2\n",
      "[\u001b[35minfo\u001b[0m] [0.028] Sorting 1 4 2 3\n",
      "[\u001b[35minfo\u001b[0m] [0.032] Sorting 1 4 3 2\n",
      "[\u001b[35minfo\u001b[0m] [0.034] Sorting 2 1 3 4\n",
      "[\u001b[35minfo\u001b[0m] [0.036] Sorting 2 1 4 3\n",
      "[\u001b[35minfo\u001b[0m] [0.038] Sorting 2 3 1 4\n",
      "[\u001b[35minfo\u001b[0m] [0.039] Sorting 2 3 4 1\n",
      "[\u001b[35minfo\u001b[0m] [0.042] Sorting 2 4 1 3\n",
      "[\u001b[35minfo\u001b[0m] [0.043] Sorting 2 4 3 1\n",
      "[\u001b[35minfo\u001b[0m] [0.044] Sorting 3 1 2 4\n",
      "[\u001b[35minfo\u001b[0m] [0.046] Sorting 3 1 4 2\n",
      "[\u001b[35minfo\u001b[0m] [0.047] Sorting 3 2 1 4\n",
      "[\u001b[35minfo\u001b[0m] [0.048] Sorting 3 2 4 1\n",
      "[\u001b[35minfo\u001b[0m] [0.049] Sorting 3 4 1 2\n",
      "[\u001b[35minfo\u001b[0m] [0.050] Sorting 3 4 2 1\n",
      "[\u001b[35minfo\u001b[0m] [0.051] Sorting 4 1 2 3\n",
      "[\u001b[35minfo\u001b[0m] [0.052] Sorting 4 1 3 2\n",
      "[\u001b[35minfo\u001b[0m] [0.054] Sorting 4 2 1 3\n",
      "[\u001b[35minfo\u001b[0m] [0.056] Sorting 4 2 3 1\n",
      "[\u001b[35minfo\u001b[0m] [0.057] Sorting 4 3 1 2\n",
      "[\u001b[35minfo\u001b[0m] [0.058] Sorting 4 3 2 1\n",
      "test cmd4HelperSort4 Success: 96 tests passed in 5 cycles taking 0.063934 seconds\n",
      "[\u001b[35minfo\u001b[0m] [0.061] RAN 0 CYCLES PASSED\n",
      "SUCCESS!!\n"
     ]
    },
    {
     "data": {
      "text/plain": [
       "defined \u001b[32mclass\u001b[39m \u001b[36mBetterSort4Tester\u001b[39m\n",
       "\u001b[36mworks\u001b[39m: \u001b[32mBoolean\u001b[39m = true"
      ]
     },
     "execution_count": 6,
     "metadata": {},
     "output_type": "execute_result"
    }
   ],
   "source": [
    "// 检查四个数的所有排列组合的排序\n",
    "class BetterSort4Tester(c: Sort4) extends PeekPokeTester(c) {\n",
    "  List(1, 2, 3, 4).permutations.foreach { case i0 :: i1 :: i2 :: i3 :: Nil =>\n",
    "    println(s\"Sorting $i0 $i1 $i2 $i3\")\n",
    "    poke(c.io.in0, i0)\n",
    "    poke(c.io.in1, i1)\n",
    "    poke(c.io.in2, i2)\n",
    "    poke(c.io.in3, i3)\n",
    "    expect(c.io.out0, 1)\n",
    "    expect(c.io.out1, 2)\n",
    "    expect(c.io.out2, 3)\n",
    "    expect(c.io.out3, 4)\n",
    "  }\n",
    "}\n",
    "\n",
    "// 测试\n",
    "val works = iotesters.Driver(() => new Sort4) {\n",
    "c => new BetterSort4Tester(c)\n",
    "}\n",
    "assert(works) // Scala 代码：如果 works == false，这里会抛出异常\n",
    "println(\"SUCCESS!!\") // Scala 代码：到这里测试就通过了"
   ]
  },
  {
   "cell_type": "markdown",
   "metadata": {
    "collapsed": true
   },
   "source": [
    "---\n",
    "# 练习\n",
    "\n",
    "<span style=\"color:red\">**练习：多项式电路**</span><br>\n",
    "写一个模块来计算下面的多项式：\n",
    "- $x^2 - 2x + 1$\n",
    "- $2x^2 + 6x + 3$\n",
    "- $4x^2 - 10x -5$\n",
    "\n",
    "\n",
    "选择器的一个输入用来决定所要计算的多项式。使用`Wire`使得$x^2$计算在模块中只出现一次，从而输出只有一个连接。\n",
    "\n",
    "首先让我们使用测试驱动开发（TDD），并使用Scala编写测试。完成下面这些函数，使得其通过后面的断言。这并不是一个详尽的测试，而只是一个简单的完整性检查。"
   ]
  },
  {
   "cell_type": "code",
   "execution_count": null,
   "metadata": {},
   "outputs": [],
   "source": [
    "def poly0(x: Int): Int = ???\n",
    "def poly1(x: Int): Int = ???\n",
    "def poly2(x: Int): Int = ???\n",
    "\n",
    "assert(poly0(0) == 1)\n",
    "assert(poly1(0) == 3)\n",
    "assert(poly2(0) == -5)\n",
    "\n",
    "assert(poly0(1) == 0)\n",
    "assert(poly1(1) == 11)\n",
    "assert(poly2(1) == -11)"
   ]
  },
  {
   "cell_type": "markdown",
   "metadata": {},
   "source": [
    "<div id=\"container\"><section id=\"accordion\"><div>\n",
    "<input type=\"checkbox\" id=\"check-1\" />\n",
    "<label for=\"check-1\"><strong>答案</strong></label>\n",
    "<article>\n",
    "<pre style=\"background-color:#f7f7f7\">\n",
    "def poly0(x: Int): Int = x\\*x - 2\\*x + 1\n",
    "def poly1(x: Int): Int = 2\\*x\\*x + 6\\*x + 3\n",
    "def poly2(x: Int): Int = 4\\*x\\*x - 10\\*x - 5\n",
    "</pre></article></div></section></div>"
   ]
  },
  {
   "cell_type": "markdown",
   "metadata": {},
   "source": [
    "为了使测试更容易，让我们创建一个类似于后面要完成的硬件模块的函数。使用Scala的`if`语句并根据`select`输入来选择多项式。"
   ]
  },
  {
   "cell_type": "code",
   "execution_count": null,
   "metadata": {},
   "outputs": [],
   "source": [
    "def poly(select: Int, x: Int): Int = {\n",
    "  ???\n",
    "}\n",
    "\n",
    "assert(poly(1, 0) == 3)\n",
    "assert(poly(1, 1) == 11)\n",
    "assert(poly(2, 1) == -11)"
   ]
  },
  {
   "cell_type": "markdown",
   "metadata": {},
   "source": [
    "<div id=\"container\"><section id=\"accordion\"><div>\n",
    "<input type=\"checkbox\" id=\"check-2\" />\n",
    "<label for=\"check-2\"><strong>答案</strong></label>\n",
    "<article>\n",
    "<pre style=\"background-color:#f7f7f7\">\n",
    "def poly(select: Int, x: Int): Int = {\n",
    "  if(select == 0) {\n",
    "    poly0(x)\n",
    "  }\n",
    "  else if(select == 1) {\n",
    "    poly1(x)\n",
    "  }\n",
    "  else {\n",
    "    poly2(x)\n",
    "  }\n",
    "}\n",
    "</pre></article></div></section></div>"
   ]
  },
  {
   "cell_type": "markdown",
   "metadata": {},
   "source": [
    "看起来这个测试计算的值是正确的。现在使用以下面的代码为模板来实现您的电路："
   ]
  },
  {
   "cell_type": "code",
   "execution_count": null,
   "metadata": {},
   "outputs": [],
   "source": [
    "// 计算多项式\n",
    "class Polynomial extends Module {\n",
    "  val io = IO(new Bundle {\n",
    "    val select = Input(UInt(2.W))\n",
    "    val x = Input(SInt(32.W))\n",
    "    val fOfX = Output(SInt(32.W))\n",
    "  })\n",
    "    \n",
    "  val result = Wire(SInt(32.W))  \n",
    "  val square = Wire(SInt(32.W))  \n",
    "  \n",
    "  ???\n",
    "\n",
    "  io.fOfX := result  \n",
    "}\n",
    "\n",
    "// 检查计算的正确性\n",
    "class PolynomialTester(c: Polynomial) extends PeekPokeTester(c) {\n",
    "  for(x <- 0 to 20) {\n",
    "    for(select <- 0 to 2) {\n",
    "      poke(c.io.select, select)\n",
    "      poke(c.io.x, x)\n",
    "      expect(c.io.fOfX, poly(select, x))\n",
    "    }\n",
    "  }\n",
    "}\n",
    "\n",
    "// 测试多项式\n",
    "val works = Driver(() => new Polynomial) {\n",
    "  c => new PolynomialTester(c)\n",
    "}\n",
    "assert(works) // Scala 代码：如果 works == false，这里会抛出异常\n",
    "println(\"SUCCESS!!\") // Scala 代码：到这里测试就通过了"
   ]
  },
  {
   "cell_type": "markdown",
   "metadata": {},
   "source": [
    "<div id=\"container\"><section id=\"accordion\"><div>\n",
    "<input type=\"checkbox\" id=\"check-3\" />\n",
    "<label for=\"check-3\"><strong>答案</strong></label>\n",
    "<article>\n",
    "<pre style=\"background-color:#f7f7f7\">\n",
    "  square := io.x \\* io.x\n",
    "  when(io.select === 0.U) {\n",
    "    result := (square - (2.S \\* io.x)) + 1.S\n",
    "  }.elsewhen(io.select === 1.U) {\n",
    "    result := (2.S \\* square) + (6.S \\* io.x) + 3.S\n",
    "  }.otherwise {\n",
    "    result := (4.S \\* square) - (10.S \\* io.x) - 5.S\n",
    "  }\n",
    "</pre></article></div></section></div>"
   ]
  },
  {
   "cell_type": "markdown",
   "metadata": {},
   "source": [
    "<span style=\"color:red\">**练习：有限状态机**</span><br>\n",
    "\n",
    "使用卡诺图（Karnaugh map）来优化状态机的逻辑非常繁琐，这可以通过综合工具来解决。并且它还会产生不直观且难以理解的代码。因此，我们将使用Chisel控制流和最后的连接语义编写一个更简单易懂的。\n",
    "\n",
    "研究生们在他们的学习生涯中会经历四种状态：空闲，编码，写作和毕业。这些状态根据三个输入来进行转换：咖啡，他们提出的想法，来自导师的压力。一旦他们毕业，他们就会回到空闲状态。下面的FSM图显示了这些状态和状态之间的转换。任何未标记的转换（即，当没有输入时）会将研究生返回到空闲状态而不是保持在当前状态。输入优先级是 咖啡（coffee） > 想法（idea） > 压力（pressure），所以如果处于空闲状态并同时接收到咖啡和压力时，研究生将转换到编码（Coding）状态。\n",
    "\n",
    "<img src=\"images/fsm.png\" width=\"500\" />\n",
    "\n",
    "首先，我们将构建一个模型来测试我们的硬件。在下面的代码中完成我们的状态机的功能。它有四个输入，输出是下一个状态。状态图已经提供了，您可以通过类似这样`states(\"grad\")`来访问它。"
   ]
  },
  {
   "cell_type": "code",
   "execution_count": null,
   "metadata": {},
   "outputs": [],
   "source": [
    "// 状态图\n",
    "def states = Map(\"idle\" -> 0, \"coding\" -> 1, \"writing\" -> 2, \"grad\" -> 3)\n",
    "\n",
    "// 生活就是由一堆问号构成\n",
    "def gradLife (state: Int, coffee: Boolean, idea: Boolean, pressure: Boolean): Int = {\n",
    "  var nextState = states(\"idle\")\n",
    "  ???\n",
    "  nextState\n",
    "}\n",
    "\n",
    "// 一些完整性测试\n",
    "(0 until states.size).foreach{ state => assert(gradLife(state, false, false, false) == states(\"idle\")) }\n",
    "assert(gradLife(states(\"writing\"), true, false, true) == states(\"writing\"))\n",
    "assert(gradLife(states(\"idle\"), true, true, true) == states(\"coding\"))\n",
    "assert(gradLife(states(\"idle\"), false, true, true) == states(\"idle\"))\n",
    "assert(gradLife(states(\"grad\"), false, false, false) == states(\"idle\"))"
   ]
  },
  {
   "cell_type": "markdown",
   "metadata": {},
   "source": [
    "<div id=\"container\"><section id=\"accordion\"><div>\n",
    "<input type=\"checkbox\" id=\"check-4\" />\n",
    "<label for=\"check-4\"><strong>答案</strong></label>\n",
    "<article>\n",
    "<pre style=\"background-color:#f7f7f7\">\n",
    "  if (state == states(\"idle\")) {\n",
    "    if      (coffee) { nextState = states(\"coding\") }\n",
    "    else if (idea) { nextState = states(\"idle\") }\n",
    "    else if (pressure) { nextState = states(\"writing\") }\n",
    "  } else if (state == states(\"coding\")) {\n",
    "    if      (coffee) { nextState = states(\"coding\") } \n",
    "    else if (idea || pressure) { nextState = states(\"writing\") }\n",
    "  } else if (state == states(\"writing\")) {\n",
    "    if      (coffee || idea) { nextState = states(\"writing\") }\n",
    "    else if (pressure) { nextState = states(\"grad\") }\n",
    "  }\n",
    "</pre></article></div></section></div>"
   ]
  },
  {
   "cell_type": "markdown",
   "metadata": {},
   "source": [
    "由于我们尚未学习时序逻辑，当前状态是模块的输入，而下一个状态是模块的输出，就像之前的`gradLife`函数一样。现在用让我们用Chisel来实现这个状态机，并让它通过测试。 Chisel为我们提供了一个方便的状态映射函数（来实现状态的值和名称之间的映射），称为`Enum`。要使用这些状态，请将它们视为类似`UInt`的字面值（literal）。记住，硬件相等使用的是三个等号！"
   ]
  },
  {
   "cell_type": "code",
   "execution_count": null,
   "metadata": {},
   "outputs": [],
   "source": [
    "// 生活更艰难了\n",
    "class GradLife extends Module {\n",
    "  val io = IO(new Bundle {\n",
    "    val state = Input(UInt(2.W))\n",
    "    val coffee = Input(Bool())\n",
    "    val idea = Input(Bool())\n",
    "    val pressure = Input(Bool())\n",
    "    val nextState = Output(UInt(2.W))\n",
    "  })\n",
    "    \n",
    "  val idle :: coding :: writing :: grad :: Nil = Enum(4)\n",
    "  \n",
    "  io.nextState := idle\n",
    "  ???\n",
    "}\n",
    "\n",
    "// 检查硬件和软件模型一致\n",
    "class GradLifeSim(c: GradLife) extends PeekPokeTester(c) {\n",
    "  for (state <- 0 to 3) {\n",
    "    for (coffee <- List(true, false)) {\n",
    "      for (idea <- List(true, false)) {\n",
    "        for (pressure <- List(true, false)) {\n",
    "          poke(c.io.state, state)\n",
    "          poke(c.io.coffee, coffee)\n",
    "          poke(c.io.idea, idea)\n",
    "          poke(c.io.pressure, pressure)\n",
    "          expect(c.io.nextState, gradLife(state, coffee, idea, pressure))\n",
    "        }\n",
    "      }\n",
    "    }\n",
    "  }\n",
    "}\n",
    "\n",
    "// 测试\n",
    "val works = Driver(() => new GradLife) {c => new GradLifeSim(c)}\n",
    "assert(works) // Scala 代码：如果 works == false，这里会抛出异常\n",
    "println(\"SUCCESS!!\") // Scala 代码：到这里测试就通过了"
   ]
  },
  {
   "cell_type": "markdown",
   "metadata": {},
   "source": [
    "<div id=\"container\"><section id=\"accordion\"><div>\n",
    "<input type=\"checkbox\" id=\"check-5\" />\n",
    "<label for=\"check-5\"><strong>答案</strong></label>\n",
    "<article>\n",
    "<pre style=\"background-color:#f7f7f7\">\n",
    "  when (io.state === idle) {\n",
    "    when      (io.coffee) { io.nextState := coding } \n",
    "    .elsewhen (io.idea) { io.nextState := idle }\n",
    "    .elsewhen (io.pressure) { io.nextState := writing }\n",
    "  } .elsewhen (io.state === coding) {\n",
    "    when      (io.coffee) { io.nextState := coding } \n",
    "    .elsewhen (io.idea || io.pressure) { io.nextState := writing }\n",
    "  } .elsewhen (io.state === writing) {\n",
    "    when      (io.coffee || io.idea) { io.nextState := writing }\n",
    "    .elsewhen (io.pressure) { io.nextState := grad }\n",
    "  }\n",
    "</pre></article></div></section></div>"
   ]
  },
  {
   "cell_type": "markdown",
   "metadata": {
    "collapsed": true
   },
   "source": [
    "---\n",
    "# 本节结束!\n",
    "\n",
    "[返回顶部](#top)"
   ]
  }
 ],
 "metadata": {
  "kernelspec": {
   "display_name": "Scala",
   "language": "scala",
   "name": "scala"
  },
  "language_info": {
   "codemirror_mode": "text/x-scala",
   "file_extension": ".scala",
   "mimetype": "text/x-scala",
   "name": "scala",
   "nbconvert_exporter": "script",
   "version": "2.12.8"
  }
 },
 "nbformat": 4,
 "nbformat_minor": 2
}
