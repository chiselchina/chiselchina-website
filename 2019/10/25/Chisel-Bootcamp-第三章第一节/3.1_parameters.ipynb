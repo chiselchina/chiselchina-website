{
 "cells": [
  {
   "cell_type": "markdown",
   "metadata": {},
   "source": [
    "# 第三章第一节：生成器：参数\n",
    "\n",
    "\n",
    "## 本节的目的\n",
    "\n",
    "要使Chisel模块成为代码生成器，必须有一些东西可以告诉生成器应该如何处理它的工作。\n",
    "在本节中，我们将讨论模块的参数化，参数化的各种方法以及Scala语言特性。\n",
    "能够靠参数传递实现的丰富程度与其生成的电路的丰富程度直接相关。\n",
    "参数应提供有用的默认值，易于设置，并防止非法或无意义的值。\n",
    "对于更复杂的系统，如果它们可以在局部被覆盖（override），而不会无意中影响其他模块中的使用，则非常有用。\n",
    "\n",
    "## 设置"
   ]
  },
  {
   "cell_type": "code",
   "execution_count": null,
   "metadata": {},
   "outputs": [],
   "source": [
    "val path = System.getProperty(\"user.dir\") + \"/source/load-ivy.sc\"\n",
    "interp.load.module(ammonite.ops.Path(java.nio.file.FileSystems.getDefault().getPath(path)))"
   ]
  },
  {
   "cell_type": "code",
   "execution_count": null,
   "metadata": {},
   "outputs": [],
   "source": [
    "import chisel3._\n",
    "import chisel3.util._\n",
    "import chisel3.iotesters.{ChiselFlatSpec, Driver, PeekPokeTester}"
   ]
  },
  {
   "cell_type": "markdown",
   "metadata": {},
   "source": [
    "---\n",
    "# 参数传递\n",
    "\n",
    "Chisel为编写硬件生成器提供了强大的语法。\n",
    "生成器可以接收一些电路参数并生成电路描述的程序。\n",
    "在本节中，我们将首先讨论Chisel生成器如何获取其参数。\n",
    "\n",
    "<span style =“color：blue”> **示例：参数化的Scala对象** </ span> <br>\n",
    "每个Chisel`模块`都是Scala类，就像其他任何类一样。\n",
    "回想一下，Scala类可以像这样参数化："
   ]
  },
  {
   "cell_type": "code",
   "execution_count": 3,
   "metadata": {},
   "outputs": [
    {
     "name": "stdout",
     "output_type": "stream",
     "text": [
      "I have parameters: param1 = 4 and param2 = Hello\n",
      "I have parameters: param1 = 6 and param2 = World\n"
     ]
    },
    {
     "data": {
      "text/plain": [
       "defined \u001b[32mclass\u001b[39m \u001b[36mParameterizedScalaObject\u001b[39m\n",
       "\u001b[36mobj1\u001b[39m: \u001b[32mParameterizedScalaObject\u001b[39m = ammonite.$sess.cmd2$Helper$ParameterizedScalaObject@74e68d48\n",
       "\u001b[36mobj2\u001b[39m: \u001b[32mParameterizedScalaObject\u001b[39m = ammonite.$sess.cmd2$Helper$ParameterizedScalaObject@5231ed71"
      ]
     },
     "execution_count": 3,
     "metadata": {},
     "output_type": "execute_result"
    }
   ],
   "source": [
    "class ParameterizedScalaObject(param1: Int, param2: String) {\n",
    "  println(s\"I have parameters: param1 = $param1 and param2 = $param2\")\n",
    "}\n",
    "val obj1 = new ParameterizedScalaObject(4,     \"Hello\")\n",
    "val obj2 = new ParameterizedScalaObject(4 + 2, \"World\")"
   ]
  },
  {
   "cell_type": "markdown",
   "metadata": {},
   "source": [
    "<span style =\"ccolor：blue\"> **示例：参数化Chisel对象** </span> <br>\n",
    "Chisel模块可以以相同的方式参数化。\n",
    "以下模块的所有输入和输出都包含了作为其宽度的参数。\n",
    "运行下面的代码将打印生成的Verilog。\n",
    "尝试一下别的参数并看看生成的结果有什么不同吧："
   ]
  },
  {
   "cell_type": "code",
   "execution_count": 4,
   "metadata": {},
   "outputs": [
    {
     "name": "stdout",
     "output_type": "stream",
     "text": [
      "[\u001b[35minfo\u001b[0m] [0.002] Elaborating design...\n",
      "[\u001b[35minfo\u001b[0m] [0.839] Done elaborating.\n",
      "Total FIRRTL Compile Time: 596.6 ms\n",
      "module cmd3HelperParameterizedWidthAdder(\n",
      "  input        clock,\n",
      "  input        reset,\n",
      "  input        io_in0,\n",
      "  input  [3:0] io_in1,\n",
      "  output [5:0] io_sum\n",
      ");\n",
      "  wire [3:0] _GEN_0; // @[cmd3.sc 11:20]\n",
      "  wire [4:0] _T; // @[cmd3.sc 11:20]\n",
      "  assign _GEN_0 = {{3'd0}, io_in0}; // @[cmd3.sc 11:20]\n",
      "  assign _T = _GEN_0 + io_in1; // @[cmd3.sc 11:20]\n",
      "  assign io_sum = {{1'd0}, _T}; // @[cmd3.sc 11:10]\n",
      "endmodule\n",
      "\n"
     ]
    },
    {
     "data": {
      "text/plain": [
       "defined \u001b[32mclass\u001b[39m \u001b[36mParameterizedWidthAdder\u001b[39m"
      ]
     },
     "execution_count": 4,
     "metadata": {},
     "output_type": "execute_result"
    }
   ],
   "source": [
    "class ParameterizedWidthAdder(in0Width: Int, in1Width: Int, sumWidth: Int) extends Module {\n",
    "  require(in0Width >= 0)\n",
    "  require(in1Width >= 0)\n",
    "  require(sumWidth >= 0)\n",
    "  val io = IO(new Bundle {\n",
    "    val in0 = Input(UInt(in0Width.W))\n",
    "    val in1 = Input(UInt(in1Width.W))\n",
    "    val sum = Output(UInt(sumWidth.W))\n",
    "  })\n",
    "  // a +& b 包含进位, 而 a + b 不包含\n",
    "  io.sum := io.in0 +& io.in1\n",
    "}\n",
    "\n",
    "println(getVerilog(new ParameterizedWidthAdder(1, 4, 6))) // 以宽度 1，4，6 生成电路"
   ]
  },
  {
   "cell_type": "markdown",
   "metadata": {},
   "source": [
    "\n",
    "上面的代码块包含一些`require（...）`语句。\n",
    "这些是在电路展开（elaboration）之前运行的断言，当您的生成器仅适用于某些参数化或者某些参数是互斥或相关时，这些断言非常有用。\n",
    "上面的代码检查宽度是否为负数。\n",
    "\n",
    "在电路仿真时（simulation）的断言叫做`assert（...）`。\n",
    "\n",
    "## 参数化的排序模块\n",
    "\n",
    "下面的代码块是一个参数化的排序模块，类似于2.3节中的`Sort4`。\n",
    "与前面带参数化宽度IO的加法器示例不同，此示例具有固定IO。\n",
    "该参数控制模块内部生成的硬件。\n",
    "![Sort4](images/Sorter4.png)\n",
    "<span style=\"color:blue\"> **示例：参数化的四输入排序** </span><br>\n",
    "与2.3节不同的是，这里的实现被参数化为降序或升序。"
   ]
  },
  {
   "cell_type": "code",
   "execution_count": 5,
   "metadata": {},
   "outputs": [
    {
     "name": "stdout",
     "output_type": "stream",
     "text": [
      "[\u001b[35minfo\u001b[0m] [0.000] Elaborating design...\n",
      "[\u001b[35minfo\u001b[0m] [0.082] Done elaborating.\n",
      "Total FIRRTL Compile Time: 121.1 ms\n",
      "Total FIRRTL Compile Time: 64.7 ms\n",
      "End of dependency graph\n",
      "Circuit state created\n",
      "[\u001b[35minfo\u001b[0m] [0.003] SEED 1572042778423\n",
      "test cmd4HelperSort4 Success: 12 tests passed in 5 cycles taking 0.044866 seconds\n",
      "[\u001b[35minfo\u001b[0m] [0.020] RAN 0 CYCLES PASSED\n",
      "[\u001b[35minfo\u001b[0m] [0.000] Elaborating design...\n",
      "[\u001b[35minfo\u001b[0m] [0.010] Done elaborating.\n",
      "Total FIRRTL Compile Time: 66.2 ms\n",
      "Total FIRRTL Compile Time: 63.0 ms\n",
      "End of dependency graph\n",
      "Circuit state created\n",
      "[\u001b[35minfo\u001b[0m] [0.000] SEED 1572042779126\n",
      "test cmd4HelperSort4 Success: 12 tests passed in 5 cycles taking 0.021682 seconds\n",
      "[\u001b[35minfo\u001b[0m] [0.016] RAN 0 CYCLES PASSED\n",
      "SUCCESS!!\n"
     ]
    },
    {
     "data": {
      "text/plain": [
       "defined \u001b[32mclass\u001b[39m \u001b[36mSort4\u001b[39m\n",
       "defined \u001b[32mclass\u001b[39m \u001b[36mSort4AscendingTester\u001b[39m\n",
       "defined \u001b[32mclass\u001b[39m \u001b[36mSort4DescendingTester\u001b[39m\n",
       "\u001b[36mworksAscending\u001b[39m: \u001b[32mBoolean\u001b[39m = true\n",
       "\u001b[36mworksDescending\u001b[39m: \u001b[32mBoolean\u001b[39m = true"
      ]
     },
     "execution_count": 5,
     "metadata": {},
     "output_type": "execute_result"
    }
   ],
   "source": [
    "/** Sort4 接收 4 个输入，4 个输出为排序后的结果 */\n",
    "class Sort4(ascending: Boolean) extends Module {\n",
    "  val io = IO(new Bundle {\n",
    "    val in0 = Input(UInt(16.W))\n",
    "    val in1 = Input(UInt(16.W))\n",
    "    val in2 = Input(UInt(16.W))\n",
    "    val in3 = Input(UInt(16.W))\n",
    "    val out0 = Output(UInt(16.W))\n",
    "    val out1 = Output(UInt(16.W))\n",
    "    val out2 = Output(UInt(16.W))\n",
    "    val out3 = Output(UInt(16.W))\n",
    "  })\n",
    "    \n",
    "  // 这个比较函数根据参数来决定是升序还是降序\n",
    "  def comp(l: UInt, r: UInt): Bool = {\n",
    "      if (ascending) {\n",
    "        l < r\n",
    "      } else {\n",
    "        l > r\n",
    "    }\n",
    "  }\n",
    "\n",
    "  val row10 = Wire(UInt(16.W))\n",
    "  val row11 = Wire(UInt(16.W))\n",
    "  val row12 = Wire(UInt(16.W))\n",
    "  val row13 = Wire(UInt(16.W))\n",
    "\n",
    "  when(comp(io.in0, io.in1)) {\n",
    "    row10 := io.in0            // 保留前两个元素的顺序\n",
    "    row11 := io.in1\n",
    "  }.otherwise {\n",
    "    row10 := io.in1            // 交换前两个元素的顺序\n",
    "    row11 := io.in0\n",
    "  }\n",
    "\n",
    "  when(comp(io.in2, io.in3)) {\n",
    "    row12 := io.in2            // 保留后两个元素的顺序\n",
    "    row13 := io.in3\n",
    "  }.otherwise {\n",
    "    row12 := io.in3            // 交换后两个元素的顺序\n",
    "    row13 := io.in2\n",
    "  }\n",
    "\n",
    "  val row21 = Wire(UInt(16.W))\n",
    "  val row22 = Wire(UInt(16.W))\n",
    "\n",
    "  when(comp(row11, row12)) {\n",
    "    row21 := row11            // 保留中间两个元素的顺序\n",
    "    row22 := row12\n",
    "  }.otherwise {\n",
    "    row21 := row12            // 交换中间两个元素的顺序\n",
    "    row22 := row11\n",
    "  }\n",
    "\n",
    "  val row31 = Wire(UInt(16.W))\n",
    "  val row32 = Wire(UInt(16.W))\n",
    "  when(comp(row10, row13)) {\n",
    "    row31 := row10            // 保留中间两个元素的顺序\n",
    "    row32 := row13\n",
    "  }.otherwise {\n",
    "    row31 := row13            // 交换中间两个元素的顺序\n",
    "    row32 := row10\n",
    "  }\n",
    "\n",
    "  when(comp(row10, row21)) {\n",
    "    io.out0 := row31            // 保留前两个元素的顺序\n",
    "    io.out1 := row21\n",
    "  }.otherwise {\n",
    "    io.out0 := row21            // 交换前两个元素的顺序\n",
    "    io.out1 := row31\n",
    "  }\n",
    "\n",
    "  when(comp(row22, row13)) {\n",
    "    io.out2 := row22            // 保留后两个元素的顺序\n",
    "    io.out3 := row32\n",
    "  }.otherwise {\n",
    "    io.out2 := row32            // 交换后两个元素的顺序\n",
    "    io.out3 := row22\n",
    "  }\n",
    "}\n",
    "\n",
    "// 测试\n",
    "class Sort4AscendingTester(c: Sort4) extends PeekPokeTester(c) {\n",
    "  poke(c.io.in0, 3)\n",
    "  poke(c.io.in1, 6)\n",
    "  poke(c.io.in2, 9)\n",
    "  poke(c.io.in3, 12)\n",
    "  expect(c.io.out0, 3)\n",
    "  expect(c.io.out1, 6)\n",
    "  expect(c.io.out2, 9)\n",
    "  expect(c.io.out3, 12)\n",
    "\n",
    "  poke(c.io.in0, 13)\n",
    "  poke(c.io.in1, 4)\n",
    "  poke(c.io.in2, 6)\n",
    "  poke(c.io.in3, 1)\n",
    "  expect(c.io.out0, 1)\n",
    "  expect(c.io.out1, 4)\n",
    "  expect(c.io.out2, 6)\n",
    "  expect(c.io.out3, 13)\n",
    "\n",
    "  poke(c.io.in0, 13)\n",
    "  poke(c.io.in1, 6)\n",
    "  poke(c.io.in2, 4)\n",
    "  poke(c.io.in3, 1)\n",
    "  expect(c.io.out0, 1)\n",
    "  expect(c.io.out1, 4)\n",
    "  expect(c.io.out2, 6)\n",
    "  expect(c.io.out3, 13)\n",
    "\n",
    "}\n",
    "class Sort4DescendingTester(c: Sort4) extends PeekPokeTester(c) {\n",
    "  poke(c.io.in0, 3)\n",
    "  poke(c.io.in1, 6)\n",
    "  poke(c.io.in2, 9)\n",
    "  poke(c.io.in3, 12)\n",
    "  expect(c.io.out0, 12)\n",
    "  expect(c.io.out1, 9)\n",
    "  expect(c.io.out2, 6)\n",
    "  expect(c.io.out3, 3)\n",
    "\n",
    "  poke(c.io.in0, 13)\n",
    "  poke(c.io.in1, 4)\n",
    "  poke(c.io.in2, 6)\n",
    "  poke(c.io.in3, 1)\n",
    "  expect(c.io.out0, 13)\n",
    "  expect(c.io.out1, 6)\n",
    "  expect(c.io.out2, 4)\n",
    "  expect(c.io.out3, 1)\n",
    "    \n",
    "  poke(c.io.in0, 1)\n",
    "  poke(c.io.in1, 6)\n",
    "  poke(c.io.in2, 4)\n",
    "  poke(c.io.in3, 13)\n",
    "  expect(c.io.out0, 13)\n",
    "  expect(c.io.out1, 6)\n",
    "  expect(c.io.out2, 4)\n",
    "  expect(c.io.out3, 1)\n",
    "\n",
    "}\n",
    "\n",
    "// 测试\n",
    "val worksAscending = iotesters.Driver(() => new Sort4(true)) { c => new Sort4AscendingTester(c) }\n",
    "val worksDescending = iotesters.Driver(() => new Sort4(false)) { c => new Sort4DescendingTester(c) }\n",
    "assert(worksAscending && worksDescending) // Scala 代码: 如果 works == false 的话会抛出异常\n",
    "println(\"SUCCESS!!\") // Scala 代码: 到这里的话表示测试通过"
   ]
  },
  {
   "cell_type": "markdown",
   "metadata": {},
   "source": [
    "---\n",
    "# 可选参数和默认参数\n",
    "\n",
    "\n",
    "有时函数有时会返回一个值，有时则不会。 Scala在类型系统中提供了一种机制可以处理这样的情况，而不是在无法返回值时发生错误。\n",
    "\n",
    "<span style=\"color:blue\">**示例：错误的映射（map）索引调用** </span><br>\n",
    "在以下示例中，我们有一个包含多个键/值对的映射。如果我们尝试访问缺少的键/值对，那么我们会得到运行时错误："
   ]
  },
  {
   "cell_type": "code",
   "execution_count": 6,
   "metadata": {},
   "outputs": [
    {
     "name": "stdout",
     "output_type": "stream",
     "text": [
      "1\n"
     ]
    },
    {
     "ename": "",
     "evalue": "",
     "output_type": "error",
     "traceback": [
      "\u001b[31mjava.util.NoSuchElementException: key not found: b\u001b[39m\n  scala.collection.immutable.Map$Map1.apply(\u001b[32mMap.scala\u001b[39m:\u001b[32m114\u001b[39m)\n  ammonite.$sess.cmd5$Helper.<init>(\u001b[32mcmd5.sc\u001b[39m:\u001b[32m4\u001b[39m)\n  ammonite.$sess.cmd5$.<init>(\u001b[32mcmd5.sc\u001b[39m:\u001b[32m7\u001b[39m)\n  ammonite.$sess.cmd5$.<clinit>(\u001b[32mcmd5.sc\u001b[39m:\u001b[32m-1\u001b[39m)"
     ]
    }
   ],
   "source": [
    "val map = Map(\"a\" -> 1)\n",
    "val a = map(\"a\")\n",
    "println(a)\n",
    "val b = map(\"b\")\n",
    "println(b)"
   ]
  },
  {
   "cell_type": "markdown",
   "metadata": {},
   "source": [
    "\n",
    "<span style=\"color:blue\">**示例：获取不确定是否存在的索引**</span><br>\n",
    "但是，`Map`通过 **get**方法提供了另一种访问键值的方法。它会返回一个抽象类`Option`的实例。而`Option`有两个子类，`Some`和`None`。"
   ]
  },
  {
   "cell_type": "code",
   "execution_count": 7,
   "metadata": {},
   "outputs": [
    {
     "name": "stdout",
     "output_type": "stream",
     "text": [
      "Some(1)\n",
      "None\n"
     ]
    },
    {
     "data": {
      "text/plain": [
       "\u001b[36mmap\u001b[39m: \u001b[32mMap\u001b[39m[\u001b[32mString\u001b[39m, \u001b[32mInt\u001b[39m] = \u001b[33mMap\u001b[39m(\u001b[32m\"a\"\u001b[39m -> \u001b[32m1\u001b[39m)\n",
       "\u001b[36ma\u001b[39m: \u001b[32mOption\u001b[39m[\u001b[32mInt\u001b[39m] = \u001b[33mSome\u001b[39m(\u001b[32m1\u001b[39m)\n",
       "\u001b[36mb\u001b[39m: \u001b[32mOption\u001b[39m[\u001b[32mInt\u001b[39m] = \u001b[32mNone\u001b[39m"
      ]
     },
     "execution_count": 7,
     "metadata": {},
     "output_type": "execute_result"
    }
   ],
   "source": [
    "val map = Map(\"a\" -> 1)\n",
    "val a = map.get(\"a\")\n",
    "println(a)\n",
    "val b = map.get(\"b\")\n",
    "println(b)"
   ]
  },
  {
   "cell_type": "markdown",
   "metadata": {},
   "source": [
    "\n",
    "正如您将在后面的章节中看到的那样，`Option`非常重要，因为它允许用户使用match语句来检查Scala类型和值。\n",
    "\n",
    "<span style=\"color:blue\">**示例：Get Or Else！** </span><br>\n",
    "就像`Map`一样，`Option`也有一个`get`方法，如果其为`None`时调用就会出错。对于这些实例，我们可以使用 **`getOrElse`** 为其提供默认值。"
   ]
  },
  {
   "cell_type": "code",
   "execution_count": 8,
   "metadata": {},
   "outputs": [
    {
     "name": "stdout",
     "output_type": "stream",
     "text": [
      "1\n",
      "1\n",
      "2\n"
     ]
    },
    {
     "data": {
      "text/plain": [
       "\u001b[36msome\u001b[39m: \u001b[32mSome\u001b[39m[\u001b[32mInt\u001b[39m] = \u001b[33mSome\u001b[39m(\u001b[32m1\u001b[39m)\n",
       "\u001b[36mnone\u001b[39m: \u001b[32mNone\u001b[39m.type = \u001b[32mNone\u001b[39m"
      ]
     },
     "execution_count": 8,
     "metadata": {},
     "output_type": "execute_result"
    }
   ],
   "source": [
    "val some = Some(1)\n",
    "val none = None\n",
    "println(some.get)          // 返回 1\n",
    "// println(none.get)       // 错误!\n",
    "println(some.getOrElse(2)) // 返回 1\n",
    "println(none.getOrElse(2)) // 返回 2"
   ]
  },
  {
   "cell_type": "markdown",
   "metadata": {},
   "source": [
    "## 默认参数中使用Option\n",
    "\n",
    "\n",
    "当对象或函数具有大量参数时，如果每次都需要指定全部参数可能会非常繁琐且容易出错。\n",
    "在第一章中，您已经了解了命名参数和参数默认值。\n",
    "有时，参数并没有良好的默认值。\n",
    "在这样的情况下，`Option`可以使用默认值`None`。\n",
    "\n",
    "<span style=\"color:blue\">**示例：可选重置** </span><br>\n",
    "以下的代码将输入延迟一个时钟周期。\n",
    "如果`resetValue = None`（这是默认值），寄存器将没有复位值并被初始化为垃圾。\n",
    "这避免了使用正常范围之外的值来表示“无”这样的情况，例如使用-1作为复位值来表示该寄存器未被重置。"
   ]
  },
  {
   "cell_type": "code",
   "execution_count": 9,
   "metadata": {},
   "outputs": [
    {
     "name": "stdout",
     "output_type": "stream",
     "text": [
      "[\u001b[35minfo\u001b[0m] [0.000] Elaborating design...\n",
      "[\u001b[35minfo\u001b[0m] [0.053] Done elaborating.\n",
      "Total FIRRTL Compile Time: 57.3 ms\n",
      "module cmd8HelperDelayBy1(\n",
      "  input         clock,\n",
      "  input         reset,\n",
      "  input  [15:0] io_in,\n",
      "  output [15:0] io_out\n",
      ");\n",
      "  reg [15:0] reg_; // @[cmd8.sc 9:12]\n",
      "  reg [31:0] _RAND_0;\n",
      "  assign io_out = reg_; // @[cmd8.sc 12:12]\n",
      "`ifdef RANDOMIZE_GARBAGE_ASSIGN\n",
      "`define RANDOMIZE\n",
      "`endif\n",
      "`ifdef RANDOMIZE_INVALID_ASSIGN\n",
      "`define RANDOMIZE\n",
      "`endif\n",
      "`ifdef RANDOMIZE_REG_INIT\n",
      "`define RANDOMIZE\n",
      "`endif\n",
      "`ifdef RANDOMIZE_MEM_INIT\n",
      "`define RANDOMIZE\n",
      "`endif\n",
      "`ifndef RANDOM\n",
      "`define RANDOM $random\n",
      "`endif\n",
      "`ifdef RANDOMIZE_MEM_INIT\n",
      "  integer initvar;\n",
      "`endif\n",
      "initial begin\n",
      "  `ifdef RANDOMIZE\n",
      "    `ifdef INIT_RANDOM\n",
      "      `INIT_RANDOM\n",
      "    `endif\n",
      "    `ifndef VERILATOR\n",
      "      `ifdef RANDOMIZE_DELAY\n",
      "        #`RANDOMIZE_DELAY begin end\n",
      "      `else\n",
      "        #0.002 begin end\n",
      "      `endif\n",
      "    `endif\n",
      "  `ifdef RANDOMIZE_REG_INIT\n",
      "  _RAND_0 = {1{`RANDOM}};\n",
      "  reg_ = _RAND_0[15:0];\n",
      "  `endif // RANDOMIZE_REG_INIT\n",
      "  `endif // RANDOMIZE\n",
      "end\n",
      "  always @(posedge clock) begin\n",
      "    reg_ <= io_in;\n",
      "  end\n",
      "endmodule\n",
      "\n",
      "[\u001b[35minfo\u001b[0m] [0.000] Elaborating design...\n",
      "[\u001b[35minfo\u001b[0m] [0.012] Done elaborating.\n",
      "Total FIRRTL Compile Time: 37.1 ms\n",
      "module cmd8HelperDelayBy1(\n",
      "  input         clock,\n",
      "  input         reset,\n",
      "  input  [15:0] io_in,\n",
      "  output [15:0] io_out\n",
      ");\n",
      "  reg [15:0] reg_; // @[cmd8.sc 7:16]\n",
      "  reg [31:0] _RAND_0;\n",
      "  assign io_out = reg_; // @[cmd8.sc 12:12]\n",
      "`ifdef RANDOMIZE_GARBAGE_ASSIGN\n",
      "`define RANDOMIZE\n",
      "`endif\n",
      "`ifdef RANDOMIZE_INVALID_ASSIGN\n",
      "`define RANDOMIZE\n",
      "`endif\n",
      "`ifdef RANDOMIZE_REG_INIT\n",
      "`define RANDOMIZE\n",
      "`endif\n",
      "`ifdef RANDOMIZE_MEM_INIT\n",
      "`define RANDOMIZE\n",
      "`endif\n",
      "`ifndef RANDOM\n",
      "`define RANDOM $random\n",
      "`endif\n",
      "`ifdef RANDOMIZE_MEM_INIT\n",
      "  integer initvar;\n",
      "`endif\n",
      "initial begin\n",
      "  `ifdef RANDOMIZE\n",
      "    `ifdef INIT_RANDOM\n",
      "      `INIT_RANDOM\n",
      "    `endif\n",
      "    `ifndef VERILATOR\n",
      "      `ifdef RANDOMIZE_DELAY\n",
      "        #`RANDOMIZE_DELAY begin end\n",
      "      `else\n",
      "        #0.002 begin end\n",
      "      `endif\n",
      "    `endif\n",
      "  `ifdef RANDOMIZE_REG_INIT\n",
      "  _RAND_0 = {1{`RANDOM}};\n",
      "  reg_ = _RAND_0[15:0];\n",
      "  `endif // RANDOMIZE_REG_INIT\n",
      "  `endif // RANDOMIZE\n",
      "end\n",
      "  always @(posedge clock) begin\n",
      "    if (reset) begin\n",
      "      reg_ <= 16'h3;\n",
      "    end else begin\n",
      "      reg_ <= io_in;\n",
      "    end\n",
      "  end\n",
      "endmodule\n",
      "\n"
     ]
    },
    {
     "data": {
      "text/plain": [
       "defined \u001b[32mclass\u001b[39m \u001b[36mDelayBy1\u001b[39m"
      ]
     },
     "execution_count": 9,
     "metadata": {},
     "output_type": "execute_result"
    }
   ],
   "source": [
    "class DelayBy1(resetValue: Option[UInt] = None) extends Module {\n",
    "    val io = IO(new Bundle {\n",
    "        val in  = Input( UInt(16.W))\n",
    "        val out = Output(UInt(16.W))\n",
    "    })\n",
    "    val reg = if (resetValue.isDefined) { // resetValue = Some(number)\n",
    "        RegInit(resetValue.get)\n",
    "    } else { //resetValue = None\n",
    "        Reg(UInt())\n",
    "    }\n",
    "    reg := io.in\n",
    "    io.out := reg\n",
    "}\n",
    "\n",
    "println(getVerilog(new DelayBy1))\n",
    "println(getVerilog(new DelayBy1(Some(3.U))))"
   ]
  },
  {
   "cell_type": "markdown",
   "metadata": {},
   "source": [
    "---\n",
    "# Match/Case 语句\n",
    "\n",
    "在Scala中，*match*的概念被用在整个Chisel的设计中，这是每个Chisel程序员必须理解的一部分。 Scala提供match运算符，它支持：\n",
    " - 对几个可能性进行简单测试，类似C语言的*switch*语句\n",
    " - 对特定值的组合的复杂测试\n",
    " - 当变量的类型未知或未指定时，根据变量的类型执行操作，例如：\n",
    "   - 变量来自列表```val mixedList = List(1, \"string\", false)```\n",
    "   - 或者已知变量是超类的实例，但不知道它是哪个特定的子类。\n",
    " - 提取用*正则表达式*指定的字符串的子字符串\n",
    "\n",
    "\n",
    "<span style=\"color:blue\"> **示例：值匹配** </span><br>\n",
    "下面的例子，根据我们**匹配**的变量的**值**，我们执行不同的**case**语句："
   ]
  },
  {
   "cell_type": "code",
   "execution_count": 10,
   "metadata": {},
   "outputs": [
    {
     "name": "stdout",
     "output_type": "stream",
     "text": [
      "y is many\n"
     ]
    },
    {
     "data": {
      "text/plain": [
       "\u001b[36my\u001b[39m: \u001b[32mInt\u001b[39m = \u001b[32m7\u001b[39m\n",
       "\u001b[36mx\u001b[39m: \u001b[32mString\u001b[39m = \u001b[32m\"many\"\u001b[39m"
      ]
     },
     "execution_count": 10,
     "metadata": {},
     "output_type": "execute_result"
    }
   ],
   "source": [
    "// y 是在代码中其他地方定义的整数变量\n",
    "val y = 7\n",
    "/// ...\n",
    "val x = y match {\n",
    "  case 0 => \"zero\" // 常见的语法，如果一行代码能放下的话，优先使用这种语法\n",
    "  case 1 =>        // 另一种常见的语法，如果一行放不下的话使用\n",
    "      \"one\"        // 注意：代码块一直到下一个 case 语句为止\n",
    "  case 2 => {      // 另一种语法， 但是大括号不是必需的\n",
    "      \"two\"\n",
    "  }\n",
    "  case _ => \"many\" // _ 是可以匹配任何值的通配符|\n",
    "}\n",
    "println(\"y is \" + x)"
   ]
  },
  {
   "cell_type": "markdown",
   "metadata": {},
   "source": [
    "\n",
    "上面的代码中，match操作符为每个case检查可能的值，并返回一个字符串。有几点需要注意：\n",
    " - 在```=>```运算符后面的每个代码块一直持续到它遇到match结束的大括号或下一个case语句为止。\n",
    " - 按case语句的顺序进行匹配，一旦匹配了某个case语句，就结束了\n",
    " - 使用下划线作为通配符，以处理未匹配的其他值。\n",
    "\n",
    "<span style=\"color:blue\">**示例：多值匹配** </span><br>\n",
    "此外，还可以同时匹配多个变量。这是一个使用匹配语句实现的真值表（truth table）的简单示例："
   ]
  },
  {
   "cell_type": "code",
   "execution_count": 11,
   "metadata": {},
   "outputs": [
    {
     "name": "stdout",
     "output_type": "stream",
     "text": [
      "wolverine\n"
     ]
    },
    {
     "data": {
      "text/plain": [
       "defined \u001b[32mfunction\u001b[39m \u001b[36manimalType\u001b[39m"
      ]
     },
     "execution_count": 11,
     "metadata": {},
     "output_type": "execute_result"
    }
   ],
   "source": [
    "def animalType(biggerThanBreadBox: Boolean, meanAsCanBe: Boolean): String = {\n",
    "  (biggerThanBreadBox, meanAsCanBe) match {\n",
    "    case (true, true) => \"wolverine\"\n",
    "    case (true, false) => \"elephant\"\n",
    "    case (false, true) => \"shrew\"\n",
    "    case (false, false) => \"puppy\"\n",
    "  }\n",
    "}\n",
    "println(animalType(true, true))"
   ]
  },
  {
   "cell_type": "markdown",
   "metadata": {},
   "source": [
    "<span style=\"color:blue\">**示例：类型匹配** </span><br>\n",
    "Scala是一种强类型语言，因此所有对象的类型在运行时都是已知的。我们可以使用**match语句**来使用此类型信息："
   ]
  },
  {
   "cell_type": "code",
   "execution_count": 12,
   "metadata": {},
   "outputs": [
    {
     "name": "stdout",
     "output_type": "stream",
     "text": [
      "a is a String\n",
      "1 is an Int\n",
      "0.0 is a Double\n"
     ]
    },
    {
     "data": {
      "text/plain": [
       "\u001b[36msequence\u001b[39m: \u001b[32mSeq\u001b[39m[\u001b[32mAny\u001b[39m] = \u001b[33mList\u001b[39m(\u001b[32m\"a\"\u001b[39m, \u001b[32m1\u001b[39m, \u001b[32m0.0\u001b[39m)"
      ]
     },
     "execution_count": 12,
     "metadata": {},
     "output_type": "execute_result"
    }
   ],
   "source": [
    "val sequence = Seq(\"a\", 1, 0.0)\n",
    "sequence.foreach { x =>\n",
    "  x match {\n",
    "    case s: String => println(s\"$x is a String\")\n",
    "    case s: Int    => println(s\"$x is an Int\")\n",
    "    case s: Double => println(s\"$x is a Double\")\n",
    "    case _ => println(s\"$x is an unknown type!\")\n",
    "  }\n",
    "}"
   ]
  },
  {
   "cell_type": "markdown",
   "metadata": {},
   "source": [
    "<span style=\"color:blue\"> **示例：多种类型匹配** </span><br>\n",
    "如果要匹配一个值是否具有多种类型中的某一个，请使用以下语法。 *请注意，匹配时**必须**使用`_`。*"
   ]
  },
  {
   "cell_type": "code",
   "execution_count": 13,
   "metadata": {},
   "outputs": [
    {
     "name": "stdout",
     "output_type": "stream",
     "text": [
      "a is an unknown type!\n",
      "1 is a number!\n",
      "0.0 is a number!\n"
     ]
    },
    {
     "data": {
      "text/plain": [
       "\u001b[36msequence\u001b[39m: \u001b[32mSeq\u001b[39m[\u001b[32mAny\u001b[39m] = \u001b[33mList\u001b[39m(\u001b[32m\"a\"\u001b[39m, \u001b[32m1\u001b[39m, \u001b[32m0.0\u001b[39m)"
      ]
     },
     "execution_count": 13,
     "metadata": {},
     "output_type": "execute_result"
    }
   ],
   "source": [
    "val sequence = Seq(\"a\", 1, 0.0)\n",
    "sequence.foreach { x =>\n",
    "  x match {\n",
    "    case _: Int | _: Double => println(s\"$x is a number!\") // 是否整型或双精度\n",
    "    case _ => println(s\"$x is an unknown type!\")\n",
    "  }\n",
    "}"
   ]
  },
  {
   "cell_type": "markdown",
   "metadata": {},
   "source": [
    "\n",
    "<span style=\"color:blue\"> **示例：类型匹配和类型擦除（Erasure）** </span><br>\n",
    "类型匹配有一些限制。因为Scala在JVM上运行，并且JVM不维护多态类型，所以在运行时无法匹配它们（因为它们都被擦除）。请注意，以下示例始终与第一个case语句匹配，因为`[String]`，`[Int]`和`[Double]`的多态类型都被擦除掉了，所以case语句**实际上**仅仅匹配了一个`Seq`。"
   ]
  },
  {
   "cell_type": "code",
   "execution_count": 14,
   "metadata": {},
   "outputs": [
    {
     "name": "stdout",
     "output_type": "stream",
     "text": [
      "List(a) is a String\n",
      "List(1) is a String\n",
      "List(0.0) is a String\n"
     ]
    },
    {
     "data": {
      "text/plain": [
       "\u001b[36msequence\u001b[39m: \u001b[32mSeq\u001b[39m[\u001b[32mSeq\u001b[39m[\u001b[32mAny\u001b[39m]] = \u001b[33mList\u001b[39m(\u001b[33mList\u001b[39m(\u001b[32m\"a\"\u001b[39m), \u001b[33mList\u001b[39m(\u001b[32m1\u001b[39m), \u001b[33mList\u001b[39m(\u001b[32m0.0\u001b[39m))"
      ]
     },
     "execution_count": 14,
     "metadata": {},
     "output_type": "execute_result"
    }
   ],
   "source": [
    "val sequence = Seq(Seq(\"a\"), Seq(1), Seq(0.0))\n",
    "sequence.foreach { x =>\n",
    "  x match {\n",
    "    case s: Seq[String] => println(s\"$x is a String\")\n",
    "    case s: Seq[Int]    => println(s\"$x is an Int\")\n",
    "    case s: Seq[Double] => println(s\"$x is a Double\")\n",
    "  }\n",
    "}"
   ]
  },
  {
   "cell_type": "markdown",
   "metadata": {},
   "source": [
    "\n",
    "请注意，如果出现类似上述示例中的代码，Scala编译器通常会发出警告。\n",
    "\n",
    "<span style=\"color:blue\">**示例：可选重置的匹配** </span><br>\n",
    "下面的代码块显示了另一种方法实现的`DelayBy1`模块，这里使用匹配结构，而不是`if/else`。"
   ]
  },
  {
   "cell_type": "code",
   "execution_count": 15,
   "metadata": {},
   "outputs": [
    {
     "name": "stdout",
     "output_type": "stream",
     "text": [
      "[\u001b[35minfo\u001b[0m] [0.000] Elaborating design...\n",
      "[\u001b[35minfo\u001b[0m] [0.008] Done elaborating.\n",
      "Total FIRRTL Compile Time: 30.2 ms\n",
      "module cmd14HelperDelayBy1(\n",
      "  input         clock,\n",
      "  input         reset,\n",
      "  input  [15:0] io_in,\n",
      "  output [15:0] io_out\n",
      ");\n",
      "  reg [15:0] reg_; // @[cmd14.sc 8:24]\n",
      "  reg [31:0] _RAND_0;\n",
      "  assign io_out = reg_; // @[cmd14.sc 11:10]\n",
      "`ifdef RANDOMIZE_GARBAGE_ASSIGN\n",
      "`define RANDOMIZE\n",
      "`endif\n",
      "`ifdef RANDOMIZE_INVALID_ASSIGN\n",
      "`define RANDOMIZE\n",
      "`endif\n",
      "`ifdef RANDOMIZE_REG_INIT\n",
      "`define RANDOMIZE\n",
      "`endif\n",
      "`ifdef RANDOMIZE_MEM_INIT\n",
      "`define RANDOMIZE\n",
      "`endif\n",
      "`ifndef RANDOM\n",
      "`define RANDOM $random\n",
      "`endif\n",
      "`ifdef RANDOMIZE_MEM_INIT\n",
      "  integer initvar;\n",
      "`endif\n",
      "initial begin\n",
      "  `ifdef RANDOMIZE\n",
      "    `ifdef INIT_RANDOM\n",
      "      `INIT_RANDOM\n",
      "    `endif\n",
      "    `ifndef VERILATOR\n",
      "      `ifdef RANDOMIZE_DELAY\n",
      "        #`RANDOMIZE_DELAY begin end\n",
      "      `else\n",
      "        #0.002 begin end\n",
      "      `endif\n",
      "    `endif\n",
      "  `ifdef RANDOMIZE_REG_INIT\n",
      "  _RAND_0 = {1{`RANDOM}};\n",
      "  reg_ = _RAND_0[15:0];\n",
      "  `endif // RANDOMIZE_REG_INIT\n",
      "  `endif // RANDOMIZE\n",
      "end\n",
      "  always @(posedge clock) begin\n",
      "    reg_ <= io_in;\n",
      "  end\n",
      "endmodule\n",
      "\n",
      "[\u001b[35minfo\u001b[0m] [0.000] Elaborating design...\n",
      "[\u001b[35minfo\u001b[0m] [0.004] Done elaborating.\n",
      "Total FIRRTL Compile Time: 34.8 ms\n",
      "module cmd14HelperDelayBy1(\n",
      "  input         clock,\n",
      "  input         reset,\n",
      "  input  [15:0] io_in,\n",
      "  output [15:0] io_out\n",
      ");\n",
      "  reg [15:0] reg_; // @[cmd14.sc 7:28]\n",
      "  reg [31:0] _RAND_0;\n",
      "  assign io_out = reg_; // @[cmd14.sc 11:10]\n",
      "`ifdef RANDOMIZE_GARBAGE_ASSIGN\n",
      "`define RANDOMIZE\n",
      "`endif\n",
      "`ifdef RANDOMIZE_INVALID_ASSIGN\n",
      "`define RANDOMIZE\n",
      "`endif\n",
      "`ifdef RANDOMIZE_REG_INIT\n",
      "`define RANDOMIZE\n",
      "`endif\n",
      "`ifdef RANDOMIZE_MEM_INIT\n",
      "`define RANDOMIZE\n",
      "`endif\n",
      "`ifndef RANDOM\n",
      "`define RANDOM $random\n",
      "`endif\n",
      "`ifdef RANDOMIZE_MEM_INIT\n",
      "  integer initvar;\n",
      "`endif\n",
      "initial begin\n",
      "  `ifdef RANDOMIZE\n",
      "    `ifdef INIT_RANDOM\n",
      "      `INIT_RANDOM\n",
      "    `endif\n",
      "    `ifndef VERILATOR\n",
      "      `ifdef RANDOMIZE_DELAY\n",
      "        #`RANDOMIZE_DELAY begin end\n",
      "      `else\n",
      "        #0.002 begin end\n",
      "      `endif\n",
      "    `endif\n",
      "  `ifdef RANDOMIZE_REG_INIT\n",
      "  _RAND_0 = {1{`RANDOM}};\n",
      "  reg_ = _RAND_0[15:0];\n",
      "  `endif // RANDOMIZE_REG_INIT\n",
      "  `endif // RANDOMIZE\n",
      "end\n",
      "  always @(posedge clock) begin\n",
      "    if (reset) begin\n",
      "      reg_ <= 16'h3;\n",
      "    end else begin\n",
      "      reg_ <= io_in;\n",
      "    end\n",
      "  end\n",
      "endmodule\n",
      "\n"
     ]
    },
    {
     "data": {
      "text/plain": [
       "defined \u001b[32mclass\u001b[39m \u001b[36mDelayBy1\u001b[39m"
      ]
     },
     "execution_count": 15,
     "metadata": {},
     "output_type": "execute_result"
    }
   ],
   "source": [
    "class DelayBy1(resetValue: Option[UInt] = None) extends Module {\n",
    "  val io = IO(new Bundle {\n",
    "    val in  = Input( UInt(16.W))\n",
    "    val out = Output(UInt(16.W))\n",
    "  })\n",
    "  val reg = resetValue match {\n",
    "    case Some(r) => RegInit(r)\n",
    "    case None    => Reg(UInt())\n",
    "  }\n",
    "  reg := io.in\n",
    "  io.out := reg\n",
    "}\n",
    "\n",
    "println(getVerilog(new DelayBy1))\n",
    "println(getVerilog(new DelayBy1(Some(3.U))))"
   ]
  },
  {
   "cell_type": "markdown",
   "metadata": {},
   "source": [
    "\n",
    "\n",
    "---\n",
    "# 带有可选字段的输入输出\n",
    "\n",
    "有时我们希望包含或不包含某些IO。\n",
    "也许有一些内部状态能够用来在调试中查看，但是你希望在生成整个系统的时候隐藏它。\n",
    "也许你的生成器有一些输入，不需要在每种情况下都连接，因为它已经具有了一个合理的默认值。\n",
    "\n",
    "<span style=\"color:blue\"> **示例：使用Option的可选IO** </span><br>\n",
    "Bundle中的可选字段是实现此功能的一种方法。\n",
    "在下面的示例中，我们展示了一位可选择接收进位的一位加法器。\n",
    "如果包含进位，`io.carryIn`将具有类型`Some [UInt]`并包含在IO bundle中。\n",
    "如果不包含进位，则`io.carryIn`将具有类型`None`并将从IO包中排除。"
   ]
  },
  {
   "cell_type": "code",
   "execution_count": 16,
   "metadata": {},
   "outputs": [
    {
     "name": "stdout",
     "output_type": "stream",
     "text": [
      "[\u001b[35minfo\u001b[0m] [0.000] Elaborating design...\n",
      "[\u001b[35minfo\u001b[0m] [0.049] Done elaborating.\n",
      "Total FIRRTL Compile Time: 28.9 ms\n",
      "Total FIRRTL Compile Time: 17.2 ms\n",
      "End of dependency graph\n",
      "Circuit state created\n",
      "[\u001b[35minfo\u001b[0m] [0.000] SEED 1572042832758\n",
      "test cmd15HelperHalfFullAdder Success: 8 tests passed in 5 cycles taking 0.007381 seconds\n",
      "[\u001b[35minfo\u001b[0m] [0.005] RAN 0 CYCLES PASSED\n",
      "[\u001b[35minfo\u001b[0m] [0.000] Elaborating design...\n",
      "[\u001b[35minfo\u001b[0m] [0.004] Done elaborating.\n",
      "Total FIRRTL Compile Time: 22.1 ms\n",
      "Total FIRRTL Compile Time: 14.9 ms\n",
      "End of dependency graph\n",
      "Circuit state created\n",
      "[\u001b[35minfo\u001b[0m] [0.000] SEED 1572042832924\n",
      "test cmd15HelperHalfFullAdder Success: 16 tests passed in 5 cycles taking 0.013992 seconds\n",
      "[\u001b[35minfo\u001b[0m] [0.013] RAN 0 CYCLES PASSED\n",
      "SUCCESS!!\n"
     ]
    },
    {
     "data": {
      "text/plain": [
       "defined \u001b[32mclass\u001b[39m \u001b[36mHalfFullAdder\u001b[39m\n",
       "defined \u001b[32mclass\u001b[39m \u001b[36mHalfAdderTester\u001b[39m\n",
       "defined \u001b[32mclass\u001b[39m \u001b[36mFullAdderTester\u001b[39m\n",
       "\u001b[36mworksHalf\u001b[39m: \u001b[32mBoolean\u001b[39m = true\n",
       "\u001b[36mworksFull\u001b[39m: \u001b[32mBoolean\u001b[39m = true"
      ]
     },
     "execution_count": 16,
     "metadata": {},
     "output_type": "execute_result"
    }
   ],
   "source": [
    "class HalfFullAdder(val hasCarry: Boolean) extends Module {\n",
    "  val io = IO(new Bundle {\n",
    "    val a = Input(UInt(1.W))\n",
    "    val b = Input(UInt(1.W))\n",
    "    val carryIn = if (hasCarry) Some(Input(UInt(1.W))) else None\n",
    "    val s = Output(UInt(1.W))\n",
    "    val carryOut = Output(UInt(1.W))\n",
    "  })\n",
    "  val sum = io.a +& io.b +& io.carryIn.getOrElse(0.U)\n",
    "  io.s := sum(0)\n",
    "  io.carryOut := sum(1)\n",
    "}\n",
    "\n",
    "class HalfAdderTester(c: HalfFullAdder) extends PeekPokeTester(c) {\n",
    "  require(!c.hasCarry, \"DUT must be half adder\")\n",
    "  // 0 + 0 = 0\n",
    "  poke(c.io.a, 0)\n",
    "  poke(c.io.b, 0)\n",
    "  expect(c.io.s, 0)\n",
    "  expect(c.io.carryOut, 0)\n",
    "  // 0 + 1 = 1\n",
    "  poke(c.io.b, 1)\n",
    "  expect(c.io.s, 1)\n",
    "  expect(c.io.carryOut, 0)\n",
    "  // 1 + 1 = 2\n",
    "  poke(c.io.a, 1)\n",
    "  expect(c.io.s, 0)\n",
    "  expect(c.io.carryOut, 1)\n",
    "  // 1 + 0 = 1\n",
    "  poke(c.io.b, 0)\n",
    "  expect(c.io.s, 1)\n",
    "  expect(c.io.carryOut, 0)\n",
    "}\n",
    "\n",
    "class FullAdderTester(c: HalfFullAdder) extends PeekPokeTester(c) {\n",
    "  require(c.hasCarry, \"DUT must be half adder\")\n",
    "  poke(c.io.carryIn.get, 0)\n",
    "  // 0 + 0 + 0 = 0\n",
    "  poke(c.io.a, 0)\n",
    "  poke(c.io.b, 0)\n",
    "  expect(c.io.s, 0)\n",
    "  expect(c.io.carryOut, 0)\n",
    "  // 0 + 0 + 1 = 1\n",
    "  poke(c.io.b, 1)\n",
    "  expect(c.io.s, 1)\n",
    "  expect(c.io.carryOut, 0)\n",
    "  // 0 + 1 + 1 = 2\n",
    "  poke(c.io.a, 1)\n",
    "  expect(c.io.s, 0)\n",
    "  expect(c.io.carryOut, 1)\n",
    "  // 0 + 1 + 0 = 1\n",
    "  poke(c.io.b, 0)\n",
    "  expect(c.io.s, 1)\n",
    "  expect(c.io.carryOut, 0)\n",
    "\n",
    "  poke(c.io.carryIn.get, 1)\n",
    "  // 1 + 0 + 0 = 1\n",
    "  poke(c.io.a, 0)\n",
    "  poke(c.io.b, 0)\n",
    "  expect(c.io.s, 1)\n",
    "  expect(c.io.carryOut, 0)\n",
    "  // 1 + 0 + 1 = 2\n",
    "  poke(c.io.b, 1)\n",
    "  expect(c.io.s, 0)\n",
    "  expect(c.io.carryOut, 1)\n",
    "  // 1 + 1 + 1 = 3\n",
    "  poke(c.io.a, 1)\n",
    "  expect(c.io.s, 1)\n",
    "  expect(c.io.carryOut, 1)\n",
    "  // 1 + 1 + 0 = 2\n",
    "  poke(c.io.b, 0)\n",
    "  expect(c.io.s, 0)\n",
    "  expect(c.io.carryOut, 1)\n",
    "}\n",
    "\n",
    "val worksHalf = iotesters.Driver(() => new HalfFullAdder(false)) { c => new HalfAdderTester(c) }\n",
    "val worksFull = iotesters.Driver(() => new HalfFullAdder(true)) { c => new FullAdderTester(c) }\n",
    "assert(worksHalf && worksFull) // Scala 代码：如果 works == false，这里会抛出异常\n",
    "println(\"SUCCESS!!\") // Scala 代码：到这里测试就通过了"
   ]
  },
  {
   "cell_type": "markdown",
   "metadata": {},
   "source": [
    "\n",
    "<span style=\"color:blue\"> **示例：带有零宽度线的可选IO ** </span><br>\n",
    "另一种方法是使用零宽度线来实现与Option相似功能的。\n",
    "Chisel类型允许宽度为零。\n",
    "在生成Verilog时宽度为零的IO会被删除，任何使用零宽度线的值的地方都会得到一个常数零。\n",
    "如果零是合理的默认值，那么零宽度线可以很直观，因为它们不需要匹配一个option或调用`getOrElse`。"
   ]
  },
  {
   "cell_type": "code",
   "execution_count": 17,
   "metadata": {},
   "outputs": [
    {
     "name": "stdout",
     "output_type": "stream",
     "text": [
      "Half Adder:\n",
      "[\u001b[35minfo\u001b[0m] [0.000] Elaborating design...\n",
      "[\u001b[35minfo\u001b[0m] [0.007] Done elaborating.\n",
      "Total FIRRTL Compile Time: 35.9 ms\n",
      "module cmd16HelperHalfFullAdder(\n",
      "  input   clock,\n",
      "  input   reset,\n",
      "  input   io_a,\n",
      "  input   io_b,\n",
      "  output  io_s,\n",
      "  output  io_carryOut\n",
      ");\n",
      "  wire [1:0] _T; // @[cmd16.sc 9:18]\n",
      "  wire [2:0] sum; // @[cmd16.sc 9:26]\n",
      "  assign _T = io_a + io_b; // @[cmd16.sc 9:18]\n",
      "  assign sum = {{1'd0}, _T}; // @[cmd16.sc 9:26]\n",
      "  assign io_s = sum[0]; // @[cmd16.sc 10:8]\n",
      "  assign io_carryOut = sum[1]; // @[cmd16.sc 11:15]\n",
      "endmodule\n",
      "\n",
      "\n",
      "\n",
      "Full Adder:\n",
      "[\u001b[35minfo\u001b[0m] [0.000] Elaborating design...\n",
      "[\u001b[35minfo\u001b[0m] [0.004] Done elaborating.\n",
      "Total FIRRTL Compile Time: 30.7 ms\n",
      "module cmd16HelperHalfFullAdder(\n",
      "  input   clock,\n",
      "  input   reset,\n",
      "  input   io_a,\n",
      "  input   io_b,\n",
      "  input   io_carryIn,\n",
      "  output  io_s,\n",
      "  output  io_carryOut\n",
      ");\n",
      "  wire [1:0] _T; // @[cmd16.sc 9:18]\n",
      "  wire [1:0] _GEN_0; // @[cmd16.sc 9:26]\n",
      "  wire [2:0] sum; // @[cmd16.sc 9:26]\n",
      "  assign _T = io_a + io_b; // @[cmd16.sc 9:18]\n",
      "  assign _GEN_0 = {{1'd0}, io_carryIn}; // @[cmd16.sc 9:26]\n",
      "  assign sum = _T + _GEN_0; // @[cmd16.sc 9:26]\n",
      "  assign io_s = sum[0]; // @[cmd16.sc 10:8]\n",
      "  assign io_carryOut = sum[1]; // @[cmd16.sc 11:15]\n",
      "endmodule\n",
      "\n"
     ]
    },
    {
     "data": {
      "text/plain": [
       "defined \u001b[32mclass\u001b[39m \u001b[36mHalfFullAdder\u001b[39m"
      ]
     },
     "execution_count": 17,
     "metadata": {},
     "output_type": "execute_result"
    }
   ],
   "source": [
    "class HalfFullAdder(val hasCarry: Boolean) extends Module {\n",
    "  val io = IO(new Bundle {\n",
    "    val a = Input(UInt(1.W))\n",
    "    val b = Input(UInt(1.W))\n",
    "    val carryIn = Input(if (hasCarry) UInt(1.W) else UInt(0.W))\n",
    "    val s = Output(UInt(1.W))\n",
    "    val carryOut = Output(UInt(1.W))\n",
    "  })\n",
    "  val sum = io.a +& io.b +& io.carryIn\n",
    "  io.s := sum(0)\n",
    "  io.carryOut := sum(1)\n",
    "}\n",
    "println(\"Half Adder:\")\n",
    "println(getVerilog(new HalfFullAdder(false)))\n",
    "println(\"\\n\\nFull Adder:\")\n",
    "println(getVerilog(new HalfFullAdder(true)))"
   ]
  },
  {
   "cell_type": "markdown",
   "metadata": {},
   "source": [
    "\n",
    "---\n",
    "# Implicits\n",
    "通常，您需要编程时需要大量的不重要但是又没它不行的代码。为了处理这种情况，Scala引入了**implicits**的概念，它允许编译器为你做一些语法糖（syntactic sugar，对语言的功能没有影响，但是更方便程序员使用的语法）。因为很多事情都发生在幕后，所以implicits可能看起来非常神奇。本节分解了一些基本示例，以解释它们的含义以及它们的常用用法。\n",
    "\n",
    "## 隐含参数\n",
    "有时，您的代码需要从很深的一系列函数调用中访问某个顶层变量。您可以使用隐式参数为您执行此操作，而不是在每个函数调用时手动传递此变量。\n",
    "\n",
    "<span style=\"color:blue\"> **示例：隐式传递的猫** </span><br>\n",
    "在以下示例中，我们可以隐式或显式地传递cat的数量。"
   ]
  },
  {
   "cell_type": "code",
   "execution_count": 18,
   "metadata": {},
   "outputs": [
    {
     "data": {
      "text/plain": [
       "defined \u001b[32mobject\u001b[39m \u001b[36mCatDog\u001b[39m\n",
       "\u001b[36mres17_1\u001b[39m: \u001b[32mBoolean\u001b[39m = true\n",
       "\u001b[36mres17_2\u001b[39m: \u001b[32mBoolean\u001b[39m = false"
      ]
     },
     "execution_count": 18,
     "metadata": {},
     "output_type": "execute_result"
    }
   ],
   "source": [
    "object CatDog {\n",
    "  implicit val numberOfCats: Int = 3\n",
    "  //implicit val numberOfDogs: Int = 5\n",
    "\n",
    "  def tooManyCats(nDogs: Int)(implicit nCats: Int): Boolean = nCats > nDogs\n",
    "    \n",
    "  val imp = tooManyCats(2)    // 参数被隐式传递!\n",
    "  val exp = tooManyCats(2)(1) // 参数被显式传递!\n",
    "}\n",
    "CatDog.imp\n",
    "CatDog.exp"
   ]
  },
  {
   "cell_type": "markdown",
   "metadata": {},
   "source": [
    "\n",
    "上面发生了什么事？首先，我们定义一个隐含值**numberOfCats**。在一个给定作用域内，**一个给定类型只能有一个的隐含值**。然后，我们定义了一个带有两个参数的函数;第一个是显式参数，第二个是隐式参数。当我们调用**tooManyCats**时，我们要么省略第二个隐式参数（让编译器为我们找到它），要么为它显式提供一个值（可以与隐含值不同）。\n",
    "\n",
    "以下是隐含参数会*失败*的情况：\n",
    " - 在作用域中定义了给定类型的两个或多个隐含值\n",
    " - 编译器找不到函数调用所需的隐含值\n",
    "\n",
    "<span style=\"color:blue\"> **示例：隐式日志** </span><br>\n",
    "下面代码块展示了如何使用隐含参数在Chisel生成器中实现日志（log）功能。\n",
    "\n",
    "***注意：Scala中有更好的写日志的方法！***"
   ]
  },
  {
   "cell_type": "code",
   "execution_count": 19,
   "metadata": {},
   "outputs": [
    {
     "name": "stdout",
     "output_type": "stream",
     "text": [
      "[\u001b[35minfo\u001b[0m] [0.000] Elaborating design...\n",
      "[\u001b[35minfo\u001b[0m] [0.009] Done elaborating.\n",
      "Total FIRRTL Compile Time: 29.5 ms\n",
      "module cmd18HelperParameterizedWidthAdder(\n",
      "  input        clock,\n",
      "  input        reset,\n",
      "  input        io_in0,\n",
      "  input  [3:0] io_in1,\n",
      "  output [4:0] io_sum\n",
      ");\n",
      "  wire [3:0] _GEN_0; // @[cmd18.sc 23:20]\n",
      "  wire [3:0] _T_1; // @[cmd18.sc 23:20]\n",
      "  assign _GEN_0 = {{3'd0}, io_in0}; // @[cmd18.sc 23:20]\n",
      "  assign _T_1 = _GEN_0 + io_in1; // @[cmd18.sc 23:20]\n",
      "  assign io_sum = {{1'd0}, _T_1}; // @[cmd18.sc 23:10]\n",
      "endmodule\n",
      "\n",
      "[\u001b[35minfo\u001b[0m] [0.000] Elaborating design...\n",
      "in0Width of 1 OK\n",
      "in1Width of 4 OK\n",
      "sumWidth of 5 OK\n",
      "Made IO\n",
      "Assigned output\n",
      "[\u001b[35minfo\u001b[0m] [0.007] Done elaborating.\n",
      "Total FIRRTL Compile Time: 34.9 ms\n",
      "module cmd18HelperParameterizedWidthAdder(\n",
      "  input        clock,\n",
      "  input        reset,\n",
      "  input        io_in0,\n",
      "  input  [3:0] io_in1,\n",
      "  output [4:0] io_sum\n",
      ");\n",
      "  wire [3:0] _GEN_0; // @[cmd18.sc 23:20]\n",
      "  wire [3:0] _T_1; // @[cmd18.sc 23:20]\n",
      "  assign _GEN_0 = {{3'd0}, io_in0}; // @[cmd18.sc 23:20]\n",
      "  assign _T_1 = _GEN_0 + io_in1; // @[cmd18.sc 23:20]\n",
      "  assign io_sum = {{1'd0}, _T_1}; // @[cmd18.sc 23:10]\n",
      "endmodule\n",
      "\n"
     ]
    },
    {
     "data": {
      "text/plain": [
       "defined \u001b[32mtrait\u001b[39m \u001b[36mVerbosity\u001b[39m\n",
       "defined \u001b[32mobject\u001b[39m \u001b[36mSilent\u001b[39m\n",
       "defined \u001b[32mobject\u001b[39m \u001b[36mVerbose\u001b[39m\n",
       "defined \u001b[32mclass\u001b[39m \u001b[36mParameterizedWidthAdder\u001b[39m"
      ]
     },
     "execution_count": 19,
     "metadata": {},
     "output_type": "execute_result"
    }
   ],
   "source": [
    "sealed trait Verbosity\n",
    "implicit case object Silent extends Verbosity\n",
    "case object Verbose extends Verbosity\n",
    "\n",
    "class ParameterizedWidthAdder(in0Width: Int, in1Width: Int, sumWidth: Int)(implicit verbosity: Verbosity)\n",
    "extends Module {\n",
    "  def log(msg: => String): Unit = verbosity match {\n",
    "    case Silent =>\n",
    "    case Verbose => println(msg)\n",
    "  }\n",
    "  require(in0Width >= 0)\n",
    "  log(s\"in0Width of $in0Width OK\")\n",
    "  require(in1Width >= 0)\n",
    "  log(s\"in1Width of $in1Width OK\")\n",
    "  require(sumWidth >= 0)\n",
    "  log(s\"sumWidth of $sumWidth OK\")\n",
    "  val io = IO(new Bundle {\n",
    "    val in0 = Input(UInt(in0Width.W))\n",
    "    val in1 = Input(UInt(in1Width.W))\n",
    "    val sum = Output(UInt(sumWidth.W))\n",
    "  })\n",
    "  log(\"Made IO\")\n",
    "  io.sum := io.in0 + io.in1\n",
    "  log(\"Assigned output\")\n",
    "}\n",
    "\n",
    "println(getVerilog(new ParameterizedWidthAdder(1, 4, 5)))\n",
    "println(getVerilog(new ParameterizedWidthAdder(1, 4, 5)(Verbose)))"
   ]
  },
  {
   "cell_type": "markdown",
   "metadata": {},
   "source": [
    "\n",
    "## 隐式转换\n",
    "与隐含参数一样，隐式函数（也称为**隐式转换**）用于减少那些不重要但是又没它不行的代码。更具体地说，它们用于自动将一个Scala对象转换为另一个。\n",
    "\n",
    "<span style=\"color:blue\">**示例：隐式转换**</span><br>\n",
    "在下面的例子中，我们有两个类，`Animal`和`Human`。 `Animal`有一个`species`字段，但`Human`没有。但是，通过实现隐式转换，我们可以在`Human`上调用`species`。"
   ]
  },
  {
   "cell_type": "code",
   "execution_count": 20,
   "metadata": {},
   "outputs": [
    {
     "name": "stdout",
     "output_type": "stream",
     "text": [
      "Homo sapiens\n"
     ]
    },
    {
     "data": {
      "text/plain": [
       "defined \u001b[32mclass\u001b[39m \u001b[36mAnimal\u001b[39m\n",
       "defined \u001b[32mclass\u001b[39m \u001b[36mHuman\u001b[39m\n",
       "defined \u001b[32mfunction\u001b[39m \u001b[36mhuman2animal\u001b[39m\n",
       "\u001b[36mme\u001b[39m: \u001b[32mHuman\u001b[39m = ammonite.$sess.cmd19$Helper$Human@6d9f8e89"
      ]
     },
     "execution_count": 20,
     "metadata": {},
     "output_type": "execute_result"
    }
   ],
   "source": [
    "class Animal(val name: String, val species: String)\n",
    "class Human(val name: String)\n",
    "implicit def human2animal(h: Human): Animal = new Animal(h.name, \"Homo sapiens\")\n",
    "val me = new Human(\"Adam\")\n",
    "println(me.species)"
   ]
  },
  {
   "cell_type": "markdown",
   "metadata": {},
   "source": [
    "\n",
    "通常，implicits可能会使您的代码混乱，因此我们建议您将它们作为最后的手段使用。首先尝试继承，特征（traits）或方法重载。"
   ]
  },
  {
   "cell_type": "markdown",
   "metadata": {},
   "source": [
    "---\n",
    "# Generator示例\n",
    "以下示例显示了具有1位输入Mealy机的生成器。\n",
    "它有一个测试来自于[Wikipedia](https://en.wikipedia.org/wiki/Mealy_machine#/media/File:Mealy.png)里的示例。\n",
    "仔细阅读代码并看看发生了什么。\n",
    "\n",
    "<span style=\"color:blue\">**示例：Mealy Machine ** </span><br>\n",
    "尝试对Mealy机生成器进行别的参数化，并在下面的代码块中编写自己的测试。"
   ]
  },
  {
   "cell_type": "code",
   "execution_count": 21,
   "metadata": {},
   "outputs": [
    {
     "name": "stdout",
     "output_type": "stream",
     "text": [
      "[\u001b[35minfo\u001b[0m] [0.000] Elaborating design...\n",
      "[\u001b[35minfo\u001b[0m] [0.054] Done elaborating.\n",
      "Total FIRRTL Compile Time: 29.2 ms\n",
      "Total FIRRTL Compile Time: 25.8 ms\n",
      "End of dependency graph\n",
      "Circuit state created\n",
      "[\u001b[35minfo\u001b[0m] [0.000] SEED 1572042835624\n",
      "test cmd20HelperBinaryMealy Success: 9 tests passed in 13 cycles taking 0.011317 seconds\n",
      "[\u001b[35minfo\u001b[0m] [0.009] RAN 8 CYCLES PASSED\n",
      "SUCCESS!!\n"
     ]
    },
    {
     "data": {
      "text/plain": [
       "defined \u001b[32mclass\u001b[39m \u001b[36mBinaryMealyParams\u001b[39m\n",
       "defined \u001b[32mclass\u001b[39m \u001b[36mBinaryMealy\u001b[39m\n",
       "\u001b[36mnStates\u001b[39m: \u001b[32mInt\u001b[39m = \u001b[32m3\u001b[39m\n",
       "\u001b[36ms0\u001b[39m: \u001b[32mInt\u001b[39m = \u001b[32m2\u001b[39m\n",
       "defined \u001b[32mfunction\u001b[39m \u001b[36mstateTransition\u001b[39m\n",
       "defined \u001b[32mfunction\u001b[39m \u001b[36moutput\u001b[39m\n",
       "\u001b[36mtestParams\u001b[39m: \u001b[32mBinaryMealyParams\u001b[39m = \u001b[33mBinaryMealyParams\u001b[39m(\n",
       "  \u001b[32m3\u001b[39m,\n",
       "  \u001b[32m2\u001b[39m,\n",
       "  ammonite.$sess.cmd20$Helper$$Lambda$5434/0x00000008415de040@72e456fa,\n",
       "  ammonite.$sess.cmd20$Helper$$Lambda$5435/0x00000008415df040@b0df437\n",
       ")\n",
       "defined \u001b[32mclass\u001b[39m \u001b[36mBinaryMealyTester\u001b[39m\n",
       "\u001b[36mworks\u001b[39m: \u001b[32mBoolean\u001b[39m = true"
      ]
     },
     "execution_count": 21,
     "metadata": {},
     "output_type": "execute_result"
    }
   ],
   "source": [
    "// Mealy 机的参数\n",
    "case class BinaryMealyParams(\n",
    "  // 状态的数目\n",
    "  nStates: Int,\n",
    "  // 初始状态\n",
    "  s0: Int,\n",
    "  // 状态转移函数\n",
    "  stateTransition: (Int, Boolean) => Int,\n",
    "  // 输出函数\n",
    "  output: (Int, Boolean) => Int\n",
    ") {\n",
    "  require(nStates >= 0)\n",
    "  require(s0 < nStates && s0 >= 0)\n",
    "}\n",
    "\n",
    "class BinaryMealy(val mp: BinaryMealyParams) extends Module {\n",
    "  val io = IO(new Bundle {\n",
    "    val in = Input(Bool())\n",
    "    val out = Output(UInt())\n",
    "  })\n",
    "\n",
    "  val state = RegInit(UInt(), mp.s0.U)\n",
    "\n",
    "  // 没有任何状态时输出 0\n",
    "  io.out := 0.U\n",
    "  for (i <- 0 until mp.nStates) {\n",
    "    when (state === i.U) {\n",
    "      when (io.in) {\n",
    "        state  := mp.stateTransition(i, true).U\n",
    "        io.out := mp.output(i, true).U\n",
    "      }.otherwise {\n",
    "        state  := mp.stateTransition(i, false).U\n",
    "        io.out := mp.output(i, false).U\n",
    "      }\n",
    "    }\n",
    "  }\n",
    "}\n",
    "\n",
    "// 来自 https://en.wikipedia.org/wiki/Mealy_machine 的示例\n",
    "val nStates = 3\n",
    "val s0 = 2\n",
    "def stateTransition(state: Int, in: Boolean): Int = {\n",
    "  if (in) {\n",
    "    1\n",
    "  } else {\n",
    "    0\n",
    "  }\n",
    "}\n",
    "def output(state: Int, in: Boolean): Int = {\n",
    "  if (state == 2) {\n",
    "    return 0\n",
    "  }\n",
    "  if ((state == 1 && !in) || (state == 0 && in)) {\n",
    "    return 1\n",
    "  } else {\n",
    "    return 0\n",
    "  }\n",
    "}\n",
    "\n",
    "val testParams = BinaryMealyParams(nStates, s0, stateTransition, output)\n",
    "\n",
    "class BinaryMealyTester(c: BinaryMealy) extends PeekPokeTester(c) {\n",
    "  poke(c.io.in, false)\n",
    "  expect(c.io.out, 0)\n",
    "  step(1)\n",
    "  poke(c.io.in, false)\n",
    "  expect(c.io.out, 0)\n",
    "  step(1)\n",
    "  poke(c.io.in, false)\n",
    "  expect(c.io.out, 0)\n",
    "  step(1)\n",
    "  poke(c.io.in, true)\n",
    "  expect(c.io.out, 1)\n",
    "  step(1)\n",
    "  poke(c.io.in, true)\n",
    "  expect(c.io.out, 0)\n",
    "  step(1)\n",
    "  poke(c.io.in, false)\n",
    "  expect(c.io.out, 1)\n",
    "  step(1)\n",
    "  poke(c.io.in, true)\n",
    "  expect(c.io.out, 1)\n",
    "  step(1)\n",
    "  poke(c.io.in, false)\n",
    "  expect(c.io.out, 1)\n",
    "  step(1)\n",
    "  poke(c.io.in, true)\n",
    "  expect(c.io.out, 1)\n",
    "}\n",
    "val works = iotesters.Driver(() => new BinaryMealy(testParams)) { c => new BinaryMealyTester(c) }\n",
    "assert(works) // Scala 代码：如果 works == false，这里会抛出异常\n",
    "println(\"SUCCESS!!\") // Scala 代码：到这里测试就通过了"
   ]
  },
  {
   "cell_type": "markdown",
   "metadata": {},
   "source": [
    "---\n",
    "# 本节结束!\n",
    "\n",
    "[返回顶部](#top)"
   ]
  }
 ],
 "metadata": {
  "kernelspec": {
   "display_name": "Scala",
   "language": "scala",
   "name": "scala"
  },
  "language_info": {
   "codemirror_mode": "text/x-scala",
   "file_extension": ".scala",
   "mimetype": "text/x-scala",
   "name": "scala",
   "nbconvert_exporter": "script",
   "version": "2.12.8"
  }
 },
 "nbformat": 4,
 "nbformat_minor": 1
}
