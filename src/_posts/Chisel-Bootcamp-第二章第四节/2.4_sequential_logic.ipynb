{
 "cells": [
  {
   "cell_type": "markdown",
   "metadata": {},
   "source": [
    "# 第二章第四节：时序逻辑\n",
    "\n",
    "## 本节的目的\n",
    "\n",
    "没有状态，您不可能能写任何有意义的数字逻辑。没有状态，您不可能能写任何有意义的数字逻辑。没有状态，...\n",
    "\n",
    "重要的事情重复三次。因为如果不能存储中间结果，您做不了多少事情。\n",
    "\n",
    "好吧，把上面这个糟糕的笑话放一边，这个模块将描述如何在Chisel中表达常见的时序逻辑。在模块结束时，您应该能够在Chisel中实现和测试一个移位寄存器的模块。\n",
    "\n",
    "重要的是要强调这一部分可能不会让您惊叹Chisel的能力。Chisel的力量不在于新的时序逻辑模式，而在于设计的参数化。在我们展示这种能力之前，我们必须了解时序逻辑是什么。因此，本节将向您展示Chisel几乎可以完成所有Verilog所能做的事情 - 您只需要学习Chisel语法即可。\n",
    "\n",
    "## 设置"
   ]
  },
  {
   "cell_type": "code",
   "execution_count": null,
   "metadata": {},
   "outputs": [],
   "source": [
    "val path = System.getProperty(\"user.dir\") + \"/source/load-ivy.sc\"\n",
    "interp.load.module(ammonite.ops.Path(java.nio.file.FileSystems.getDefault().getPath(path)))"
   ]
  },
  {
   "cell_type": "code",
   "execution_count": null,
   "metadata": {},
   "outputs": [],
   "source": [
    "import chisel3._\n",
    "import chisel3.util._\n",
    "import chisel3.iotesters.{ChiselFlatSpec, Driver, PeekPokeTester}"
   ]
  },
  {
   "cell_type": "markdown",
   "metadata": {},
   "source": [
    "---\n",
    "# 寄存器\n",
    "Chisel中的具有状态的基本单元是寄存器，表示为`Reg`。\n",
    "`Reg`会一直保持其输出值，直到时钟的上升沿，它才接受输入值。\n",
    "默认情况下，每个Chisel的模块`Module`都有一个隐藏的时钟信号，设计中的每个寄存器都使用这个时钟信号。\n",
    "这样可以避免在代码到处都指定时钟信号。\n",
    "\n",
    "<span style=\"color:blue\">**例子：使用寄存器**</span><br>\n",
    "下面的代码块实现了一个模块，该模块接受输入，加1，并将其作为寄存器的输入连接。\n",
    "*注意：对于多时钟信号的设计，这个隐藏的时钟信号可以被显示的指定。相关示例，请参阅附录。*"
   ]
  },
  {
   "cell_type": "code",
   "execution_count": 3,
   "metadata": {},
   "outputs": [
    {
     "name": "stdout",
     "output_type": "stream",
     "text": [
      "[\u001b[35minfo\u001b[0m] [0.001] Elaborating design...\n",
      "[\u001b[35minfo\u001b[0m] [0.638] Done elaborating.\n",
      "Total FIRRTL Compile Time: 406.4 ms\n",
      "Total FIRRTL Compile Time: 16.5 ms\n",
      "End of dependency graph\n",
      "Circuit state created\n",
      "[\u001b[35minfo\u001b[0m] [0.002] SEED 1562377773901\n",
      "test cmd2HelperRegisterModule Success: 100 tests passed in 105 cycles taking 0.070775 seconds\n",
      "[\u001b[35minfo\u001b[0m] [0.058] RAN 100 CYCLES PASSED\n",
      "SUCCESS!!\n"
     ]
    },
    {
     "data": {
      "text/plain": [
       "defined \u001b[32mclass\u001b[39m \u001b[36mRegisterModule\u001b[39m\n",
       "defined \u001b[32mclass\u001b[39m \u001b[36mRegisterModuleTester\u001b[39m"
      ]
     },
     "execution_count": 3,
     "metadata": {},
     "output_type": "execute_result"
    }
   ],
   "source": [
    "class RegisterModule extends Module {\n",
    "  val io = IO(new Bundle {\n",
    "    val in  = Input(UInt(12.W))\n",
    "    val out = Output(UInt(12.W))\n",
    "  })\n",
    "  \n",
    "  val register = Reg(UInt(12.W))\n",
    "  register := io.in + 1.U\n",
    "  io.out := register\n",
    "}\n",
    "\n",
    "class RegisterModuleTester(c: RegisterModule) extends PeekPokeTester(c) {\n",
    "  for (i <- 0 until 100) {\n",
    "    poke(c.io.in, i)\n",
    "    step(1)\n",
    "    expect(c.io.out, i+1)\n",
    "  }\n",
    "}\n",
    "assert(chisel3.iotesters.Driver(() => new RegisterModule) { c => new RegisterModuleTester(c) })\n",
    "println(\"SUCCESS!!\")"
   ]
  },
  {
   "cell_type": "markdown",
   "metadata": {},
   "source": [
    "寄存器是通过调用`Reg(tpe)`创建的，其中`tpe`是一个Chisel类型。\n",
    "在这个例子中，`tpe`是一个12位的`UInt`。\n",
    "\n",
    "看看上面的测试是如何工作的。\n",
    "在`poke()`和`expect`的调用之间，中间有一个`step(1)`的调用。\n",
    "这是告诉测试工具将时钟往前走一个周期，这将导致寄存器的输入传递到输出。\n",
    "\n",
    "调用`step(n)`将往前走`n`个时钟周期。\n",
    "\n",
    "读者可能会注意到这一节之前的测试（用于组合逻辑）没有调用`step()`。这是因为在输入上调用`poke()`会立即通过组合逻辑传递最新的值。而如果需要在时序逻辑中更新状态的话，就需要调用`step()`。\n",
    "\n",
    "下面的代码块会显示上面的`RegisterModule`模块所生成的verilog。\n",
    "\n",
    "注意：\n",
    "* 模块有一个您并没有添加的时钟（和复位）输入 - 这是隐藏的时钟信号\n",
    "* 变量`register`和预期中一样显示为`reg [11:0]`\n",
    "* 有一块被`ifdef Randomize`分隔开来的部分，在仿真开始之前会将寄存器初始化为一些随机值\n",
    "* `register`在`posedge clock`（时钟的上升沿）上更新"
   ]
  },
  {
   "cell_type": "code",
   "execution_count": 4,
   "metadata": {},
   "outputs": [
    {
     "name": "stdout",
     "output_type": "stream",
     "text": [
      "[\u001b[35minfo\u001b[0m] [0.000] Elaborating design...\n",
      "[\u001b[35minfo\u001b[0m] [0.003] Done elaborating.\n",
      "Total FIRRTL Compile Time: 160.1 ms\n",
      "module cmd2HelperRegisterModule(\n",
      "  input         clock,\n",
      "  input         reset,\n",
      "  input  [11:0] io_in,\n",
      "  output [11:0] io_out\n",
      ");\n",
      "  reg [11:0] register; // @[cmd2.sc 7:21]\n",
      "  reg [31:0] _RAND_0;\n",
      "  assign io_out = register; // @[cmd2.sc 9:10]\n",
      "`ifdef RANDOMIZE_GARBAGE_ASSIGN\n",
      "`define RANDOMIZE\n",
      "`endif\n",
      "`ifdef RANDOMIZE_INVALID_ASSIGN\n",
      "`define RANDOMIZE\n",
      "`endif\n",
      "`ifdef RANDOMIZE_REG_INIT\n",
      "`define RANDOMIZE\n",
      "`endif\n",
      "`ifdef RANDOMIZE_MEM_INIT\n",
      "`define RANDOMIZE\n",
      "`endif\n",
      "`ifndef RANDOM\n",
      "`define RANDOM $random\n",
      "`endif\n",
      "`ifdef RANDOMIZE_MEM_INIT\n",
      "  integer initvar;\n",
      "`endif\n",
      "initial begin\n",
      "  `ifdef RANDOMIZE\n",
      "    `ifdef INIT_RANDOM\n",
      "      `INIT_RANDOM\n",
      "    `endif\n",
      "    `ifndef VERILATOR\n",
      "      `ifdef RANDOMIZE_DELAY\n",
      "        #`RANDOMIZE_DELAY begin end\n",
      "      `else\n",
      "        #0.002 begin end\n",
      "      `endif\n",
      "    `endif\n",
      "  `ifdef RANDOMIZE_REG_INIT\n",
      "  _RAND_0 = {1{`RANDOM}};\n",
      "  register = _RAND_0[11:0];\n",
      "  `endif // RANDOMIZE_REG_INIT\n",
      "  `endif // RANDOMIZE\n",
      "end\n",
      "  always @(posedge clock) begin\n",
      "    register <= io_in + 12'h1;\n",
      "  end\n",
      "endmodule\n",
      "\n"
     ]
    }
   ],
   "source": [
    "println(getVerilog(new RegisterModule))"
   ]
  },
  {
   "cell_type": "markdown",
   "metadata": {},
   "source": [
    "需要注意的是，Chisel会区分类型（如`UInt`）和硬件节点（如 literal`2.U`，或`myReg`的输出）。而\n",
    "```scala\n",
    "val myReg = Reg(UInt(2.W))\n",
    "```\n",
    "\n",
    "是合法的，因为`Reg`需要使用数据类型作为模板，而\n",
    "```scala\n",
    "val myReg = Reg(2.U)\n",
    "```\n",
    "\n",
    "是错误的，因为`2.U`已经是一个硬件节点，不能用作模板。"
   ]
  },
  {
   "cell_type": "markdown",
   "metadata": {},
   "source": [
    "<span style=\"color:blue\">**例子：RegNext**</span><br>\n",
    "Chisel提供了一个便捷的寄存器对象`RegNext`，用于具有简单输入的寄存器。之前的模块可以缩短为下面这样。注意我们不需要指定寄存器位宽，Chisel可以从寄存器的输出连接中推断出来，在这里是`io.out`。"
   ]
  },
  {
   "cell_type": "code",
   "execution_count": 5,
   "metadata": {},
   "outputs": [
    {
     "name": "stdout",
     "output_type": "stream",
     "text": [
      "[\u001b[35minfo\u001b[0m] [0.000] Elaborating design...\n",
      "[\u001b[35minfo\u001b[0m] [0.006] Done elaborating.\n",
      "Total FIRRTL Compile Time: 32.6 ms\n",
      "Total FIRRTL Compile Time: 22.5 ms\n",
      "End of dependency graph\n",
      "Circuit state created\n",
      "[\u001b[35minfo\u001b[0m] [0.000] SEED 1562377776476\n",
      "test cmd4HelperRegNextModule Success: 100 tests passed in 105 cycles taking 0.035812 seconds\n",
      "[\u001b[35minfo\u001b[0m] [0.035] RAN 100 CYCLES PASSED\n",
      "SUCCESS!!\n"
     ]
    },
    {
     "data": {
      "text/plain": [
       "defined \u001b[32mclass\u001b[39m \u001b[36mRegNextModule\u001b[39m\n",
       "defined \u001b[32mclass\u001b[39m \u001b[36mRegNextModuleTester\u001b[39m"
      ]
     },
     "execution_count": 5,
     "metadata": {},
     "output_type": "execute_result"
    }
   ],
   "source": [
    "class RegNextModule extends Module {\n",
    "  val io = IO(new Bundle {\n",
    "    val in  = Input(UInt(12.W))\n",
    "    val out = Output(UInt(12.W))\n",
    "  })\n",
    "  \n",
    "  // register bitwidth is inferred from io.out\n",
    "  io.out := RegNext(io.in + 1.U)\n",
    "}\n",
    "\n",
    "class RegNextModuleTester(c: RegNextModule) extends PeekPokeTester(c) {\n",
    "  for (i <- 0 until 100) {\n",
    "    poke(c.io.in, i)\n",
    "    step(1)\n",
    "    expect(c.io.out, i+1)\n",
    "  }\n",
    "}\n",
    "assert(chisel3.iotesters.Driver(() => new RegNextModule) { c => new RegNextModuleTester(c) })\n",
    "println(\"SUCCESS!!\")"
   ]
  },
  {
   "cell_type": "markdown",
   "metadata": {},
   "source": [
    "除了寄存器的名字是自动生成的而不是显式指定的之外，Verilog看起来与之前几乎相同。"
   ]
  },
  {
   "cell_type": "code",
   "execution_count": 6,
   "metadata": {},
   "outputs": [
    {
     "name": "stdout",
     "output_type": "stream",
     "text": [
      "[\u001b[35minfo\u001b[0m] [0.000] Elaborating design...\n",
      "[\u001b[35minfo\u001b[0m] [0.004] Done elaborating.\n",
      "Total FIRRTL Compile Time: 43.0 ms\n",
      "module cmd4HelperRegNextModule(\n",
      "  input         clock,\n",
      "  input         reset,\n",
      "  input  [11:0] io_in,\n",
      "  output [11:0] io_out\n",
      ");\n",
      "  reg [11:0] _T_2; // @[cmd4.sc 8:20]\n",
      "  reg [31:0] _RAND_0;\n",
      "  assign io_out = _T_2; // @[cmd4.sc 8:10]\n",
      "`ifdef RANDOMIZE_GARBAGE_ASSIGN\n",
      "`define RANDOMIZE\n",
      "`endif\n",
      "`ifdef RANDOMIZE_INVALID_ASSIGN\n",
      "`define RANDOMIZE\n",
      "`endif\n",
      "`ifdef RANDOMIZE_REG_INIT\n",
      "`define RANDOMIZE\n",
      "`endif\n",
      "`ifdef RANDOMIZE_MEM_INIT\n",
      "`define RANDOMIZE\n",
      "`endif\n",
      "`ifndef RANDOM\n",
      "`define RANDOM $random\n",
      "`endif\n",
      "`ifdef RANDOMIZE_MEM_INIT\n",
      "  integer initvar;\n",
      "`endif\n",
      "initial begin\n",
      "  `ifdef RANDOMIZE\n",
      "    `ifdef INIT_RANDOM\n",
      "      `INIT_RANDOM\n",
      "    `endif\n",
      "    `ifndef VERILATOR\n",
      "      `ifdef RANDOMIZE_DELAY\n",
      "        #`RANDOMIZE_DELAY begin end\n",
      "      `else\n",
      "        #0.002 begin end\n",
      "      `endif\n",
      "    `endif\n",
      "  `ifdef RANDOMIZE_REG_INIT\n",
      "  _RAND_0 = {1{`RANDOM}};\n",
      "  _T_2 = _RAND_0[11:0];\n",
      "  `endif // RANDOMIZE_REG_INIT\n",
      "  `endif // RANDOMIZE\n",
      "end\n",
      "  always @(posedge clock) begin\n",
      "    _T_2 <= io_in + 12'h1;\n",
      "  end\n",
      "endmodule\n",
      "\n"
     ]
    }
   ],
   "source": [
    "println(getVerilog(new RegNextModule))"
   ]
  },
  {
   "cell_type": "markdown",
   "metadata": {},
   "source": [
    "---\n",
    "# `RegInit`\n",
    "\n",
    "`RegisterModule`中的寄存器被初始化为随机数据以进行仿真。\n",
    "除非特别指定，否则寄存器没有复位值（或复位，reset value）。\n",
    "创建具有复位值的寄存器的是使用`RegInit`。\n",
    "\n",
    "例如，下面创建初始值为零的12位寄存器。\n",
    "以下两个版本都是有效的，并执行相同的操作：\n",
    "```scala\n",
    "val myReg = RegInit(UInt(12.W), 0.U)\n",
    "val myReg = RegInit(0.U(12.W))\n",
    "```\n",
    "\n",
    "\n",
    "第一个版本有两个参数。\n",
    "第一个参数指定数据类型及其宽度。\n",
    "第二个参数是一个硬件节点，用来指定复位值，在本例中为0。\n",
    "\n",
    "第二个版本有一个参数。\n",
    "它是指定复位值的硬件节点，但通常为“0.U”。\n",
    "\n",
    "<span style=\"color:blue\">**例子：初始化寄存器** </span><br>\n",
    "下面演示了怎样使用`RegInit()`，初始化为零。"
   ]
  },
  {
   "cell_type": "code",
   "execution_count": 7,
   "metadata": {},
   "outputs": [
    {
     "name": "stdout",
     "output_type": "stream",
     "text": [
      "[\u001b[35minfo\u001b[0m] [0.000] Elaborating design...\n",
      "[\u001b[35minfo\u001b[0m] [0.009] Done elaborating.\n",
      "Total FIRRTL Compile Time: 26.6 ms\n",
      "module cmd6HelperRegInitModule(\n",
      "  input         clock,\n",
      "  input         reset,\n",
      "  input  [11:0] io_in,\n",
      "  output [11:0] io_out\n",
      ");\n",
      "  reg [11:0] register; // @[cmd6.sc 7:25]\n",
      "  reg [31:0] _RAND_0;\n",
      "  wire [11:0] _T_1; // @[cmd6.sc 8:21]\n",
      "  assign _T_1 = io_in + 12'h1; // @[cmd6.sc 8:21]\n",
      "  assign io_out = register; // @[cmd6.sc 9:10]\n",
      "`ifdef RANDOMIZE_GARBAGE_ASSIGN\n",
      "`define RANDOMIZE\n",
      "`endif\n",
      "`ifdef RANDOMIZE_INVALID_ASSIGN\n",
      "`define RANDOMIZE\n",
      "`endif\n",
      "`ifdef RANDOMIZE_REG_INIT\n",
      "`define RANDOMIZE\n",
      "`endif\n",
      "`ifdef RANDOMIZE_MEM_INIT\n",
      "`define RANDOMIZE\n",
      "`endif\n",
      "`ifndef RANDOM\n",
      "`define RANDOM $random\n",
      "`endif\n",
      "`ifdef RANDOMIZE_MEM_INIT\n",
      "  integer initvar;\n",
      "`endif\n",
      "initial begin\n",
      "  `ifdef RANDOMIZE\n",
      "    `ifdef INIT_RANDOM\n",
      "      `INIT_RANDOM\n",
      "    `endif\n",
      "    `ifndef VERILATOR\n",
      "      `ifdef RANDOMIZE_DELAY\n",
      "        #`RANDOMIZE_DELAY begin end\n",
      "      `else\n",
      "        #0.002 begin end\n",
      "      `endif\n",
      "    `endif\n",
      "  `ifdef RANDOMIZE_REG_INIT\n",
      "  _RAND_0 = {1{`RANDOM}};\n",
      "  register = _RAND_0[11:0];\n",
      "  `endif // RANDOMIZE_REG_INIT\n",
      "  `endif // RANDOMIZE\n",
      "end\n",
      "  always @(posedge clock) begin\n",
      "    if (reset) begin\n",
      "      register <= 12'h0;\n",
      "    end else begin\n",
      "      register <= _T_1;\n",
      "    end\n",
      "  end\n",
      "endmodule\n",
      "\n"
     ]
    },
    {
     "data": {
      "text/plain": [
       "defined \u001b[32mclass\u001b[39m \u001b[36mRegInitModule\u001b[39m"
      ]
     },
     "execution_count": 7,
     "metadata": {},
     "output_type": "execute_result"
    }
   ],
   "source": [
    "class RegInitModule extends Module {\n",
    "  val io = IO(new Bundle {\n",
    "    val in  = Input(UInt(12.W))\n",
    "    val out = Output(UInt(12.W))\n",
    "  })\n",
    "  \n",
    "  val register = RegInit(0.U(12.W))\n",
    "  register := io.in + 1.U\n",
    "  io.out := register\n",
    "}\n",
    "\n",
    "println(getVerilog(new RegInitModule))"
   ]
  },
  {
   "cell_type": "markdown",
   "metadata": {},
   "source": [
    "请注意，生成的verilog现在有一个代码块，用于检查`if (reset)`以便将寄存器复位为0。\n",
    "另外还需要注意的是，这是在`always @(posedge clock)`块中。\n",
    "Chisel的隐含的重置是在时钟的上升沿，并且是同步的。\n",
    "在真正重置之前，寄存器里仍然是随机的垃圾值。\n",
    "`PeekPokeTesters`在运行测试之前总是调用reset，但您也可以使用`reset(n)`函数来手动reset，其中`n`表示reset信号会持续为`n`个周期。"
   ]
  },
  {
   "cell_type": "markdown",
   "metadata": {},
   "source": [
    "---\n",
    "# 控制流\n",
    "\n",
    "在控制流方面，寄存器与线非常类似。\n",
    "它们也具有最后的连接语义，也可以通过`when`，`elsewhen`和`otherwise`根据条件来赋值。\n",
    "\n",
    "<span style=\"color:blue\">**例子：包含寄存器的控制流**</span><br>\n",
    "下面的例子使用条件对寄存器赋值，从而得到输入序列中的最大值。"
   ]
  },
  {
   "cell_type": "code",
   "execution_count": 8,
   "metadata": {},
   "outputs": [
    {
     "name": "stdout",
     "output_type": "stream",
     "text": [
      "[\u001b[35minfo\u001b[0m] [0.000] Elaborating design...\n",
      "[\u001b[35minfo\u001b[0m] [0.088] Done elaborating.\n",
      "Total FIRRTL Compile Time: 20.3 ms\n",
      "Total FIRRTL Compile Time: 14.0 ms\n",
      "End of dependency graph\n",
      "Circuit state created\n",
      "[\u001b[35minfo\u001b[0m] [0.001] SEED 1562377777544\n",
      "test cmd7HelperFindMax Success: 5 tests passed in 9 cycles taking 0.007961 seconds\n",
      "[\u001b[35minfo\u001b[0m] [0.008] RAN 4 CYCLES PASSED\n",
      "SUCCESS!!\n"
     ]
    },
    {
     "data": {
      "text/plain": [
       "defined \u001b[32mclass\u001b[39m \u001b[36mFindMax\u001b[39m"
      ]
     },
     "execution_count": 8,
     "metadata": {},
     "output_type": "execute_result"
    }
   ],
   "source": [
    "class FindMax extends Module {\n",
    "  val io = IO(new Bundle {\n",
    "    val in  = Input(UInt(10.W))\n",
    "    val max = Output(UInt(10.W))\n",
    "  })\n",
    "\n",
    "  val max = RegInit(0.U(10.W))\n",
    "  when (io.in > max) {\n",
    "    max := io.in\n",
    "  }\n",
    "  io.max := max\n",
    "}\n",
    "assert(chisel3.iotesters.Driver(() => new FindMax) {\n",
    "  c => new PeekPokeTester(c) {\n",
    "    expect(c.io.max, 0)\n",
    "    poke(c.io.in, 1)\n",
    "    step(1)\n",
    "    expect(c.io.max, 1)\n",
    "    poke(c.io.in, 3)\n",
    "    step(1)\n",
    "    expect(c.io.max, 3)\n",
    "    poke(c.io.in, 2)\n",
    "    step(1)\n",
    "    expect(c.io.max, 3)\n",
    "    poke(c.io.in, 24)\n",
    "    step(1)\n",
    "    expect(c.io.max, 24)\n",
    "  }\n",
    "})\n",
    "println(\"SUCCESS!!\")"
   ]
  },
  {
   "cell_type": "markdown",
   "metadata": {},
   "source": [
    "---\n",
    "# 其他寄存器的例子\n",
    "\n",
    "寄存器上所执行的操作实际上是在寄存器的**输出**上执行的，具体的操作取决于寄存器的类型。\n",
    "这意味着您可以写：\n",
    "```scala\n",
    "val reg: UInt = Reg(UInt(4.W))```\n",
    "这也意味着常量`reg`是`UInt`类型的，`UInt`的运算，如`+`，`-`等，对`reg`也成立。\n",
    "\n",
    "您也不限于使用`UInt`作为寄存器类型，任何基类为`chisel3.Data`的子类都可以。这包括用于有符号整数`SInt`和许多其他类型。\n",
    "\n",
    "<span style=\"color:blue\">**例子：梳状滤波器**</span><br>\n",
    "下面是一个梳状滤波器的例子："
   ]
  },
  {
   "cell_type": "code",
   "execution_count": 9,
   "metadata": {},
   "outputs": [
    {
     "name": "stdout",
     "output_type": "stream",
     "text": [
      "[\u001b[35minfo\u001b[0m] [0.000] Elaborating design...\n",
      "[\u001b[35minfo\u001b[0m] [0.009] Done elaborating.\n",
      "Total FIRRTL Compile Time: 39.4 ms\n",
      "module cmd8HelperComb(\n",
      "  input         clock,\n",
      "  input         reset,\n",
      "  input  [11:0] io_in,\n",
      "  output [11:0] io_out\n",
      ");\n",
      "  reg [11:0] delay; // @[cmd8.sc 7:24]\n",
      "  reg [31:0] _RAND_0;\n",
      "  wire [11:0] _T_1; // @[cmd8.sc 9:19]\n",
      "  assign _T_1 = $signed(io_in) - $signed(delay); // @[cmd8.sc 9:19]\n",
      "  assign io_out = $signed(_T_1); // @[cmd8.sc 9:10]\n",
      "`ifdef RANDOMIZE_GARBAGE_ASSIGN\n",
      "`define RANDOMIZE\n",
      "`endif\n",
      "`ifdef RANDOMIZE_INVALID_ASSIGN\n",
      "`define RANDOMIZE\n",
      "`endif\n",
      "`ifdef RANDOMIZE_REG_INIT\n",
      "`define RANDOMIZE\n",
      "`endif\n",
      "`ifdef RANDOMIZE_MEM_INIT\n",
      "`define RANDOMIZE\n",
      "`endif\n",
      "`ifndef RANDOM\n",
      "`define RANDOM $random\n",
      "`endif\n",
      "`ifdef RANDOMIZE_MEM_INIT\n",
      "  integer initvar;\n",
      "`endif\n",
      "initial begin\n",
      "  `ifdef RANDOMIZE\n",
      "    `ifdef INIT_RANDOM\n",
      "      `INIT_RANDOM\n",
      "    `endif\n",
      "    `ifndef VERILATOR\n",
      "      `ifdef RANDOMIZE_DELAY\n",
      "        #`RANDOMIZE_DELAY begin end\n",
      "      `else\n",
      "        #0.002 begin end\n",
      "      `endif\n",
      "    `endif\n",
      "  `ifdef RANDOMIZE_REG_INIT\n",
      "  _RAND_0 = {1{`RANDOM}};\n",
      "  delay = _RAND_0[11:0];\n",
      "  `endif // RANDOMIZE_REG_INIT\n",
      "  `endif // RANDOMIZE\n",
      "end\n",
      "  always @(posedge clock) begin\n",
      "    delay <= io_in;\n",
      "  end\n",
      "endmodule\n",
      "\n"
     ]
    },
    {
     "data": {
      "text/plain": [
       "defined \u001b[32mclass\u001b[39m \u001b[36mComb\u001b[39m"
      ]
     },
     "execution_count": 9,
     "metadata": {},
     "output_type": "execute_result"
    }
   ],
   "source": [
    "class Comb extends Module {\n",
    "  val io = IO(new Bundle {\n",
    "    val in  = Input(SInt(12.W))\n",
    "    val out = Output(SInt(12.W))\n",
    "  })\n",
    "\n",
    "  val delay: SInt = Reg(SInt(12.W))\n",
    "  delay := io.in\n",
    "  io.out := io.in - delay\n",
    "}\n",
    "println(getVerilog(new Comb))"
   ]
  },
  {
   "cell_type": "markdown",
   "metadata": {},
   "source": [
    "---\n",
    "# 练习\n",
    "<span style=\"color:red\">**练习：移位寄存器**</span><br>\n",
    "\n",
    "基于您刚刚学习的寄存器的知识，构建一个LFSR的移位寄存器模块。规格如下：\n",
    " - 每个元素都是1比特宽。\n",
    " - 输出信号有4比特。\n",
    " - 输入也是1比特，这就是送入移位寄存器的下一个值。\n",
    " - 将移位寄存器的值并行输出，最高位是移位寄存器的最后一个元素，最低位是移位寄存器的第一个元素。 `Cat`函数可能会派上用场。\n",
    " -  **输出的初始值为`b0001`。**\n",
    " - 每个时钟周期移位（没有使能enable信号）。\n",
    " - **注意在Chisel中，给subword赋值是非法的**；例如`out(0) := in`非法。\n",
    "\n",
    "<img src=\"images/shifter4.svg\" alt=\"shift register figure\" style=\"width: 450px\" />\n",
    "\n",
    "下面提供了基本的模块框架，测试向量和驱动。第一个寄存器已经为您提供好了："
   ]
  },
  {
   "cell_type": "code",
   "execution_count": null,
   "metadata": {},
   "outputs": [],
   "source": [
    "class MyShiftRegister(val init: Int = 1) extends Module {\n",
    "  val io = IO(new Bundle {\n",
    "    val in  = Input(Bool())\n",
    "    val out = Output(UInt(4.W))\n",
    "  })\n",
    "\n",
    "  val state = RegInit(UInt(4.W), init.U)\n",
    "\n",
    "  ???\n",
    "}\n",
    "\n",
    "class MyShiftRegisterTester(c: MyShiftRegister) extends PeekPokeTester(c) {\n",
    "  var state = c.init\n",
    "  for (i <- 0 until 10) {\n",
    "    // poke in LSB of i (i % 2)\n",
    "    poke(c.io.in, i % 2)\n",
    "    // update expected state\n",
    "    state = ((state * 2) + (i % 2)) & 0xf\n",
    "    step(1)\n",
    "    expect(c.io.out, state)\n",
    "  }\n",
    "}\n",
    "assert(chisel3.iotesters.Driver(() => new MyShiftRegister()) {\n",
    "    c => new MyShiftRegisterTester(c)\n",
    "})\n",
    "println(\"SUCCESS!!\")"
   ]
  },
  {
   "cell_type": "markdown",
   "metadata": {},
   "source": [
    "<div id=\"container\"><section id=\"accordion\"><div>\n",
    "<input type=\"checkbox\" id=\"check-1\" />\n",
    "<label for=\"check-1\"><strong>答案</strong></label>\n",
    "<article>\n",
    "<pre style=\"background-color:#f7f7f7\">\n",
    "  val nextState = (state << 1) | io.in\n",
    "  state := nextState\n",
    "  io.out := state\n",
    "</pre></article></div></section></div>"
   ]
  },
  {
   "cell_type": "markdown",
   "metadata": {},
   "source": [
    "<span style=\"color:red\">**练习：参数化的移位寄存器（可选）**</span><br>\n",
    "写一个移位寄存器，它具有两个参数：延迟（`n`）和初始值（`init`）。并且它还有一个使能的输入信号（`en`）。"
   ]
  },
  {
   "cell_type": "code",
   "execution_count": null,
   "metadata": {},
   "outputs": [],
   "source": [
    "// n 是输出信号的宽度 (delay的数目 - 1)\n",
    "// 初始值为init\n",
    "class MyOptionalShiftRegister(val n: Int, val init: BigInt = 1) extends Module {\n",
    "  val io = IO(new Bundle {\n",
    "    val en  = Input(Bool())\n",
    "    val in  = Input(Bool())\n",
    "    val out = Output(UInt(n.W))\n",
    "  })\n",
    "\n",
    "  val state = RegInit(init.U(n.W))\n",
    "\n",
    "  ???\n",
    "}\n",
    "\n",
    "class MyOptionalShiftRegisterTester(c: MyOptionalShiftRegister) extends PeekPokeTester(c) {\n",
    "  val inSeq = Seq(0, 1, 1, 1, 0, 1, 1, 0, 0, 1)\n",
    "  var state = c.init\n",
    "  var i = 0\n",
    "  poke(c.io.en, 1)\n",
    "  while (i < 10 * c.n) {\n",
    "    // 重复送入信号 inSeq\n",
    "    val toPoke = inSeq(i % inSeq.length)\n",
    "    poke(c.io.in, toPoke)\n",
    "    // 更新期望的状态\n",
    "    state = ((state * 2) + toPoke) & BigInt(\"1\"*c.n, 2)\n",
    "    step(1)\n",
    "    expect(c.io.out, state)\n",
    "\n",
    "    i += 1\n",
    "  }\n",
    "}\n",
    "\n",
    "// 测试不同的深度\n",
    "for (i <- Seq(3, 4, 8, 24, 65)) {\n",
    "  println(s\"Testing n=$i\")\n",
    "  assert(chisel3.iotesters.Driver(() => new MyOptionalShiftRegister(n = i)) {\n",
    "    c => new MyOptionalShiftRegisterTester(c)\n",
    "  })\n",
    "}\n",
    "println(\"SUCCESS!!\")"
   ]
  },
  {
   "cell_type": "markdown",
   "metadata": {},
   "source": [
    "<div id=\"container\"><section id=\"accordion\"><div>\n",
    "<input type=\"checkbox\" id=\"check-2\" />\n",
    "<label for=\"check-2\"><strong>例子</strong></label>\n",
    "<article>\n",
    "<pre style=\"background-color:#f7f7f7\">\n",
    "  val nextState = (state << 1) | io.in\n",
    "  when (io.en) {\n",
    "    state  := nextState\n",
    "  }\n",
    "  io.out := state\n",
    "</pre></article></div></section></div>"
   ]
  },
  {
   "cell_type": "markdown",
   "metadata": {},
   "source": [
    "---\n",
    "# 附录：显式的时钟信号和复位信号\n",
    "\n",
    "Chisel模块具有默认的时钟和复位信号，在模块中创建的每个寄存器都隐式使用它们。\n",
    "有时您可能不想要使用这种默认的信号；也许您有一个黑盒可以生成时钟或复位信号，或者您有一个多时钟设计。\n",
    "\n",
    "Chisel提供了处理这种情况的结构。\n",
    "时钟和复位信号可以通过使用`withClock（）{}`，`withReset（）{}`以及`withClockAndReset（）{}`，分别或一起被override。\n",
    "下面的代码块将给出使用这些函数的示例。\n",
    "\n",
    "需要注意的一点是`reset`（至少在本教程编写时）始终是同步的并且类型为`Bool`。\n",
    "时钟信号在Chisel（`Clock`）中有自己的类型，应该这样声明。\n",
    "*`Bool`可以通过调用 `asClock()`来转换为`Clock`类型，但是您应该小心谨慎*\n",
    "\n",
    "另外要注意的是，`chisel-testers`目前还没有完全支持多时钟设计。\n",
    "\n",
    "<span style=\"color:blue\">**例子：多时钟模块**</span><br>\n",
    "一个具有多个时钟和复位信号的模块。"
   ]
  },
  {
   "cell_type": "code",
   "execution_count": 11,
   "metadata": {
    "scrolled": true
   },
   "outputs": [
    {
     "name": "stdout",
     "output_type": "stream",
     "text": [
      "[\u001b[35minfo\u001b[0m] [0.000] Elaborating design...\n",
      "[\u001b[35minfo\u001b[0m] [0.018] Done elaborating.\n",
      "Total FIRRTL Compile Time: 31.0 ms\n",
      "module cmd10HelperClockExamples(\n",
      "  input        clock,\n",
      "  input        reset,\n",
      "  input  [9:0] io_in,\n",
      "  input        io_alternateReset,\n",
      "  input        io_alternateClock,\n",
      "  output [9:0] io_outImplicit,\n",
      "  output [9:0] io_outAlternateReset,\n",
      "  output [9:0] io_outAlternateClock,\n",
      "  output [9:0] io_outAlternateBoth\n",
      ");\n",
      "  reg [9:0] imp; // @[cmd10.sc 14:20]\n",
      "  reg [31:0] _RAND_0;\n",
      "  reg [9:0] _T; // @[cmd10.sc 20:25]\n",
      "  reg [31:0] _RAND_1;\n",
      "  reg [9:0] _T_1; // @[cmd10.sc 26:25]\n",
      "  reg [31:0] _RAND_2;\n",
      "  reg [9:0] _T_2; // @[cmd10.sc 32:22]\n",
      "  reg [31:0] _RAND_3;\n",
      "  assign io_outImplicit = imp; // @[cmd10.sc 16:18]\n",
      "  assign io_outAlternateReset = _T; // @[cmd10.sc 22:26]\n",
      "  assign io_outAlternateClock = _T_1; // @[cmd10.sc 28:26]\n",
      "  assign io_outAlternateBoth = _T_2; // @[cmd10.sc 34:25]\n",
      "`ifdef RANDOMIZE_GARBAGE_ASSIGN\n",
      "`define RANDOMIZE\n",
      "`endif\n",
      "`ifdef RANDOMIZE_INVALID_ASSIGN\n",
      "`define RANDOMIZE\n",
      "`endif\n",
      "`ifdef RANDOMIZE_REG_INIT\n",
      "`define RANDOMIZE\n",
      "`endif\n",
      "`ifdef RANDOMIZE_MEM_INIT\n",
      "`define RANDOMIZE\n",
      "`endif\n",
      "`ifndef RANDOM\n",
      "`define RANDOM $random\n",
      "`endif\n",
      "`ifdef RANDOMIZE_MEM_INIT\n",
      "  integer initvar;\n",
      "`endif\n",
      "initial begin\n",
      "  `ifdef RANDOMIZE\n",
      "    `ifdef INIT_RANDOM\n",
      "      `INIT_RANDOM\n",
      "    `endif\n",
      "    `ifndef VERILATOR\n",
      "      `ifdef RANDOMIZE_DELAY\n",
      "        #`RANDOMIZE_DELAY begin end\n",
      "      `else\n",
      "        #0.002 begin end\n",
      "      `endif\n",
      "    `endif\n",
      "  `ifdef RANDOMIZE_REG_INIT\n",
      "  _RAND_0 = {1{`RANDOM}};\n",
      "  imp = _RAND_0[9:0];\n",
      "  `endif // RANDOMIZE_REG_INIT\n",
      "  `ifdef RANDOMIZE_REG_INIT\n",
      "  _RAND_1 = {1{`RANDOM}};\n",
      "  _T = _RAND_1[9:0];\n",
      "  `endif // RANDOMIZE_REG_INIT\n",
      "  `ifdef RANDOMIZE_REG_INIT\n",
      "  _RAND_2 = {1{`RANDOM}};\n",
      "  _T_1 = _RAND_2[9:0];\n",
      "  `endif // RANDOMIZE_REG_INIT\n",
      "  `ifdef RANDOMIZE_REG_INIT\n",
      "  _RAND_3 = {1{`RANDOM}};\n",
      "  _T_2 = _RAND_3[9:0];\n",
      "  `endif // RANDOMIZE_REG_INIT\n",
      "  `endif // RANDOMIZE\n",
      "end\n",
      "  always @(posedge clock) begin\n",
      "    if (reset) begin\n",
      "      imp <= 10'h0;\n",
      "    end else begin\n",
      "      imp <= io_in;\n",
      "    end\n",
      "    if (io_alternateReset) begin\n",
      "      _T <= 10'h0;\n",
      "    end else begin\n",
      "      _T <= io_in;\n",
      "    end\n",
      "  end\n",
      "  always @(posedge io_alternateClock) begin\n",
      "    if (reset) begin\n",
      "      _T_1 <= 10'h0;\n",
      "    end else begin\n",
      "      _T_1 <= io_in;\n",
      "    end\n",
      "    if (io_alternateReset) begin\n",
      "      _T_2 <= 10'h0;\n",
      "    end else begin\n",
      "      _T_2 <= io_in;\n",
      "    end\n",
      "  end\n",
      "endmodule\n",
      "\n"
     ]
    },
    {
     "data": {
      "text/plain": [
       "\u001b[32mimport \u001b[39m\u001b[36mchisel3.experimental.{withClock, withReset, withClockAndReset}\n",
       "\n",
       "\u001b[39m\n",
       "defined \u001b[32mclass\u001b[39m \u001b[36mClockExamples\u001b[39m"
      ]
     },
     "execution_count": 11,
     "metadata": {},
     "output_type": "execute_result"
    }
   ],
   "source": [
    "// 我们需要导入多时钟的功能\n",
    "import chisel3.experimental.{withClock, withReset, withClockAndReset}\n",
    "\n",
    "class ClockExamples extends Module {\n",
    "  val io = IO(new Bundle {\n",
    "    val in = Input(UInt(10.W))\n",
    "    val alternateReset    = Input(Bool())\n",
    "    val alternateClock    = Input(Clock())\n",
    "    val outImplicit       = Output(UInt())\n",
    "    val outAlternateReset = Output(UInt())\n",
    "    val outAlternateClock = Output(UInt())\n",
    "    val outAlternateBoth  = Output(UInt())\n",
    "  })\n",
    "\n",
    "  val imp = RegInit(0.U(10.W))\n",
    "  imp := io.in\n",
    "  io.outImplicit := imp\n",
    "\n",
    "  withReset(io.alternateReset) {\n",
    "    //此范围内都使用 alternateReset 作为复位信号\n",
    "    val altRst = RegInit(0.U(10.W))\n",
    "    altRst := io.in\n",
    "    io.outAlternateReset := altRst\n",
    "  }\n",
    "\n",
    "  withClock(io.alternateClock) {\n",
    "    val altClk = RegInit(0.U(10.W))\n",
    "    altClk := io.in\n",
    "    io.outAlternateClock := altClk\n",
    "  }\n",
    "\n",
    "  withClockAndReset(io.alternateClock, io.alternateReset) {\n",
    "    val alt = RegInit(0.U(10.W))\n",
    "    alt := io.in\n",
    "    io.outAlternateBoth := alt\n",
    "  }\n",
    "}\n",
    "\n",
    "println(getVerilog(new ClockExamples))"
   ]
  },
  {
   "cell_type": "markdown",
   "metadata": {},
   "source": [
    "---\n",
    "# 总结\n",
    "\n",
    "恭喜您完成了这一节!!您现在已经学会了如何在Chisel中创建寄存器和实现时序逻辑，这意味着您有足够的知识开始来编写真正的电路了。\n",
    "\n",
    "下一节中将把我们学到的所有内容合并到一个例子中！如果您需要更多的鼓励，请记住下面Chisel专家的这些话：\n",
    "\n",
    "![BobRoss](http://i.qkme.me/3qbd5u.jpg)"
   ]
  },
  {
   "cell_type": "markdown",
   "metadata": {},
   "source": [
    "---\n",
    "# 本节结束!\n",
    "​\n",
    "[返回顶部](#top)"
   ]
  }
 ],
 "metadata": {
  "kernelspec": {
   "display_name": "Scala",
   "language": "scala",
   "name": "scala"
  },
  "language_info": {
   "codemirror_mode": "text/x-scala",
   "file_extension": ".scala",
   "mimetype": "text/x-scala",
   "name": "scala",
   "nbconvert_exporter": "script",
   "version": "2.12.8"
  }
 },
 "nbformat": 4,
 "nbformat_minor": 2
}
