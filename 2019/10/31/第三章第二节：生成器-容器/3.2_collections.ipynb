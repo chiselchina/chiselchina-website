{
 "cells": [
  {
   "cell_type": "markdown",
   "metadata": {},
   "source": [
    "# 第三章第二节：生成器：容器\n",
    "\n",
    "\n",
    "## 本节的目的\n",
    "\n",
    "生成器经常需要处理可变数量的对象，无论它们是IO，模块还是测试向量。\n",
    "容器（collections）是处理此类情况的重要基础。\n",
    "本模块将介绍Scala容器以及如何将它们与Chisel生成器一起使用。\n",
    "\n",
    "\n",
    "## 设置"
   ]
  },
  {
   "cell_type": "code",
   "execution_count": null,
   "metadata": {},
   "outputs": [],
   "source": [
    "val path = System.getProperty(\"user.dir\") + \"/source/load-ivy.sc\"\n",
    "interp.load.module(ammonite.ops.Path(java.nio.file.FileSystems.getDefault().getPath(path)))"
   ]
  },
  {
   "cell_type": "markdown",
   "metadata": {},
   "source": [
    "\n",
    "注意，下面我们多加了一个新的导入，因为`mutable.ArrayBuffer`在`scala.collections`之中。"
   ]
  },
  {
   "cell_type": "code",
   "execution_count": null,
   "metadata": {},
   "outputs": [],
   "source": [
    "import chisel3._\n",
    "import chisel3.util._\n",
    "import chisel3.iotesters.{ChiselFlatSpec, Driver, PeekPokeTester}\n",
    "import scala.collection._"
   ]
  },
  {
   "cell_type": "markdown",
   "metadata": {},
   "source": [
    "---\n",
    "# 生成器和容器<a name=\"generators-and-collections\"></a> \n",
    "\n",
    "在本节中，我们将重点介绍*生成器（generators）*的概念以及怎样用Scala容器来作为实现它们的工具。\n",
    "与其将Chisel代码看作是一个电路的*实例（instance）*（即特定电路的描述），\n",
    "我们在这里将其视为电路的生成器。\n",
    "\n",
    "我们将首先来看看先前练习中的FIR滤波器。"
   ]
  },
  {
   "cell_type": "code",
   "execution_count": 3,
   "metadata": {},
   "outputs": [
    {
     "data": {
      "text/plain": [
       "defined \u001b[32mclass\u001b[39m \u001b[36mMy4ElementFir\u001b[39m"
      ]
     },
     "execution_count": 3,
     "metadata": {},
     "output_type": "execute_result"
    }
   ],
   "source": [
    "class My4ElementFir(b0: Int, b1: Int, b2: Int, b3: Int) extends Module {\n",
    "  val io = IO(new Bundle {\n",
    "    val in = Input(UInt(8.W))\n",
    "    val out = Output(UInt(8.W))\n",
    "  })\n",
    "\n",
    "  val x_n1 = RegNext(io.in, 0.U)\n",
    "  val x_n2 = RegNext(x_n1, 0.U)\n",
    "  val x_n3 = RegNext(x_n2, 0.U)\n",
    "  io.out := io.in * b0.U(8.W) + x_n1 * b1.U(8.W) +\n",
    "    x_n2 * b2.U(8.W) + x_n3 * b3.U(8.W)\n",
    "}\n"
   ]
  },
  {
   "cell_type": "markdown",
   "metadata": {},
   "source": [
    "该电路是生成器的一种简单的例子，因为它可以使用不同的参数来生成此4抽头（tap）滤波器的版本：\n",
    "但是，如果我们希望电路具有更多的抽头呢？我们将分几个步骤来进行：\n",
    "\n",
    "- 建立抽头（tap）数目可配置的FIR的软件的*黄金模型（Golden Model）* 。\n",
    "- 重新设计我们的测试，并确认这个新的模型它可以工作。\n",
    "- 重构我们的My4ElementFir以允许可配置的抽头数量。\n",
    "- 使用我们的新测试约束来测试新电路。\n",
    "\n",
    "<span style=\"color:blue\"> **示例：FIR黄金模型（Golden Model）** </span><br><a name=\"fir-golden-model\"></a> \n",
    "以下是用Scala软件实现的FIR电路。"
   ]
  },
  {
   "cell_type": "code",
   "execution_count": 4,
   "metadata": {},
   "outputs": [
    {
     "data": {
      "text/plain": [
       "defined \u001b[32mclass\u001b[39m \u001b[36mScalaFirFilter\u001b[39m"
      ]
     },
     "execution_count": 4,
     "metadata": {},
     "output_type": "execute_result"
    }
   ],
   "source": [
    "/**\n",
    "  * 带有任意抽头（tap）的FIR滤波器的简单实现。\n",
    "  */\n",
    "class ScalaFirFilter(taps: Seq[Int]) {\n",
    "  var pseudoRegisters = List.fill(taps.length)(0)\n",
    "\n",
    "  def poke(value: Int): Int = {\n",
    "    pseudoRegisters = value :: pseudoRegisters.take(taps.length - 1)\n",
    "    var accumulator = 0\n",
    "    for(i <- taps.indices) {\n",
    "      accumulator += taps(i) * pseudoRegisters(i)\n",
    "    }\n",
    "    accumulator\n",
    "  }\n",
    "}"
   ]
  },
  {
   "cell_type": "markdown",
   "metadata": {},
   "source": [
    "### Seq\n",
    "注意，`taps`已成为`Seq[Int]`，这意味着用户在构造该类时可以传递任意长的`Int`序列。\n",
    "\n",
    "### 寄存器\n",
    "通过`  var pseudoRegisters = List.fill(taps.length)(0)`，我们创建了一个列表`List`，它将保存前一个时钟周期的值。之所以选择列表`List`，是因为往其头部添加元素以及从尾部删除最后一个元素的语法非常简单。几乎任何scala容器中的类都可以使用。另外，我们还将此列表初始化为全零。\n",
    "\n",
    "### Poke\n",
    "我们的类添加了一个`poke`函数/方法，该函数模拟了将新输入放入滤波器并行进一个时钟周期。\n",
    "\n",
    "### 更新寄存器\n",
    "`pseudoRegisters = value :: pseudoRegisters.take(taps.length - 1)`这一行首先使用列表的`take`方法取出列表中除最后一个元素之外的所有元素，然后使用`::`这个列表的连接运算符将`value`添加到列表的开头。\n",
    "\n",
    "### 计算输出\n",
    "一个带有累加器的简单for循环将列表中的每个元素乘以其相应的抽头（tap）系数。仅带有`accumulator`的这一行将返回该值作为函数结果。\n",
    "\n",
    "\n",
    "## 修改我们之前的测试用于这个黄金模型\n",
    "现在，我们将使用以前的工作来确认我们的黄金模型有效。进行一些编辑就可以将我们之前的测试方法变形为..."
   ]
  },
  {
   "cell_type": "code",
   "execution_count": 5,
   "metadata": {},
   "outputs": [
    {
     "name": "stdout",
     "output_type": "stream",
     "text": [
      "out = 1\n",
      "out = 5\n",
      "out = 8\n",
      "out = 10\n",
      "out = 16\n",
      "out = 12\n"
     ]
    },
    {
     "data": {
      "text/plain": [
       "\u001b[36mfilter\u001b[39m: \u001b[32mScalaFirFilter\u001b[39m = ammonite.$sess.cmd3$Helper$ScalaFirFilter@44efb28a\n",
       "\u001b[36mout\u001b[39m: \u001b[32mInt\u001b[39m = \u001b[32m12\u001b[39m"
      ]
     },
     "execution_count": 5,
     "metadata": {},
     "output_type": "execute_result"
    }
   ],
   "source": [
    "val filter = new ScalaFirFilter(Seq(1, 1, 1, 1))\n",
    "\n",
    "var out = 0\n",
    "\n",
    "out = filter.poke(1)\n",
    "println(s\"out = $out\")\n",
    "assert(out == 1)  // 1, 0, 0, 0\n",
    "\n",
    "out = filter.poke(4)\n",
    "assert(out == 5)  // 4, 1, 0, 0\n",
    "println(s\"out = $out\")\n",
    "\n",
    "out = filter.poke(3)\n",
    "assert(out == 8)  // 3, 4, 1, 0\n",
    "println(s\"out = $out\")\n",
    "\n",
    "out = filter.poke(2)\n",
    "assert(out == 10)  // 2, 3, 4, 1\n",
    "println(s\"out = $out\")\n",
    "\n",
    "out = filter.poke(7)\n",
    "assert(out == 16)  // 7, 2, 3, 4\n",
    "println(s\"out = $out\")\n",
    "\n",
    "out = filter.poke(0)\n",
    "assert(out == 12)  // 0, 7, 2, 3\n",
    "println(s\"out = $out\")"
   ]
  },
  {
   "cell_type": "markdown",
   "metadata": {},
   "source": [
    "\n",
    "执行前面的代码表明，我们的软件模型返回的结果与之前的`My4ElementFir`相同。"
   ]
  },
  {
   "cell_type": "markdown",
   "metadata": {},
   "source": [
    "\n",
    "## 使用黄金模型（golden model）来测试电路。<a name=\"use-golden-model-as-test\"></a> \n",
    "既然我们对黄金模型有足够的信心，我们就可以重写测试从而将电路输出与黄金模型的输出进行比较，而不必使用费力的手工生成的测试用例。\n",
    "接下来是快速实现的第一步。"
   ]
  },
  {
   "cell_type": "code",
   "execution_count": 6,
   "metadata": {},
   "outputs": [
    {
     "name": "stdout",
     "output_type": "stream",
     "text": [
      "[\u001b[35minfo\u001b[0m] [0.004] Elaborating design...\n",
      "[\u001b[35minfo\u001b[0m] [0.969] Done elaborating.\n",
      "Total FIRRTL Compile Time: 598.5 ms\n",
      "Total FIRRTL Compile Time: 80.6 ms\n",
      "End of dependency graph\n",
      "Circuit state created\n",
      "[\u001b[35minfo\u001b[0m] [0.001] SEED 1572488622080\n",
      "test cmd2HelperMy4ElementFir Success: 100 tests passed in 105 cycles taking 0.142455 seconds\n",
      "[\u001b[35minfo\u001b[0m] [0.118] RAN 100 CYCLES PASSED\n"
     ]
    },
    {
     "data": {
      "text/plain": [
       "\u001b[36mgoldenModel\u001b[39m: \u001b[32mScalaFirFilter\u001b[39m = ammonite.$sess.cmd3$Helper$ScalaFirFilter@b7d7ea1\n",
       "\u001b[36mres5_1\u001b[39m: \u001b[32mBoolean\u001b[39m = true"
      ]
     },
     "execution_count": 6,
     "metadata": {},
     "output_type": "execute_result"
    }
   ],
   "source": [
    "val goldenModel = new ScalaFirFilter(Seq(1, 1, 1, 1))\n",
    "\n",
    "Driver(() => new My4ElementFir(1, 1, 1, 1)) {\n",
    "  c => new PeekPokeTester(c) {\n",
    "    for(i <- 0 until 100) {\n",
    "      val input = scala.util.Random.nextInt(8)\n",
    "\n",
    "      val goldenModelResult = goldenModel.poke(input)\n",
    "\n",
    "      poke(c.io.in, input)\n",
    "\n",
    "      expect(c.io.out, goldenModelResult, s\"i $i, input $input, gm $goldenModelResult, ${peek(c.io.out)}\")\n",
    "\n",
    "      step(1)\n",
    "    }\n",
    "  }\n",
    "}"
   ]
  },
  {
   "cell_type": "markdown",
   "metadata": {},
   "source": [
    "\n",
    "上面的测试运行100个时钟周期，并在每一步检查用两种不同的方法（硬件和软件）得到的结果是否一致。\n",
    "\n",
    "### 注意事项\n",
    "（实际上是我们在撰写本文时实际犯的错误。）\n",
    "\n",
    "1. 将`step`放在正确的位置。软件和硬件的执行方式不同；这很容易弄错。\n",
    "1. 此测试很弱，因为它对IO和寄存器的大小非常敏感。用软件来实现任意数据宽度的环绕（wrap）行为非常复杂。在这里，我们确保只传递适合的值。"
   ]
  },
  {
   "cell_type": "markdown",
   "metadata": {},
   "source": [
    "<span style=\"color:blue\">**示例：参数化FIR生成器**</span><br><a name=\"fir-golden-model\"></a> \n",
    "在下面，我们创建了一个新的滤波器的类，即`MyManyElementsFilter`，该类接受一个常量`Seq`用于抽头。该列表可以包含任意数量的元素。\n",
    "另外，我们添加了`bitWidth`，用于控制电路可以处理的数字的大小。\n",
    "\n",
    "为了使得长度可变，我们不得不重构寄存器的创建及其连接方式。\n",
    "下面只用了所有容器的方法中的一部分。\n",
    "后面的几节将说明如何更简洁同时也更清晰地表达该行为。"
   ]
  },
  {
   "cell_type": "code",
   "execution_count": 7,
   "metadata": {},
   "outputs": [
    {
     "data": {
      "text/plain": [
       "defined \u001b[32mclass\u001b[39m \u001b[36mMyManyElementFir\u001b[39m"
      ]
     },
     "execution_count": 7,
     "metadata": {},
     "output_type": "execute_result"
    }
   ],
   "source": [
    "class MyManyElementFir(consts: Seq[Int], bitWidth: Int) extends Module {\n",
    "  val io = IO(new Bundle {\n",
    "    val in = Input(UInt(bitWidth.W))\n",
    "    val out = Output(UInt(bitWidth.W))\n",
    "  })\n",
    "\n",
    "  val regs = mutable.ArrayBuffer[UInt]()\n",
    "  for(i <- 0 until consts.length) {\n",
    "      if(i == 0) regs += io.in\n",
    "      else       regs += RegNext(regs(i - 1), 0.U)\n",
    "  }\n",
    "  \n",
    "  val muls = mutable.ArrayBuffer[UInt]()\n",
    "  for(i <- 0 until consts.length) {\n",
    "      muls += regs(i) * consts(i).U\n",
    "  }\n",
    "\n",
    "  val scan = mutable.ArrayBuffer[UInt]()\n",
    "  for(i <- 0 until consts.length) {\n",
    "      if(i == 0) scan += muls(i)\n",
    "      else scan += muls(i) + scan(i - 1)\n",
    "  }\n",
    "\n",
    "  io.out := scan.last\n",
    "}"
   ]
  },
  {
   "cell_type": "markdown",
   "metadata": {},
   "source": [
    "#### 我们是怎么做到的\n",
    "从第7、13和18行开始，共有三个并行的部分。\n",
    "我们使用一种名为`ArrayBuffer`的Scala容器类型。\n",
    "`ArrayBuffer`允许您使用`+=`运算符来添加元素（也可以插入和删除，但我们不需要）。\n",
    "首先，我们创建一个`ArrayBuffer`的`regs`，其元素将为`UInt`类型。\n",
    "然后遍历抽头，将输入添加为第一个元素，然后使用`RegNext`创建寄存器，将该寄存器的输入连接到前一个寄存器（`regs(i-1)`），并将其初始化为无符号的0（`0.U`）。\n",
    "这些寄存器用来保留之前输入的值。\n",
    "\n",
    "接下来，我们创建另一个`UInt`类型的另一个`ArrayBuffer`-`muls`。\n",
    "`muls`的每个元素都是一个节点，其第i个元素是`regs(i)`和 `const(i)`的乘积。\n",
    "\n",
    "注意`scan.last`方法的使用。\n",
    "它用来获取容器的最后一个元素，是之前构造`regs`时采用的`regs(i - 1)`的另一种更优雅的替代方案。"
   ]
  },
  {
   "cell_type": "markdown",
   "metadata": {},
   "source": [
    "### 它的行为与`My4ElementFir`相同吗？\n",
    "新版本的第一个测试是看它是否可以通过我们刚刚应于`My4ElementFir`的测试。\n",
    "我们创建一个`MyManyElementFir`的实例，并通过它运行更多数据。"
   ]
  },
  {
   "cell_type": "code",
   "execution_count": 8,
   "metadata": {},
   "outputs": [
    {
     "name": "stdout",
     "output_type": "stream",
     "text": [
      "[\u001b[35minfo\u001b[0m] [0.000] Elaborating design...\n",
      "[\u001b[35minfo\u001b[0m] [0.014] Done elaborating.\n",
      "Total FIRRTL Compile Time: 58.3 ms\n",
      "Total FIRRTL Compile Time: 55.5 ms\n",
      "End of dependency graph\n",
      "Circuit state created\n",
      "[\u001b[35minfo\u001b[0m] [0.000] SEED 1572488626575\n",
      "test cmd6HelperMyManyElementFir Success: 100 tests passed in 105 cycles taking 0.061406 seconds\n",
      "[\u001b[35minfo\u001b[0m] [0.059] RAN 100 CYCLES PASSED\n"
     ]
    },
    {
     "data": {
      "text/plain": [
       "\u001b[36mgoldenModel\u001b[39m: \u001b[32mScalaFirFilter\u001b[39m = ammonite.$sess.cmd3$Helper$ScalaFirFilter@2848fd38\n",
       "\u001b[36mres7_1\u001b[39m: \u001b[32mBoolean\u001b[39m = true"
      ]
     },
     "execution_count": 8,
     "metadata": {},
     "output_type": "execute_result"
    }
   ],
   "source": [
    "val goldenModel = new ScalaFirFilter(Seq(1, 1, 1, 1))\n",
    "\n",
    "Driver(() => new MyManyElementFir(Seq(1, 1, 1, 1), 8)) {\n",
    "  c => new PeekPokeTester(c) {\n",
    "    for(i <- 0 until 100) {\n",
    "      val input = scala.util.Random.nextInt(8)\n",
    "\n",
    "      val goldenModelResult = goldenModel.poke(input)\n",
    "\n",
    "      poke(c.io.in, input)\n",
    "\n",
    "      expect(c.io.out, goldenModelResult, s\"i $i, input $input, gm $goldenModelResult, ${peek(c.io.out)}\")\n",
    "\n",
    "      step(1)\n",
    "    }\n",
    "  }\n",
    "}"
   ]
  },
  {
   "cell_type": "markdown",
   "metadata": {},
   "source": [
    "### 现在让我们测试一堆不同大小的FIR滤波器\n",
    "我们创建了一些辅助函数：`r`用来生成一个随机数；`runOneTest`会为一组特定的抽头（tap）创建一个黄金软件模型和一个滤波器的硬件仿真，然后运行至少两倍于抽头的数目的测试数据。"
   ]
  },
  {
   "cell_type": "code",
   "execution_count": 9,
   "metadata": {},
   "outputs": [
    {
     "name": "stdout",
     "output_type": "stream",
     "text": [
      "[\u001b[35minfo\u001b[0m] [0.000] Elaborating design...\n",
      "[\u001b[35minfo\u001b[0m] [0.074] Done elaborating.\n",
      "Total FIRRTL Compile Time: 46.8 ms\n",
      "Total FIRRTL Compile Time: 39.2 ms\n",
      "End of dependency graph\n",
      "Circuit state created\n",
      "[\u001b[35minfo\u001b[0m] [0.000] SEED 1572488627334\n",
      "test cmd6HelperMyManyElementFir Success: 4 tests passed in 9 cycles taking 0.006255 seconds\n",
      "[\u001b[35minfo\u001b[0m] [0.005] RAN 4 CYCLES PASSED\n",
      "[\u001b[35minfo\u001b[0m] [0.000] Elaborating design...\n",
      "[\u001b[35minfo\u001b[0m] [0.012] Done elaborating.\n",
      "Total FIRRTL Compile Time: 92.4 ms\n",
      "Total FIRRTL Compile Time: 71.0 ms\n",
      "End of dependency graph\n",
      "Circuit state created\n",
      "[\u001b[35minfo\u001b[0m] [0.000] SEED 1572488627591\n",
      "test cmd6HelperMyManyElementFir Success: 24 tests passed in 29 cycles taking 0.041233 seconds\n",
      "[\u001b[35minfo\u001b[0m] [0.036] RAN 24 CYCLES PASSED\n",
      "[\u001b[35minfo\u001b[0m] [0.000] Elaborating design...\n",
      "[\u001b[35minfo\u001b[0m] [0.015] Done elaborating.\n",
      "Total FIRRTL Compile Time: 108.6 ms\n",
      "Total FIRRTL Compile Time: 111.8 ms\n",
      "End of dependency graph\n",
      "Circuit state created\n",
      "[\u001b[35minfo\u001b[0m] [0.000] SEED 1572488627969\n",
      "test cmd6HelperMyManyElementFir Success: 44 tests passed in 49 cycles taking 0.074680 seconds\n",
      "[\u001b[35minfo\u001b[0m] [0.069] RAN 44 CYCLES PASSED\n",
      "[\u001b[35minfo\u001b[0m] [0.000] Elaborating design...\n",
      "[\u001b[35minfo\u001b[0m] [0.012] Done elaborating.\n",
      "Total FIRRTL Compile Time: 109.2 ms\n",
      "Total FIRRTL Compile Time: 92.4 ms\n",
      "End of dependency graph\n",
      "Circuit state created\n",
      "[\u001b[35minfo\u001b[0m] [0.000] SEED 1572488628486\n",
      "test cmd6HelperMyManyElementFir Success: 64 tests passed in 69 cycles taking 0.100976 seconds\n",
      "[\u001b[35minfo\u001b[0m] [0.095] RAN 64 CYCLES PASSED\n",
      "[\u001b[35minfo\u001b[0m] [0.000] Elaborating design...\n",
      "[\u001b[35minfo\u001b[0m] [0.014] Done elaborating.\n",
      "Total FIRRTL Compile Time: 160.7 ms\n",
      "Total FIRRTL Compile Time: 155.5 ms\n",
      "End of dependency graph\n",
      "Circuit state created\n",
      "[\u001b[35minfo\u001b[0m] [0.000] SEED 1572488629000\n",
      "test cmd6HelperMyManyElementFir Success: 84 tests passed in 89 cycles taking 0.183239 seconds\n",
      "[\u001b[35minfo\u001b[0m] [0.176] RAN 84 CYCLES PASSED\n",
      "[\u001b[35minfo\u001b[0m] [0.000] Elaborating design...\n",
      "[\u001b[35minfo\u001b[0m] [0.081] Done elaborating.\n",
      "Total FIRRTL Compile Time: 125.9 ms\n",
      "Total FIRRTL Compile Time: 112.4 ms\n",
      "End of dependency graph\n",
      "Circuit state created\n",
      "[\u001b[35minfo\u001b[0m] [0.000] SEED 1572488629771\n",
      "test cmd6HelperMyManyElementFir Success: 104 tests passed in 109 cycles taking 0.220890 seconds\n",
      "[\u001b[35minfo\u001b[0m] [0.206] RAN 104 CYCLES PASSED\n",
      "[\u001b[35minfo\u001b[0m] [0.000] Elaborating design...\n",
      "[\u001b[35minfo\u001b[0m] [0.062] Done elaborating.\n",
      "Total FIRRTL Compile Time: 122.9 ms\n",
      "Total FIRRTL Compile Time: 125.2 ms\n",
      "End of dependency graph\n",
      "Circuit state created\n",
      "[\u001b[35minfo\u001b[0m] [0.000] SEED 1572488630497\n",
      "test cmd6HelperMyManyElementFir Success: 124 tests passed in 129 cycles taking 0.173279 seconds\n",
      "[\u001b[35minfo\u001b[0m] [0.166] RAN 124 CYCLES PASSED\n",
      "[\u001b[35minfo\u001b[0m] [0.000] Elaborating design...\n",
      "[\u001b[35minfo\u001b[0m] [0.010] Done elaborating.\n",
      "Total FIRRTL Compile Time: 121.8 ms\n",
      "Total FIRRTL Compile Time: 118.7 ms\n",
      "End of dependency graph\n",
      "Circuit state created\n",
      "[\u001b[35minfo\u001b[0m] [0.000] SEED 1572488631178\n",
      "test cmd6HelperMyManyElementFir Success: 144 tests passed in 149 cycles taking 0.233300 seconds\n",
      "[\u001b[35minfo\u001b[0m] [0.225] RAN 144 CYCLES PASSED\n",
      "[\u001b[35minfo\u001b[0m] [0.000] Elaborating design...\n",
      "[\u001b[35minfo\u001b[0m] [0.084] Done elaborating.\n",
      "Total FIRRTL Compile Time: 142.2 ms\n",
      "Total FIRRTL Compile Time: 118.5 ms\n",
      "End of dependency graph\n",
      "Circuit state created\n",
      "[\u001b[35minfo\u001b[0m] [0.000] SEED 1572488631859\n",
      "test cmd6HelperMyManyElementFir Success: 164 tests passed in 169 cycles taking 0.285641 seconds\n",
      "[\u001b[35minfo\u001b[0m] [0.280] RAN 164 CYCLES PASSED\n",
      "[\u001b[35minfo\u001b[0m] [0.000] Elaborating design...\n",
      "[\u001b[35minfo\u001b[0m] [0.057] Done elaborating.\n",
      "Total FIRRTL Compile Time: 122.2 ms\n",
      "Total FIRRTL Compile Time: 130.1 ms\n",
      "End of dependency graph\n",
      "Circuit state created\n",
      "[\u001b[35minfo\u001b[0m] [0.000] SEED 1572488632687\n",
      "test cmd6HelperMyManyElementFir Success: 184 tests passed in 189 cycles taking 0.343599 seconds\n",
      "[\u001b[35minfo\u001b[0m] [0.336] RAN 184 CYCLES PASSED\n"
     ]
    },
    {
     "data": {
      "text/plain": [
       "defined \u001b[32mfunction\u001b[39m \u001b[36mr\u001b[39m\n",
       "defined \u001b[32mfunction\u001b[39m \u001b[36mrunOneTest\u001b[39m"
      ]
     },
     "execution_count": 9,
     "metadata": {},
     "output_type": "execute_result"
    }
   ],
   "source": [
    "/** 用于生成随机数的方便函数 \n",
    "  */\n",
    "def r(): Int = {\n",
    "  scala.util.Random.nextInt(1024)\n",
    "}\n",
    "\n",
    "/**\n",
    "  * 运行测试对比软件和硬件的滤波器输出 \n",
    "  * 运行次数至少抽头数目的两倍 2 * taps.length\n",
    "  */\n",
    "def runOneTest(taps: Seq[Int]) {\n",
    "  val goldenModel = new ScalaFirFilter(taps)\n",
    "\n",
    "  Driver(() => new MyManyElementFir(taps, 32)) {\n",
    "    c => new PeekPokeTester(c) {\n",
    "      for(i <- 0 until 2 * taps.length) {\n",
    "        val input = r()\n",
    "\n",
    "        val goldenModelResult = goldenModel.poke(input)\n",
    "\n",
    "        poke(c.io.in, input)\n",
    "\n",
    "        expect(c.io.out, goldenModelResult, s\"i $i, input $input, gm $goldenModelResult, ${peek(c.io.out)}\")\n",
    "\n",
    "        step(1)\n",
    "      }\n",
    "    }\n",
    "  }\n",
    "}\n",
    "\n",
    "for(tapSize <- 2 until 100 by 10) {\n",
    "  val taps = Seq.fill(tapSize)(r())  // 创建一系列的随机参数\n",
    "\n",
    "  runOneTest(taps)\n",
    "}"
   ]
  },
  {
   "cell_type": "markdown",
   "metadata": {},
   "source": [
    "### 只是为了好玩，我们来做一个更大的FIR滤波器\n",
    "以下将在500抽头上运行单个测试\n",
    "FIR滤波器。运行可能需要一分钟左右的时间。"
   ]
  },
  {
   "cell_type": "code",
   "execution_count": 10,
   "metadata": {},
   "outputs": [
    {
     "name": "stdout",
     "output_type": "stream",
     "text": [
      "[\u001b[35minfo\u001b[0m] [0.000] Elaborating design...\n",
      "[\u001b[35minfo\u001b[0m] [0.095] Done elaborating.\n",
      "Total FIRRTL Compile Time: 708.0 ms\n",
      "Total FIRRTL Compile Time: 630.4 ms\n",
      "End of dependency graph\n",
      "Circuit state created\n",
      "[\u001b[35minfo\u001b[0m] [0.000] SEED 1572488633741\n",
      "test cmd6HelperMyManyElementFir Success: 1000 tests passed in 1005 cycles taking 8.624099 seconds\n",
      "[\u001b[35minfo\u001b[0m] [8.571] RAN 1000 CYCLES PASSED\n"
     ]
    }
   ],
   "source": [
    "runOneTest(Seq.fill(500)(r()))"
   ]
  },
  {
   "cell_type": "code",
   "execution_count": 11,
   "metadata": {},
   "outputs": [
    {
     "name": "stdout",
     "output_type": "stream",
     "text": [
      "[\u001b[35minfo\u001b[0m] [0.000] Elaborating design...\n",
      "[\u001b[35minfo\u001b[0m] [0.068] Done elaborating.\n",
      "Total FIRRTL Compile Time: 534.3 ms\n",
      "Total FIRRTL Compile Time: 564.5 ms\n",
      "End of dependency graph\n",
      "Circuit state created\n",
      "[\u001b[35minfo\u001b[0m] [0.000] SEED 1572488645095\n",
      "test cmd6HelperMyManyElementFir Success: 100 tests passed in 105 cycles taking 0.972853 seconds\n",
      "[\u001b[35minfo\u001b[0m] [0.935] RAN 100 CYCLES PASSED\n"
     ]
    },
    {
     "data": {
      "text/plain": [
       "\u001b[36mtaps\u001b[39m: \u001b[32mSeq\u001b[39m[\u001b[32mInt\u001b[39m] = \u001b[33mList\u001b[39m(\n",
       "  \u001b[32m848\u001b[39m,\n",
       "  \u001b[32m161\u001b[39m,\n",
       "  \u001b[32m217\u001b[39m,\n",
       "  \u001b[32m157\u001b[39m,\n",
       "  \u001b[32m669\u001b[39m,\n",
       "  \u001b[32m383\u001b[39m,\n",
       "  \u001b[32m47\u001b[39m,\n",
       "  \u001b[32m752\u001b[39m,\n",
       "  \u001b[32m294\u001b[39m,\n",
       "  \u001b[32m104\u001b[39m,\n",
       "  \u001b[32m604\u001b[39m,\n",
       "  \u001b[32m842\u001b[39m,\n",
       "  \u001b[32m188\u001b[39m,\n",
       "  \u001b[32m221\u001b[39m,\n",
       "  \u001b[32m292\u001b[39m,\n",
       "  \u001b[32m724\u001b[39m,\n",
       "  \u001b[32m995\u001b[39m,\n",
       "  \u001b[32m250\u001b[39m,\n",
       "  \u001b[32m52\u001b[39m,\n",
       "  \u001b[32m923\u001b[39m,\n",
       "  \u001b[32m923\u001b[39m,\n",
       "  \u001b[32m514\u001b[39m,\n",
       "  \u001b[32m12\u001b[39m,\n",
       "  \u001b[32m641\u001b[39m,\n",
       "  \u001b[32m622\u001b[39m,\n",
       "  \u001b[32m660\u001b[39m,\n",
       "  \u001b[32m34\u001b[39m,\n",
       "  \u001b[32m903\u001b[39m,\n",
       "  \u001b[32m631\u001b[39m,\n",
       "  \u001b[32m842\u001b[39m,\n",
       "  \u001b[32m1012\u001b[39m,\n",
       "  \u001b[32m83\u001b[39m,\n",
       "  \u001b[32m236\u001b[39m,\n",
       "  \u001b[32m71\u001b[39m,\n",
       "  \u001b[32m197\u001b[39m,\n",
       "  \u001b[32m202\u001b[39m,\n",
       "  \u001b[32m962\u001b[39m,\n",
       "  \u001b[32m816\u001b[39m,\n",
       "...\n",
       "\u001b[36mgoldenModel\u001b[39m: \u001b[32mScalaFirFilter\u001b[39m = ammonite.$sess.cmd3$Helper$ScalaFirFilter@46f36148\n",
       "\u001b[36mres10_2\u001b[39m: \u001b[32mBoolean\u001b[39m = true"
      ]
     },
     "execution_count": 11,
     "metadata": {},
     "output_type": "execute_result"
    }
   ],
   "source": [
    "val taps = Seq.fill(500)(r())\n",
    "\n",
    "val goldenModel = new ScalaFirFilter(taps)\n",
    "\n",
    "Driver(() => new MyManyElementFir(taps, 32)) {\n",
    "  c => new PeekPokeTester(c) {\n",
    "    for(i <- 0 until 100) {\n",
    "      val input = r()\n",
    "\n",
    "      val goldenModelResult = goldenModel.poke(input)\n",
    "\n",
    "      poke(c.io.in, input)\n",
    "\n",
    "      expect(c.io.out, goldenModelResult, s\"i $i, input $input, gm $goldenModelResult, ${peek(c.io.out)}\")\n",
    "\n",
    "      step(1)\n",
    "    }\n",
    "  }\n",
    "}"
   ]
  },
  {
   "cell_type": "markdown",
   "metadata": {},
   "source": [
    "---\n",
    "# 硬件容器\n",
    "\n",
    "<span style=\"color:blue\"> **示例：在我们的FIR滤波器中添加运行时可配置的抽头（tap）** </span><br>\n",
    "下面的代码在FIR生成器的IO里添加了一个额外的`consts`向量，该向量允许在电路生成后从外部更改参数。\n",
    "这是通过Chisel的容器类型`Vec`完成的。\n",
    "`Vec`支持许多Scala容器的方法，但它只能包含Chisel硬件元素。\n",
    "`Vec`仅应该在普通Scala容器用不了的情况下使用。\n",
    "基本上，这是以下两种情况之一：\n",
    "1. 您需要在Bundle（通常是将用作IO的Bundle）中使用容器。\n",
    "1. 您需要通过属于硬件的索引来访问容器（例如寄存器组register file）。"
   ]
  },
  {
   "cell_type": "code",
   "execution_count": 12,
   "metadata": {},
   "outputs": [
    {
     "data": {
      "text/plain": [
       "defined \u001b[32mclass\u001b[39m \u001b[36mMyManyDynamicElementVecFir\u001b[39m"
      ]
     },
     "execution_count": 12,
     "metadata": {},
     "output_type": "execute_result"
    }
   ],
   "source": [
    "class MyManyDynamicElementVecFir(length: Int) extends Module {\n",
    "  val io = IO(new Bundle {\n",
    "    val in = Input(UInt(8.W))\n",
    "    val out = Output(UInt(8.W))\n",
    "    val consts = Input(Vec(length, UInt(8.W)))\n",
    "  })\n",
    "\n",
    "  // Reference solution\n",
    "  val regs = RegInit(VecInit(Seq.fill(length - 1)(0.U(8.W))))\n",
    "  for(i <- 0 until length - 1) {\n",
    "      if(i == 0) regs(i) := io.in\n",
    "      else       regs(i) := regs(i - 1)\n",
    "  }\n",
    "  \n",
    "  val muls = Wire(Vec(length, UInt(8.W)))\n",
    "  for(i <- 0 until length) {\n",
    "      if(i == 0) muls(i) := io.in * io.consts(i)\n",
    "      else       muls(i) := regs(i - 1) * io.consts(i)\n",
    "  }\n",
    "\n",
    "  val scan = Wire(Vec(length, UInt(8.W)))\n",
    "  for(i <- 0 until length) {\n",
    "      if(i == 0) scan(i) := muls(i)\n",
    "      else scan(i) := muls(i) + scan(i - 1)\n",
    "  }\n",
    "\n",
    "  io.out := scan(length - 1)\n",
    "}"
   ]
  },
  {
   "cell_type": "code",
   "execution_count": 13,
   "metadata": {},
   "outputs": [
    {
     "name": "stdout",
     "output_type": "stream",
     "text": [
      "[\u001b[35minfo\u001b[0m] [0.000] Elaborating design...\n",
      "[\u001b[35minfo\u001b[0m] [0.070] Done elaborating.\n",
      "Total FIRRTL Compile Time: 66.3 ms\n",
      "Total FIRRTL Compile Time: 42.8 ms\n",
      "End of dependency graph\n",
      "Circuit state created\n",
      "[\u001b[35minfo\u001b[0m] [0.000] SEED 1572488648836\n",
      "test cmd11HelperMyManyDynamicElementVecFir Success: 100 tests passed in 105 cycles taking 0.038679 seconds\n",
      "[\u001b[35minfo\u001b[0m] [0.037] RAN 100 CYCLES PASSED\n"
     ]
    },
    {
     "data": {
      "text/plain": [
       "\u001b[36mgoldenModel\u001b[39m: \u001b[32mScalaFirFilter\u001b[39m = ammonite.$sess.cmd3$Helper$ScalaFirFilter@5a7fc4e0\n",
       "\u001b[36mres12_1\u001b[39m: \u001b[32mBoolean\u001b[39m = true"
      ]
     },
     "execution_count": 13,
     "metadata": {},
     "output_type": "execute_result"
    }
   ],
   "source": [
    "val goldenModel = new ScalaFirFilter(Seq(1, 1, 1, 1))\n",
    "\n",
    "Driver(() => new MyManyDynamicElementVecFir(4)) {\n",
    "  c => new PeekPokeTester(c) {\n",
    "    poke(c.io.consts(0), 1)\n",
    "    poke(c.io.consts(1), 1)\n",
    "    poke(c.io.consts(2), 1)\n",
    "    poke(c.io.consts(3), 1)\n",
    "    for(i <- 0 until 100) {\n",
    "      val input = scala.util.Random.nextInt(8)\n",
    "\n",
    "      val goldenModelResult = goldenModel.poke(input)\n",
    "\n",
    "      poke(c.io.in, input)\n",
    "\n",
    "      expect(c.io.out, goldenModelResult, s\"i $i, input $input, gm $goldenModelResult, ${peek(c.io.out)}\")\n",
    "\n",
    "      step(1)\n",
    "    }\n",
    "  }\n",
    "}"
   ]
  },
  {
   "cell_type": "markdown",
   "metadata": {},
   "source": [
    "<span style=\"color:red\">**练习：32位RISC-V处理器**</span><br><a name=\"fir-golden-model\"></a>\n",
    "\n",
    "\n",
    "[寄存器组（register file）](https://en.wikipedia.org/wiki/Register_file)是处理器中重要的组成部分。\n",
    "寄存器组是可以通过多个读或写端口读取或写入的寄存器阵列。\n",
    "每个端口都包含一个地址和数据字段。\n",
    "\n",
    "[RISC-V指令集体系结构](https://riscv.org/specifications/)定义了多个指令集的变体，其中最简单的变体称为RV32I。\n",
    "RV32I包含一个具有32个32位寄存器的寄存器阵列。\n",
    "**无论您在索引0的位置写了什么，索引0处的寄存器（第一个寄存器）读取值始终为零**（这是为了方便的使用0这个值）。\n",
    "\n",
    "这个练习为RV32I实现寄存器组（register file），它具有一个写入端口和若干个读取端口（读取端口的数目是参数）。\n",
    "仅在`wen`（写使能）被置上时才执行写操作。"
   ]
  },
  {
   "cell_type": "code",
   "execution_count": null,
   "metadata": {},
   "outputs": [],
   "source": [
    "class RegisterFile(readPorts: Int) extends Module {\n",
    "    require(readPorts >= 0)\n",
    "    val io = IO(new Bundle {\n",
    "        val wen   = Input(Bool())\n",
    "        val waddr = Input(UInt(5.W))\n",
    "        val wdata = Input(UInt(32.W))\n",
    "        val raddr = Input(Vec(readPorts, UInt(5.W)))\n",
    "        val rdata = Output(Vec(readPorts, UInt(32.W)))\n",
    "    })\n",
    "    \n",
    "    // 包含UInt类型向量的寄存器\n",
    "    val reg = RegInit(VecInit(Seq.fill(32)(0.U(32.W))))\n",
    "\n",
    "}"
   ]
  },
  {
   "cell_type": "code",
   "execution_count": null,
   "metadata": {},
   "outputs": [],
   "source": [
    "chisel3.iotesters.Driver(() => new RegisterFile(2) ) { c => new PeekPokeTester(c) {\n",
    "    def readExpect(addr: Int, value: Int, port: Int = 0): Unit = {\n",
    "        poke(c.io.raddr(port), addr)\n",
    "        expect(c.io.rdata(port), value)\n",
    "    }\n",
    "    def write(addr: Int, value: Int): Unit = {\n",
    "        poke(c.io.wen, 1)\n",
    "        poke(c.io.wdata, value)\n",
    "        poke(c.io.waddr, addr)\n",
    "        step(1)\n",
    "        poke(c.io.wen, 0)\n",
    "    }\n",
    "    // 初始化的时候所有东西都应该是 0\n",
    "    for (i <- 0 until 32) {\n",
    "        readExpect(i, 0, port = 0)\n",
    "        readExpect(i, 0, port = 1)\n",
    "    }\n",
    "\n",
    "    // 写入 5 * addr + 3\n",
    "    for (i <- 0 until 32) {\n",
    "        write(i, 5 * i + 3)\n",
    "    }\n",
    "\n",
    "    // 检查上面的写入是否成功\n",
    "    for (i <- 0 until 32) {\n",
    "        readExpect(i, if (i == 0) 0 else 5 * i + 3, port = i % 2)\n",
    "    }\n",
    "\n",
    "}}"
   ]
  },
  {
   "cell_type": "markdown",
   "metadata": {},
   "source": [
    "<div id=\"container\"><section id=\"accordion\"><div>\n",
    "<input type=\"checkbox\" id=\"check-1\" />\n",
    "<label for=\"check-1\"><strong>答案</strong></label>\n",
    "<article>\n",
    "<pre style=\"background-color:#f7f7f7\">\n",
    "    when (io.wen) {\n",
    "        reg(io.waddr) := io.wdata\n",
    "    }\n",
    "    for (i &lt;- 0 until readPorts) {\n",
    "        when (io.raddr(i) === 0.U) {\n",
    "            io.rdata(i) := 0.U\n",
    "        } .otherwise {\n",
    "            io.rdata(i) := reg(io.raddr(i))\n",
    "        }\n",
    "    }\n",
    "\n",
    "</pre></article></div></section></div>"
   ]
  },
  {
   "cell_type": "markdown",
   "metadata": {},
   "source": [
    "---\n",
    "# 本节结束!\n",
    "\n",
    "[返回顶部](#top)"
   ]
  }
 ],
 "metadata": {
  "kernelspec": {
   "display_name": "Scala",
   "language": "scala",
   "name": "scala"
  },
  "language_info": {
   "codemirror_mode": "text/x-scala",
   "file_extension": ".scala",
   "mimetype": "text/x-scala",
   "name": "scala",
   "nbconvert_exporter": "script",
   "version": "2.12.8"
  }
 },
 "nbformat": 4,
 "nbformat_minor": 2
}
